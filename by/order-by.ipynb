{
 "cells": [
  {
   "cell_type": "markdown",
   "id": "bb55a6ad",
   "metadata": {
    "papermill": {
     "duration": 0.005578,
     "end_time": "2024-05-25T23:45:39.358445",
     "exception": false,
     "start_time": "2024-05-25T23:45:39.352867",
     "status": "completed"
    },
    "tags": []
   },
   "source": [
    "**This notebook is an exercise in the [SQL](https://www.kaggle.com/learn/intro-to-sql) course.  You can reference the tutorial at [this link](https://www.kaggle.com/dansbecker/order-by).**\n",
    "\n",
    "---\n"
   ]
  },
  {
   "cell_type": "markdown",
   "id": "1e0eb8da",
   "metadata": {
    "papermill": {
     "duration": 0.0049,
     "end_time": "2024-05-25T23:45:39.369916",
     "exception": false,
     "start_time": "2024-05-25T23:45:39.365016",
     "status": "completed"
    },
    "tags": []
   },
   "source": [
    "# Introduction\n",
    "\n",
    "You've built up your SQL skills enough that the remaining hands-on exercises will use different datasets than you see in the explanations. If you need to get to know a new dataset, you can run a couple of **SELECT** queries to extract and review the data you need. \n",
    "\n",
    "The next exercises are also more challenging than what you've done so far. Don't worry, you are ready for it!\n",
    "\n",
    "Run the code in the following cell to get everything set up:"
   ]
  },
  {
   "cell_type": "code",
   "execution_count": 1,
   "id": "012eca01",
   "metadata": {
    "execution": {
     "iopub.execute_input": "2024-05-25T23:45:39.382813Z",
     "iopub.status.busy": "2024-05-25T23:45:39.381793Z",
     "iopub.status.idle": "2024-05-25T23:45:50.385590Z",
     "shell.execute_reply": "2024-05-25T23:45:50.384413Z"
    },
    "papermill": {
     "duration": 11.013357,
     "end_time": "2024-05-25T23:45:50.388542",
     "exception": false,
     "start_time": "2024-05-25T23:45:39.375185",
     "status": "completed"
    },
    "tags": []
   },
   "outputs": [
    {
     "name": "stdout",
     "output_type": "stream",
     "text": [
      "Using Kaggle's public dataset BigQuery integration.\n",
      "Setup Complete\n"
     ]
    }
   ],
   "source": [
    "# Set up feedback system\n",
    "from learntools.core import binder\n",
    "binder.bind(globals())\n",
    "from learntools.sql.ex4 import *\n",
    "print(\"Setup Complete\")"
   ]
  },
  {
   "cell_type": "markdown",
   "id": "31dfaaa8",
   "metadata": {
    "papermill": {
     "duration": 0.005056,
     "end_time": "2024-05-25T23:45:50.399513",
     "exception": false,
     "start_time": "2024-05-25T23:45:50.394457",
     "status": "completed"
    },
    "tags": []
   },
   "source": [
    "The World Bank has made tons of interesting education data available through BigQuery. Run the following cell to see the first few rows of the `international_education` table from the `world_bank_intl_education` dataset."
   ]
  },
  {
   "cell_type": "code",
   "execution_count": 2,
   "id": "b13f0227",
   "metadata": {
    "execution": {
     "iopub.execute_input": "2024-05-25T23:45:50.412932Z",
     "iopub.status.busy": "2024-05-25T23:45:50.411501Z",
     "iopub.status.idle": "2024-05-25T23:45:53.491669Z",
     "shell.execute_reply": "2024-05-25T23:45:53.490592Z"
    },
    "papermill": {
     "duration": 3.089489,
     "end_time": "2024-05-25T23:45:53.494377",
     "exception": false,
     "start_time": "2024-05-25T23:45:50.404888",
     "status": "completed"
    },
    "tags": []
   },
   "outputs": [
    {
     "name": "stdout",
     "output_type": "stream",
     "text": [
      "Using Kaggle's public dataset BigQuery integration.\n"
     ]
    },
    {
     "data": {
      "text/html": [
       "<div>\n",
       "<style scoped>\n",
       "    .dataframe tbody tr th:only-of-type {\n",
       "        vertical-align: middle;\n",
       "    }\n",
       "\n",
       "    .dataframe tbody tr th {\n",
       "        vertical-align: top;\n",
       "    }\n",
       "\n",
       "    .dataframe thead th {\n",
       "        text-align: right;\n",
       "    }\n",
       "</style>\n",
       "<table border=\"1\" class=\"dataframe\">\n",
       "  <thead>\n",
       "    <tr style=\"text-align: right;\">\n",
       "      <th></th>\n",
       "      <th>country_name</th>\n",
       "      <th>country_code</th>\n",
       "      <th>indicator_name</th>\n",
       "      <th>indicator_code</th>\n",
       "      <th>value</th>\n",
       "      <th>year</th>\n",
       "    </tr>\n",
       "  </thead>\n",
       "  <tbody>\n",
       "    <tr>\n",
       "      <th>0</th>\n",
       "      <td>Chad</td>\n",
       "      <td>TCD</td>\n",
       "      <td>Enrolment in lower secondary education, both s...</td>\n",
       "      <td>UIS.E.2</td>\n",
       "      <td>321921.000000</td>\n",
       "      <td>2012</td>\n",
       "    </tr>\n",
       "    <tr>\n",
       "      <th>1</th>\n",
       "      <td>Chad</td>\n",
       "      <td>TCD</td>\n",
       "      <td>Enrolment in upper secondary education, both s...</td>\n",
       "      <td>UIS.E.3</td>\n",
       "      <td>68809.000000</td>\n",
       "      <td>2006</td>\n",
       "    </tr>\n",
       "    <tr>\n",
       "      <th>2</th>\n",
       "      <td>Chad</td>\n",
       "      <td>TCD</td>\n",
       "      <td>Enrolment in upper secondary education, both s...</td>\n",
       "      <td>UIS.E.3</td>\n",
       "      <td>30551.000000</td>\n",
       "      <td>1999</td>\n",
       "    </tr>\n",
       "    <tr>\n",
       "      <th>3</th>\n",
       "      <td>Chad</td>\n",
       "      <td>TCD</td>\n",
       "      <td>Enrolment in upper secondary education, both s...</td>\n",
       "      <td>UIS.E.3</td>\n",
       "      <td>79784.000000</td>\n",
       "      <td>2007</td>\n",
       "    </tr>\n",
       "    <tr>\n",
       "      <th>4</th>\n",
       "      <td>Chad</td>\n",
       "      <td>TCD</td>\n",
       "      <td>Repeaters in primary education, all grades, bo...</td>\n",
       "      <td>UIS.R.1</td>\n",
       "      <td>282699.000000</td>\n",
       "      <td>2006</td>\n",
       "    </tr>\n",
       "    <tr>\n",
       "      <th>...</th>\n",
       "      <td>...</td>\n",
       "      <td>...</td>\n",
       "      <td>...</td>\n",
       "      <td>...</td>\n",
       "      <td>...</td>\n",
       "      <td>...</td>\n",
       "    </tr>\n",
       "    <tr>\n",
       "      <th>95</th>\n",
       "      <td>Chad</td>\n",
       "      <td>TCD</td>\n",
       "      <td>Gross enrolment ratio, primary and lower secon...</td>\n",
       "      <td>UIS.GER.12</td>\n",
       "      <td>51.176472</td>\n",
       "      <td>2002</td>\n",
       "    </tr>\n",
       "    <tr>\n",
       "      <th>96</th>\n",
       "      <td>Chad</td>\n",
       "      <td>TCD</td>\n",
       "      <td>Gross enrolment ratio, primary and lower secon...</td>\n",
       "      <td>UIS.GER.12</td>\n",
       "      <td>69.717331</td>\n",
       "      <td>2012</td>\n",
       "    </tr>\n",
       "    <tr>\n",
       "      <th>97</th>\n",
       "      <td>Chad</td>\n",
       "      <td>TCD</td>\n",
       "      <td>Adjusted net enrolment rate, lower secondary, ...</td>\n",
       "      <td>UIS.NERA.2</td>\n",
       "      <td>9.089690</td>\n",
       "      <td>2003</td>\n",
       "    </tr>\n",
       "    <tr>\n",
       "      <th>98</th>\n",
       "      <td>Chad</td>\n",
       "      <td>TCD</td>\n",
       "      <td>Adjusted net enrolment rate, lower secondary, ...</td>\n",
       "      <td>UIS.NERA.2</td>\n",
       "      <td>6.167090</td>\n",
       "      <td>2000</td>\n",
       "    </tr>\n",
       "    <tr>\n",
       "      <th>99</th>\n",
       "      <td>Chad</td>\n",
       "      <td>TCD</td>\n",
       "      <td>Total net enrolment rate, primary, both sexes (%)</td>\n",
       "      <td>UIS.NERT.1</td>\n",
       "      <td>63.131680</td>\n",
       "      <td>2011</td>\n",
       "    </tr>\n",
       "  </tbody>\n",
       "</table>\n",
       "<p>100 rows × 6 columns</p>\n",
       "</div>"
      ],
      "text/plain": [
       "   country_name country_code  \\\n",
       "0          Chad          TCD   \n",
       "1          Chad          TCD   \n",
       "2          Chad          TCD   \n",
       "3          Chad          TCD   \n",
       "4          Chad          TCD   \n",
       "..          ...          ...   \n",
       "95         Chad          TCD   \n",
       "96         Chad          TCD   \n",
       "97         Chad          TCD   \n",
       "98         Chad          TCD   \n",
       "99         Chad          TCD   \n",
       "\n",
       "                                       indicator_name indicator_code  \\\n",
       "0   Enrolment in lower secondary education, both s...        UIS.E.2   \n",
       "1   Enrolment in upper secondary education, both s...        UIS.E.3   \n",
       "2   Enrolment in upper secondary education, both s...        UIS.E.3   \n",
       "3   Enrolment in upper secondary education, both s...        UIS.E.3   \n",
       "4   Repeaters in primary education, all grades, bo...        UIS.R.1   \n",
       "..                                                ...            ...   \n",
       "95  Gross enrolment ratio, primary and lower secon...     UIS.GER.12   \n",
       "96  Gross enrolment ratio, primary and lower secon...     UIS.GER.12   \n",
       "97  Adjusted net enrolment rate, lower secondary, ...     UIS.NERA.2   \n",
       "98  Adjusted net enrolment rate, lower secondary, ...     UIS.NERA.2   \n",
       "99  Total net enrolment rate, primary, both sexes (%)     UIS.NERT.1   \n",
       "\n",
       "            value  year  \n",
       "0   321921.000000  2012  \n",
       "1    68809.000000  2006  \n",
       "2    30551.000000  1999  \n",
       "3    79784.000000  2007  \n",
       "4   282699.000000  2006  \n",
       "..            ...   ...  \n",
       "95      51.176472  2002  \n",
       "96      69.717331  2012  \n",
       "97       9.089690  2003  \n",
       "98       6.167090  2000  \n",
       "99      63.131680  2011  \n",
       "\n",
       "[100 rows x 6 columns]"
      ]
     },
     "execution_count": 2,
     "metadata": {},
     "output_type": "execute_result"
    }
   ],
   "source": [
    "from google.cloud import bigquery\n",
    "\n",
    "# Create a \"Client\" object\n",
    "client = bigquery.Client()\n",
    "\n",
    "# Construct a reference to the \"world_bank_intl_education\" dataset\n",
    "dataset_ref = client.dataset(\"world_bank_intl_education\", project=\"bigquery-public-data\")\n",
    "\n",
    "# API request - fetch the dataset\n",
    "dataset = client.get_dataset(dataset_ref)\n",
    "\n",
    "# Construct a reference to the \"international_education\" table\n",
    "table_ref = dataset_ref.table(\"international_education\")\n",
    "\n",
    "# API request - fetch the table\n",
    "table = client.get_table(table_ref)\n",
    "\n",
    "# Preview the first five lines of the \"international_education\" table\n",
    "client.list_rows(table, max_results=100).to_dataframe()"
   ]
  },
  {
   "cell_type": "markdown",
   "id": "0c29e141",
   "metadata": {
    "papermill": {
     "duration": 0.005764,
     "end_time": "2024-05-25T23:45:53.506384",
     "exception": false,
     "start_time": "2024-05-25T23:45:53.500620",
     "status": "completed"
    },
    "tags": []
   },
   "source": [
    "# Exercises\n",
    "\n",
    "The value in the `indicator_code` column describes what type of data is shown in a given row.  \n",
    "\n",
    "One interesting indicator code is `SE.XPD.TOTL.GD.ZS`, which corresponds to \"Government expenditure on education as % of GDP (%)\".\n",
    "\n",
    "### 1) Government expenditure on education\n",
    "\n",
    "Which countries spend the largest fraction of GDP on education?  \n",
    "\n",
    "To answer this question, consider only the rows in the dataset corresponding to indicator code `SE.XPD.TOTL.GD.ZS`, and write a query that returns the average value in the `value` column for each country in the dataset between the years 2010-2017 (including 2010 and 2017 in the average). \n",
    "\n",
    "Requirements:\n",
    "- Your results should have the country name rather than the country code. You will have one row for each country.\n",
    "- The aggregate function for average is **AVG()**.  Use the name `avg_ed_spending_pct` for the column created by this aggregation.\n",
    "- Order the results so the countries that spend the largest fraction of GDP on education show up first.\n",
    "\n",
    "In case it's useful to see a sample query, here's a query you saw in the tutorial (using a different dataset):\n",
    "```\n",
    "# Query to find out the number of accidents for each day of the week\n",
    "query = \"\"\"\n",
    "        SELECT COUNT(consecutive_number) AS num_accidents, \n",
    "               EXTRACT(DAYOFWEEK FROM timestamp_of_crash) AS day_of_week\n",
    "        FROM `bigquery-public-data.nhtsa_traffic_fatalities.accident_2015`\n",
    "        GROUP BY day_of_week\n",
    "        ORDER BY num_accidents DESC\n",
    "        \"\"\"\n",
    "```"
   ]
  },
  {
   "cell_type": "code",
   "execution_count": 3,
   "id": "0e655ba8",
   "metadata": {
    "execution": {
     "iopub.execute_input": "2024-05-25T23:45:53.519618Z",
     "iopub.status.busy": "2024-05-25T23:45:53.519199Z",
     "iopub.status.idle": "2024-05-25T23:45:56.063593Z",
     "shell.execute_reply": "2024-05-25T23:45:56.062419Z"
    },
    "papermill": {
     "duration": 2.553932,
     "end_time": "2024-05-25T23:45:56.066156",
     "exception": false,
     "start_time": "2024-05-25T23:45:53.512224",
     "status": "completed"
    },
    "tags": []
   },
   "outputs": [
    {
     "name": "stdout",
     "output_type": "stream",
     "text": [
      "            country_name  avg_ed_spending_pct\n",
      "0                   Cuba            12.837270\n",
      "1  Micronesia, Fed. Sts.            12.467750\n",
      "2        Solomon Islands            10.001080\n",
      "3                Moldova             8.372153\n",
      "4                Namibia             8.349610\n"
     ]
    },
    {
     "data": {
      "application/javascript": [
       "parent.postMessage({\"jupyterEvent\": \"custom.exercise_interaction\", \"data\": {\"outcomeType\": 1, \"valueTowardsCompletion\": 0.5, \"interactionType\": 1, \"questionType\": 2, \"questionId\": \"1_EducationSpending\", \"learnToolsVersion\": \"0.3.4\", \"failureMessage\": \"\", \"exceptionClass\": \"\", \"trace\": \"\"}}, \"*\")"
      ],
      "text/plain": [
       "<IPython.core.display.Javascript object>"
      ]
     },
     "metadata": {},
     "output_type": "display_data"
    },
    {
     "data": {
      "text/markdown": [
       "<span style=\"color:#33cc33\">Correct</span>"
      ],
      "text/plain": [
       "Correct"
      ]
     },
     "metadata": {},
     "output_type": "display_data"
    }
   ],
   "source": [
    "# Your code goes here\n",
    "country_spend_pct_query = \"\"\"\n",
    "                          SELECT country_name ,AVG(value) AS avg_ed_spending_pct\n",
    "                          FROM `bigquery-public-data.world_bank_intl_education.international_education`\n",
    "                          WHERE indicator_code = 'SE.XPD.TOTL.GD.ZS' and year >=2010 and year <=2017\n",
    "                          GROUP BY country_name\n",
    "                          ORDER BY  avg_ed_spending_pct DESC\n",
    "                          \"\"\"\n",
    "\n",
    "# Set up the query (cancel the query if it would use too much of \n",
    "# your quota, with the limit set to 1 GB)\n",
    "safe_config = bigquery.QueryJobConfig(maximum_bytes_billed=10**10)\n",
    "country_spend_pct_query_job = client.query(country_spend_pct_query, job_config=safe_config)\n",
    "\n",
    "# API request - run the query, and return a pandas DataFrame\n",
    "country_spending_results = country_spend_pct_query_job.to_dataframe()\n",
    "\n",
    "# View top few rows of results\n",
    "print(country_spending_results.head())\n",
    "\n",
    "# Check your answer\n",
    "q_1.check()"
   ]
  },
  {
   "cell_type": "markdown",
   "id": "da7cebf1",
   "metadata": {
    "papermill": {
     "duration": 0.006003,
     "end_time": "2024-05-25T23:45:56.078684",
     "exception": false,
     "start_time": "2024-05-25T23:45:56.072681",
     "status": "completed"
    },
    "tags": []
   },
   "source": [
    "For a hint or the solution, uncomment the appropriate line below."
   ]
  },
  {
   "cell_type": "code",
   "execution_count": 4,
   "id": "e24bce4c",
   "metadata": {
    "execution": {
     "iopub.execute_input": "2024-05-25T23:45:56.093543Z",
     "iopub.status.busy": "2024-05-25T23:45:56.092717Z",
     "iopub.status.idle": "2024-05-25T23:45:56.106268Z",
     "shell.execute_reply": "2024-05-25T23:45:56.105120Z"
    },
    "papermill": {
     "duration": 0.023886,
     "end_time": "2024-05-25T23:45:56.108852",
     "exception": false,
     "start_time": "2024-05-25T23:45:56.084966",
     "status": "completed"
    },
    "tags": []
   },
   "outputs": [
    {
     "data": {
      "application/javascript": [
       "parent.postMessage({\"jupyterEvent\": \"custom.exercise_interaction\", \"data\": {\"interactionType\": 2, \"questionType\": 2, \"questionId\": \"1_EducationSpending\", \"learnToolsVersion\": \"0.3.4\", \"valueTowardsCompletion\": 0.0, \"failureMessage\": \"\", \"exceptionClass\": \"\", \"trace\": \"\", \"outcomeType\": 4}}, \"*\")"
      ],
      "text/plain": [
       "<IPython.core.display.Javascript object>"
      ]
     },
     "metadata": {},
     "output_type": "display_data"
    },
    {
     "data": {
      "text/markdown": [
       "<span style=\"color:#3366cc\">Hint:</span> The part before `FROM` should be `SELECT country_name, AVG(value) AS avg_ed_spending_pct`."
      ],
      "text/plain": [
       "Hint: The part before `FROM` should be `SELECT country_name, AVG(value) AS avg_ed_spending_pct`."
      ]
     },
     "metadata": {},
     "output_type": "display_data"
    },
    {
     "data": {
      "application/javascript": [
       "parent.postMessage({\"jupyterEvent\": \"custom.exercise_interaction\", \"data\": {\"interactionType\": 3, \"questionType\": 2, \"questionId\": \"1_EducationSpending\", \"learnToolsVersion\": \"0.3.4\", \"valueTowardsCompletion\": 0.0, \"failureMessage\": \"\", \"exceptionClass\": \"\", \"trace\": \"\", \"outcomeType\": 4}}, \"*\")"
      ],
      "text/plain": [
       "<IPython.core.display.Javascript object>"
      ]
     },
     "metadata": {},
     "output_type": "display_data"
    },
    {
     "data": {
      "text/markdown": [
       "<span style=\"color:#33cc99\">Solution:</span> \n",
       "```python\n",
       "\n",
       "country_spend_pct_query = \"\"\"\n",
       "                          SELECT country_name, AVG(value) AS avg_ed_spending_pct\n",
       "                          FROM `bigquery-public-data.world_bank_intl_education.international_education`\n",
       "                          WHERE indicator_code = 'SE.XPD.TOTL.GD.ZS' and year >= 2010 and year <= 2017\n",
       "                          GROUP BY country_name\n",
       "                          ORDER BY avg_ed_spending_pct DESC\n",
       "                          \"\"\"\n",
       "\n",
       "\n",
       "```"
      ],
      "text/plain": [
       "Solution: \n",
       "```python\n",
       "\n",
       "country_spend_pct_query = \"\"\"\n",
       "                          SELECT country_name, AVG(value) AS avg_ed_spending_pct\n",
       "                          FROM `bigquery-public-data.world_bank_intl_education.international_education`\n",
       "                          WHERE indicator_code = 'SE.XPD.TOTL.GD.ZS' and year >= 2010 and year <= 2017\n",
       "                          GROUP BY country_name\n",
       "                          ORDER BY avg_ed_spending_pct DESC\n",
       "                          \"\"\"\n",
       "\n",
       "\n",
       "```"
      ]
     },
     "metadata": {},
     "output_type": "display_data"
    }
   ],
   "source": [
    "q_1.hint()\n",
    "q_1.solution()"
   ]
  },
  {
   "cell_type": "markdown",
   "id": "fb5762a2",
   "metadata": {
    "papermill": {
     "duration": 0.006806,
     "end_time": "2024-05-25T23:45:56.122748",
     "exception": false,
     "start_time": "2024-05-25T23:45:56.115942",
     "status": "completed"
    },
    "tags": []
   },
   "source": [
    "### 2) Identify interesting codes to explore\n",
    "\n",
    "The last question started by telling you to focus on rows with the code `SE.XPD.TOTL.GD.ZS`. But how would you find more interesting indicator codes to explore?\n",
    "\n",
    "There are 1000s of codes in the dataset, so it would be time consuming to review them all. But many codes are available for only a few countries. When browsing the options for different codes, you might restrict yourself to codes that are reported by many countries.\n",
    "\n",
    "Write a query below that selects the indicator code and indicator name for all codes with at least 175 rows in the year 2016.\n",
    "\n",
    "Requirements:\n",
    "- You should have one row for each indicator code.\n",
    "- The columns in your results should be called `indicator_code`, `indicator_name`, and `num_rows`.\n",
    "- Only select codes with 175 or more rows in the raw database (exactly 175 rows would be included).\n",
    "- To get both the `indicator_code` and `indicator_name` in your resulting DataFrame, you need to include both in your **SELECT** statement (in addition to a **COUNT()** aggregation). This requires you to include both in your **GROUP BY** clause.\n",
    "- Order from results most frequent to least frequent."
   ]
  },
  {
   "cell_type": "code",
   "execution_count": 5,
   "id": "6d7c7b3b",
   "metadata": {
    "execution": {
     "iopub.execute_input": "2024-05-25T23:45:56.138419Z",
     "iopub.status.busy": "2024-05-25T23:45:56.138063Z",
     "iopub.status.idle": "2024-05-25T23:45:58.332002Z",
     "shell.execute_reply": "2024-05-25T23:45:58.330883Z"
    },
    "papermill": {
     "duration": 2.206523,
     "end_time": "2024-05-25T23:45:58.336210",
     "exception": false,
     "start_time": "2024-05-25T23:45:56.129687",
     "status": "completed"
    },
    "tags": []
   },
   "outputs": [
    {
     "name": "stdout",
     "output_type": "stream",
     "text": [
      "      indicator_code                       indicator_name  num_rows\n",
      "0        SP.POP.GROW         Population growth (annual %)       232\n",
      "1        SP.POP.TOTL                    Population, total       232\n",
      "2     IT.NET.USER.P2      Internet users (per 100 people)       223\n",
      "3     SP.POP.0014.TO         Population, ages 0-14, total       213\n",
      "4  SP.POP.1564.TO.ZS  Population, ages 15-64 (% of total)       213\n"
     ]
    },
    {
     "data": {
      "application/javascript": [
       "parent.postMessage({\"jupyterEvent\": \"custom.exercise_interaction\", \"data\": {\"outcomeType\": 1, \"valueTowardsCompletion\": 0.5, \"interactionType\": 1, \"questionType\": 2, \"questionId\": \"2_FindInterestingCodes\", \"learnToolsVersion\": \"0.3.4\", \"failureMessage\": \"\", \"exceptionClass\": \"\", \"trace\": \"\"}}, \"*\")"
      ],
      "text/plain": [
       "<IPython.core.display.Javascript object>"
      ]
     },
     "metadata": {},
     "output_type": "display_data"
    },
    {
     "data": {
      "text/markdown": [
       "<span style=\"color:#33cc33\">Correct</span>"
      ],
      "text/plain": [
       "Correct"
      ]
     },
     "metadata": {},
     "output_type": "display_data"
    }
   ],
   "source": [
    "# Your code goes here\n",
    "code_count_query = \"\"\"\n",
    "        SELECT indicator_code,indicator_name,COUNT(1) AS num_rows\n",
    "                                  FROM `bigquery-public-data.world_bank_intl_education.international_education`\n",
    "                                   WHERE year = 2016\n",
    "                                   GROUP BY indicator_name,indicator_code\n",
    "                                  \n",
    "                                 HAVING COUNT(1) >=175\n",
    "                                                    ORDER BY COUNT(1) DESC\n",
    "\n",
    "        \"\"\"\n",
    "\n",
    "# Set up the query\n",
    "safe_config = bigquery.QueryJobConfig(maximum_bytes_billed=10**10)\n",
    "code_count_query_job = client.query(code_count_query, job_config=safe_config)\n",
    "\n",
    "# API request - run the query, and return a pandas DataFrame\n",
    "code_count_results = code_count_query_job.to_dataframe()\n",
    "\n",
    "# View top few rows of results\n",
    "print(code_count_results.head())\n",
    "\n",
    "# Check your answer\n",
    "q_2.check()"
   ]
  },
  {
   "cell_type": "markdown",
   "id": "38397f65",
   "metadata": {
    "papermill": {
     "duration": 0.0071,
     "end_time": "2024-05-25T23:45:58.352082",
     "exception": false,
     "start_time": "2024-05-25T23:45:58.344982",
     "status": "completed"
    },
    "tags": []
   },
   "source": [
    "For a hint or the solution, uncomment the appropriate line below."
   ]
  },
  {
   "cell_type": "code",
   "execution_count": 6,
   "id": "a4e990ae",
   "metadata": {
    "execution": {
     "iopub.execute_input": "2024-05-25T23:45:58.368562Z",
     "iopub.status.busy": "2024-05-25T23:45:58.368198Z",
     "iopub.status.idle": "2024-05-25T23:45:58.377273Z",
     "shell.execute_reply": "2024-05-25T23:45:58.376297Z"
    },
    "papermill": {
     "duration": 0.020148,
     "end_time": "2024-05-25T23:45:58.379567",
     "exception": false,
     "start_time": "2024-05-25T23:45:58.359419",
     "status": "completed"
    },
    "tags": []
   },
   "outputs": [
    {
     "data": {
      "application/javascript": [
       "parent.postMessage({\"jupyterEvent\": \"custom.exercise_interaction\", \"data\": {\"interactionType\": 3, \"questionType\": 2, \"questionId\": \"2_FindInterestingCodes\", \"learnToolsVersion\": \"0.3.4\", \"valueTowardsCompletion\": 0.0, \"failureMessage\": \"\", \"exceptionClass\": \"\", \"trace\": \"\", \"outcomeType\": 4}}, \"*\")"
      ],
      "text/plain": [
       "<IPython.core.display.Javascript object>"
      ]
     },
     "metadata": {},
     "output_type": "display_data"
    },
    {
     "data": {
      "text/markdown": [
       "<span style=\"color:#33cc99\">Solution:</span> \n",
       "```python\n",
       "\n",
       "code_count_query = \"\"\"\n",
       "                   SELECT indicator_code, indicator_name, COUNT(1) AS num_rows\n",
       "                   FROM `bigquery-public-data.world_bank_intl_education.international_education`\n",
       "                   WHERE year = 2016\n",
       "                   GROUP BY indicator_name, indicator_code\n",
       "                   HAVING COUNT(1) >= 175\n",
       "                   ORDER BY COUNT(1) DESC\n",
       "                   \"\"\"\n",
       "\n",
       "```"
      ],
      "text/plain": [
       "Solution: \n",
       "```python\n",
       "\n",
       "code_count_query = \"\"\"\n",
       "                   SELECT indicator_code, indicator_name, COUNT(1) AS num_rows\n",
       "                   FROM `bigquery-public-data.world_bank_intl_education.international_education`\n",
       "                   WHERE year = 2016\n",
       "                   GROUP BY indicator_name, indicator_code\n",
       "                   HAVING COUNT(1) >= 175\n",
       "                   ORDER BY COUNT(1) DESC\n",
       "                   \"\"\"\n",
       "\n",
       "```"
      ]
     },
     "metadata": {},
     "output_type": "display_data"
    }
   ],
   "source": [
    "#q_2.hint()\n",
    "q_2.solution()"
   ]
  },
  {
   "cell_type": "markdown",
   "id": "f393c70d",
   "metadata": {
    "papermill": {
     "duration": 0.007659,
     "end_time": "2024-05-25T23:45:58.396309",
     "exception": false,
     "start_time": "2024-05-25T23:45:58.388650",
     "status": "completed"
    },
    "tags": []
   },
   "source": [
    "# Keep Going\n",
    "**[Click here](https://www.kaggle.com/dansbecker/as-with)** to learn how to use **AS** and **WITH** to clean up your code and help you construct more complex queries."
   ]
  },
  {
   "cell_type": "markdown",
   "id": "36524192",
   "metadata": {
    "papermill": {
     "duration": 0.007518,
     "end_time": "2024-05-25T23:45:58.411657",
     "exception": false,
     "start_time": "2024-05-25T23:45:58.404139",
     "status": "completed"
    },
    "tags": []
   },
   "source": [
    "---\n",
    "\n",
    "\n",
    "\n",
    "\n",
    "*Have questions or comments? Visit the [course discussion forum](https://www.kaggle.com/learn/intro-to-sql/discussion) to chat with other learners.*"
   ]
  }
 ],
 "metadata": {
  "kaggle": {
   "accelerator": "none",
   "dataSources": [
    {
     "datasetId": 22951,
     "sourceId": 337528,
     "sourceType": "datasetVersion"
    },
    {
     "datasetId": 5837,
     "sourceId": 337546,
     "sourceType": "datasetVersion"
    }
   ],
   "isGpuEnabled": false,
   "isInternetEnabled": false,
   "language": "python",
   "sourceType": "notebook"
  },
  "kernelspec": {
   "display_name": "Python 3",
   "language": "python",
   "name": "python3"
  },
  "language_info": {
   "codemirror_mode": {
    "name": "ipython",
    "version": 3
   },
   "file_extension": ".py",
   "mimetype": "text/x-python",
   "name": "python",
   "nbconvert_exporter": "python",
   "pygments_lexer": "ipython3",
   "version": "3.10.13"
  },
  "papermill": {
   "default_parameters": {},
   "duration": 22.76768,
   "end_time": "2024-05-25T23:45:59.141988",
   "environment_variables": {},
   "exception": null,
   "input_path": "__notebook__.ipynb",
   "output_path": "__notebook__.ipynb",
   "parameters": {},
   "start_time": "2024-05-25T23:45:36.374308",
   "version": "2.5.0"
  }
 },
 "nbformat": 4,
 "nbformat_minor": 5
}
