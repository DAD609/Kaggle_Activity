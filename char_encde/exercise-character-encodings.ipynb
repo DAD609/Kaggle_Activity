{
 "cells": [
  {
   "cell_type": "markdown",
   "id": "75aa0f9e",
   "metadata": {
    "papermill": {
     "duration": 0.005266,
     "end_time": "2024-05-25T23:39:53.868648",
     "exception": false,
     "start_time": "2024-05-25T23:39:53.863382",
     "status": "completed"
    },
    "tags": []
   },
   "source": [
    "**This notebook is an exercise in the [Data Cleaning](https://www.kaggle.com/learn/data-cleaning) course.  You can reference the tutorial at [this link](https://www.kaggle.com/alexisbcook/character-encodings).**\n",
    "\n",
    "---\n"
   ]
  },
  {
   "cell_type": "markdown",
   "id": "3a5bc7b3",
   "metadata": {
    "papermill": {
     "duration": 0.004114,
     "end_time": "2024-05-25T23:39:53.877533",
     "exception": false,
     "start_time": "2024-05-25T23:39:53.873419",
     "status": "completed"
    },
    "tags": []
   },
   "source": [
    "In this exercise, you'll apply what you learned in the **Character encodings** tutorial.\n",
    "\n",
    "# Setup\n",
    "\n",
    "The questions below will give you feedback on your work. Run the following cell to set up the feedback system."
   ]
  },
  {
   "cell_type": "code",
   "execution_count": 1,
   "id": "de7aa5a4",
   "metadata": {
    "execution": {
     "iopub.execute_input": "2024-05-25T23:39:53.888212Z",
     "iopub.status.busy": "2024-05-25T23:39:53.887808Z",
     "iopub.status.idle": "2024-05-25T23:39:54.846106Z",
     "shell.execute_reply": "2024-05-25T23:39:54.844777Z"
    },
    "papermill": {
     "duration": 0.968073,
     "end_time": "2024-05-25T23:39:54.849970",
     "exception": false,
     "start_time": "2024-05-25T23:39:53.881897",
     "status": "completed"
    },
    "tags": []
   },
   "outputs": [
    {
     "name": "stdout",
     "output_type": "stream",
     "text": [
      "Setup Complete\n"
     ]
    }
   ],
   "source": [
    "from learntools.core import binder\n",
    "binder.bind(globals())\n",
    "from learntools.data_cleaning.ex4 import *\n",
    "print(\"Setup Complete\")"
   ]
  },
  {
   "cell_type": "markdown",
   "id": "1b195f6b",
   "metadata": {
    "papermill": {
     "duration": 0.004798,
     "end_time": "2024-05-25T23:39:54.860113",
     "exception": false,
     "start_time": "2024-05-25T23:39:54.855315",
     "status": "completed"
    },
    "tags": []
   },
   "source": [
    "# Get our environment set up\n",
    "\n",
    "The first thing we'll need to do is load in the libraries we'll be using."
   ]
  },
  {
   "cell_type": "code",
   "execution_count": 2,
   "id": "938d23a4",
   "metadata": {
    "execution": {
     "iopub.execute_input": "2024-05-25T23:39:54.870585Z",
     "iopub.status.busy": "2024-05-25T23:39:54.870171Z",
     "iopub.status.idle": "2024-05-25T23:39:54.875767Z",
     "shell.execute_reply": "2024-05-25T23:39:54.874472Z"
    },
    "papermill": {
     "duration": 0.013459,
     "end_time": "2024-05-25T23:39:54.877989",
     "exception": false,
     "start_time": "2024-05-25T23:39:54.864530",
     "status": "completed"
    },
    "tags": []
   },
   "outputs": [],
   "source": [
    "# modules we'll use\n",
    "import pandas as pd\n",
    "import numpy as np\n",
    "\n",
    "# helpful character encoding module\n",
    "import charset_normalizer\n",
    "\n",
    "# set seed for reproducibility\n",
    "np.random.seed(0)"
   ]
  },
  {
   "cell_type": "markdown",
   "id": "a33767dc",
   "metadata": {
    "papermill": {
     "duration": 0.004164,
     "end_time": "2024-05-25T23:39:54.886741",
     "exception": false,
     "start_time": "2024-05-25T23:39:54.882577",
     "status": "completed"
    },
    "tags": []
   },
   "source": [
    "# 1) What are encodings?\n",
    "\n",
    "You're working with a dataset composed of bytes.  Run the code cell below to print a sample entry."
   ]
  },
  {
   "cell_type": "code",
   "execution_count": 3,
   "id": "cd3a9cc5",
   "metadata": {
    "execution": {
     "iopub.execute_input": "2024-05-25T23:39:54.897048Z",
     "iopub.status.busy": "2024-05-25T23:39:54.896657Z",
     "iopub.status.idle": "2024-05-25T23:39:54.902625Z",
     "shell.execute_reply": "2024-05-25T23:39:54.901502Z"
    },
    "papermill": {
     "duration": 0.014119,
     "end_time": "2024-05-25T23:39:54.905196",
     "exception": false,
     "start_time": "2024-05-25T23:39:54.891077",
     "status": "completed"
    },
    "tags": []
   },
   "outputs": [
    {
     "name": "stdout",
     "output_type": "stream",
     "text": [
      "b'\\xa7A\\xa6n'\n",
      "data type: <class 'bytes'>\n"
     ]
    }
   ],
   "source": [
    "sample_entry = b'\\xa7A\\xa6n'\n",
    "print(sample_entry)\n",
    "print('data type:', type(sample_entry))"
   ]
  },
  {
   "cell_type": "markdown",
   "id": "503e03b0",
   "metadata": {
    "papermill": {
     "duration": 0.004311,
     "end_time": "2024-05-25T23:39:54.914337",
     "exception": false,
     "start_time": "2024-05-25T23:39:54.910026",
     "status": "completed"
    },
    "tags": []
   },
   "source": [
    "You notice that it doesn't use the standard UTF-8 encoding. \n",
    "\n",
    "Use the next code cell to create a variable `new_entry` that changes the encoding from `\"big5-tw\"` to `\"utf-8\"`.  `new_entry` should have the bytes datatype."
   ]
  },
  {
   "cell_type": "code",
   "execution_count": 4,
   "id": "3b19408a",
   "metadata": {
    "execution": {
     "iopub.execute_input": "2024-05-25T23:39:54.925300Z",
     "iopub.status.busy": "2024-05-25T23:39:54.924625Z",
     "iopub.status.idle": "2024-05-25T23:39:54.934536Z",
     "shell.execute_reply": "2024-05-25T23:39:54.933514Z"
    },
    "papermill": {
     "duration": 0.017857,
     "end_time": "2024-05-25T23:39:54.936696",
     "exception": false,
     "start_time": "2024-05-25T23:39:54.918839",
     "status": "completed"
    },
    "tags": []
   },
   "outputs": [
    {
     "data": {
      "application/javascript": [
       "parent.postMessage({\"jupyterEvent\": \"custom.exercise_interaction\", \"data\": {\"outcomeType\": 1, \"valueTowardsCompletion\": 0.3333333333333333, \"interactionType\": 1, \"questionType\": 1, \"questionId\": \"1_EncodingsIntro\", \"learnToolsVersion\": \"0.3.4\", \"failureMessage\": \"\", \"exceptionClass\": \"\", \"trace\": \"\"}}, \"*\")"
      ],
      "text/plain": [
       "<IPython.core.display.Javascript object>"
      ]
     },
     "metadata": {},
     "output_type": "display_data"
    },
    {
     "data": {
      "text/markdown": [
       "<span style=\"color:#33cc33\">Correct</span>"
      ],
      "text/plain": [
       "Correct"
      ]
     },
     "metadata": {},
     "output_type": "display_data"
    }
   ],
   "source": [
    "before = sample_entry.decode(\"big5-tw\")\n",
    "new_entry = before.encode()\n",
    "# Check your answer\n",
    "q1.check()"
   ]
  },
  {
   "cell_type": "code",
   "execution_count": 5,
   "id": "c2ebe202",
   "metadata": {
    "execution": {
     "iopub.execute_input": "2024-05-25T23:39:54.948488Z",
     "iopub.status.busy": "2024-05-25T23:39:54.947775Z",
     "iopub.status.idle": "2024-05-25T23:39:54.960296Z",
     "shell.execute_reply": "2024-05-25T23:39:54.959241Z"
    },
    "papermill": {
     "duration": 0.020833,
     "end_time": "2024-05-25T23:39:54.962590",
     "exception": false,
     "start_time": "2024-05-25T23:39:54.941757",
     "status": "completed"
    },
    "tags": []
   },
   "outputs": [
    {
     "data": {
      "application/javascript": [
       "parent.postMessage({\"jupyterEvent\": \"custom.exercise_interaction\", \"data\": {\"interactionType\": 2, \"questionType\": 1, \"questionId\": \"1_EncodingsIntro\", \"learnToolsVersion\": \"0.3.4\", \"valueTowardsCompletion\": 0.0, \"failureMessage\": \"\", \"exceptionClass\": \"\", \"trace\": \"\", \"outcomeType\": 4}}, \"*\")"
      ],
      "text/plain": [
       "<IPython.core.display.Javascript object>"
      ]
     },
     "metadata": {},
     "output_type": "display_data"
    },
    {
     "data": {
      "text/markdown": [
       "<span style=\"color:#3366cc\">Hint:</span> Try using `.decode()` to get the string, then `.encode()` to get the bytes representation, encoded in UTF-8."
      ],
      "text/plain": [
       "Hint: Try using `.decode()` to get the string, then `.encode()` to get the bytes representation, encoded in UTF-8."
      ]
     },
     "metadata": {},
     "output_type": "display_data"
    },
    {
     "data": {
      "application/javascript": [
       "parent.postMessage({\"jupyterEvent\": \"custom.exercise_interaction\", \"data\": {\"interactionType\": 3, \"questionType\": 1, \"questionId\": \"1_EncodingsIntro\", \"learnToolsVersion\": \"0.3.4\", \"valueTowardsCompletion\": 0.0, \"failureMessage\": \"\", \"exceptionClass\": \"\", \"trace\": \"\", \"outcomeType\": 4}}, \"*\")"
      ],
      "text/plain": [
       "<IPython.core.display.Javascript object>"
      ]
     },
     "metadata": {},
     "output_type": "display_data"
    },
    {
     "data": {
      "text/markdown": [
       "<span style=\"color:#33cc99\">Solution:</span> \n",
       "```python\n",
       "before = sample_entry.decode(\"big5-tw\")\n",
       "new_entry = before.encode()\n",
       "\n",
       "```"
      ],
      "text/plain": [
       "Solution: \n",
       "```python\n",
       "before = sample_entry.decode(\"big5-tw\")\n",
       "new_entry = before.encode()\n",
       "\n",
       "```"
      ]
     },
     "metadata": {},
     "output_type": "display_data"
    }
   ],
   "source": [
    "# Lines below will give you a hint or solution code\n",
    "q1.hint()\n",
    "q1.solution()"
   ]
  },
  {
   "cell_type": "markdown",
   "id": "2e26c25d",
   "metadata": {
    "papermill": {
     "duration": 0.005272,
     "end_time": "2024-05-25T23:39:54.973252",
     "exception": false,
     "start_time": "2024-05-25T23:39:54.967980",
     "status": "completed"
    },
    "tags": []
   },
   "source": [
    "# 2) Reading in files with encoding problems\n",
    "\n",
    "Use the code cell below to read in this file at path `\"../input/fatal-police-shootings-in-the-us/PoliceKillingsUS.csv\"`.  \n",
    "\n",
    "Figure out what the correct encoding should be and read in the file to a DataFrame `police_killings`."
   ]
  },
  {
   "cell_type": "code",
   "execution_count": 6,
   "id": "c973f3e3",
   "metadata": {
    "execution": {
     "iopub.execute_input": "2024-05-25T23:39:54.985779Z",
     "iopub.status.busy": "2024-05-25T23:39:54.985374Z",
     "iopub.status.idle": "2024-05-25T23:39:55.012077Z",
     "shell.execute_reply": "2024-05-25T23:39:55.011015Z"
    },
    "papermill": {
     "duration": 0.035693,
     "end_time": "2024-05-25T23:39:55.014391",
     "exception": false,
     "start_time": "2024-05-25T23:39:54.978698",
     "status": "completed"
    },
    "tags": []
   },
   "outputs": [
    {
     "data": {
      "application/javascript": [
       "parent.postMessage({\"jupyterEvent\": \"custom.exercise_interaction\", \"data\": {\"outcomeType\": 1, \"valueTowardsCompletion\": 0.3333333333333333, \"interactionType\": 1, \"questionType\": 1, \"questionId\": \"2_ReadIn\", \"learnToolsVersion\": \"0.3.4\", \"failureMessage\": \"\", \"exceptionClass\": \"\", \"trace\": \"\"}}, \"*\")"
      ],
      "text/plain": [
       "<IPython.core.display.Javascript object>"
      ]
     },
     "metadata": {},
     "output_type": "display_data"
    },
    {
     "data": {
      "text/markdown": [
       "<span style=\"color:#33cc33\">Correct</span>"
      ],
      "text/plain": [
       "Correct"
      ]
     },
     "metadata": {},
     "output_type": "display_data"
    }
   ],
   "source": [
    "# TODO: Load in the DataFrame correctly.\n",
    "police_killings = pd.read_csv(\"../input/fatal-police-shootings-in-the-us/PoliceKillingsUS.csv\",encoding=\"Windows-1252\")\n",
    "\n",
    "# Check your answer\n",
    "q2.check()"
   ]
  },
  {
   "cell_type": "markdown",
   "id": "659229c7",
   "metadata": {
    "papermill": {
     "duration": 0.005417,
     "end_time": "2024-05-25T23:39:55.026418",
     "exception": false,
     "start_time": "2024-05-25T23:39:55.021001",
     "status": "completed"
    },
    "tags": []
   },
   "source": [
    "Feel free to use any additional code cells for supplemental work.  To get credit for finishing this question, you'll need to run `q2.check()` and get a result of **Correct**."
   ]
  },
  {
   "cell_type": "code",
   "execution_count": 7,
   "id": "32a83ce7",
   "metadata": {
    "execution": {
     "iopub.execute_input": "2024-05-25T23:39:55.040118Z",
     "iopub.status.busy": "2024-05-25T23:39:55.039277Z",
     "iopub.status.idle": "2024-05-25T23:39:55.044294Z",
     "shell.execute_reply": "2024-05-25T23:39:55.042957Z"
    },
    "papermill": {
     "duration": 0.014987,
     "end_time": "2024-05-25T23:39:55.047143",
     "exception": false,
     "start_time": "2024-05-25T23:39:55.032156",
     "status": "completed"
    },
    "tags": []
   },
   "outputs": [],
   "source": [
    "# (Optional) Use this code cell for any additional work."
   ]
  },
  {
   "cell_type": "code",
   "execution_count": 8,
   "id": "f10cbefa",
   "metadata": {
    "execution": {
     "iopub.execute_input": "2024-05-25T23:39:55.060577Z",
     "iopub.status.busy": "2024-05-25T23:39:55.060197Z",
     "iopub.status.idle": "2024-05-25T23:39:55.072671Z",
     "shell.execute_reply": "2024-05-25T23:39:55.071403Z"
    },
    "papermill": {
     "duration": 0.02196,
     "end_time": "2024-05-25T23:39:55.074972",
     "exception": false,
     "start_time": "2024-05-25T23:39:55.053012",
     "status": "completed"
    },
    "tags": []
   },
   "outputs": [
    {
     "data": {
      "application/javascript": [
       "parent.postMessage({\"jupyterEvent\": \"custom.exercise_interaction\", \"data\": {\"interactionType\": 2, \"questionType\": 1, \"questionId\": \"2_ReadIn\", \"learnToolsVersion\": \"0.3.4\", \"valueTowardsCompletion\": 0.0, \"failureMessage\": \"\", \"exceptionClass\": \"\", \"trace\": \"\", \"outcomeType\": 4}}, \"*\")"
      ],
      "text/plain": [
       "<IPython.core.display.Javascript object>"
      ]
     },
     "metadata": {},
     "output_type": "display_data"
    },
    {
     "data": {
      "text/markdown": [
       "<span style=\"color:#3366cc\">Hint:</span> If you try to guess the encoding with the first 10,000 bytes of the file, it might give you the wrong answer.  Try using 100,000 or more lines of the file."
      ],
      "text/plain": [
       "Hint: If you try to guess the encoding with the first 10,000 bytes of the file, it might give you the wrong answer.  Try using 100,000 or more lines of the file."
      ]
     },
     "metadata": {},
     "output_type": "display_data"
    },
    {
     "data": {
      "application/javascript": [
       "parent.postMessage({\"jupyterEvent\": \"custom.exercise_interaction\", \"data\": {\"interactionType\": 3, \"questionType\": 1, \"questionId\": \"2_ReadIn\", \"learnToolsVersion\": \"0.3.4\", \"valueTowardsCompletion\": 0.0, \"failureMessage\": \"\", \"exceptionClass\": \"\", \"trace\": \"\", \"outcomeType\": 4}}, \"*\")"
      ],
      "text/plain": [
       "<IPython.core.display.Javascript object>"
      ]
     },
     "metadata": {},
     "output_type": "display_data"
    },
    {
     "data": {
      "text/markdown": [
       "<span style=\"color:#33cc99\">Solution:</span> \n",
       "```python\n",
       "police_killings = pd.read_csv(\"../input/fatal-police-shootings-in-the-us/PoliceKillingsUS.csv\", encoding='Windows-1252')\n",
       "\n",
       "```"
      ],
      "text/plain": [
       "Solution: \n",
       "```python\n",
       "police_killings = pd.read_csv(\"../input/fatal-police-shootings-in-the-us/PoliceKillingsUS.csv\", encoding='Windows-1252')\n",
       "\n",
       "```"
      ]
     },
     "metadata": {},
     "output_type": "display_data"
    }
   ],
   "source": [
    "# Lines below will give you a hint or solution code\n",
    "q2.hint()\n",
    "q2.solution()"
   ]
  },
  {
   "cell_type": "markdown",
   "id": "43cb6708",
   "metadata": {
    "papermill": {
     "duration": 0.005921,
     "end_time": "2024-05-25T23:39:55.087001",
     "exception": false,
     "start_time": "2024-05-25T23:39:55.081080",
     "status": "completed"
    },
    "tags": []
   },
   "source": [
    "# 3) Saving your files with UTF-8 encoding\n",
    "\n",
    "Save a version of the police killings dataset to CSV with UTF-8 encoding.  Your answer will be marked correct after saving this file.  \n",
    "\n",
    "Note: When using the `to_csv()` method, supply only the name of the file (e.g., `\"my_file.csv\"`).  This saves the file at the filepath `\"/kaggle/working/my_file.csv\"`."
   ]
  },
  {
   "cell_type": "code",
   "execution_count": 9,
   "id": "496b6ada",
   "metadata": {
    "execution": {
     "iopub.execute_input": "2024-05-25T23:39:55.100824Z",
     "iopub.status.busy": "2024-05-25T23:39:55.100438Z",
     "iopub.status.idle": "2024-05-25T23:39:55.109653Z",
     "shell.execute_reply": "2024-05-25T23:39:55.108612Z"
    },
    "papermill": {
     "duration": 0.018949,
     "end_time": "2024-05-25T23:39:55.112049",
     "exception": false,
     "start_time": "2024-05-25T23:39:55.093100",
     "status": "completed"
    },
    "tags": []
   },
   "outputs": [
    {
     "data": {
      "application/javascript": [
       "parent.postMessage({\"jupyterEvent\": \"custom.exercise_interaction\", \"data\": {\"outcomeType\": 2, \"failureMessage\": \"Please save a CSV file and run this code cell again to get credit!\", \"interactionType\": 1, \"questionType\": 2, \"questionId\": \"3_SaveCSV\", \"learnToolsVersion\": \"0.3.4\", \"valueTowardsCompletion\": 0.0, \"exceptionClass\": \"\", \"trace\": \"\"}}, \"*\")"
      ],
      "text/plain": [
       "<IPython.core.display.Javascript object>"
      ]
     },
     "metadata": {},
     "output_type": "display_data"
    },
    {
     "data": {
      "text/markdown": [
       "<span style=\"color:#cc3333\">Incorrect:</span> Please save a CSV file and run this code cell again to get credit!"
      ],
      "text/plain": [
       "Incorrect: Please save a CSV file and run this code cell again to get credit!"
      ]
     },
     "metadata": {},
     "output_type": "display_data"
    }
   ],
   "source": [
    "# TODO: Save the police killings dataset to CSV\n",
    "police_killings\n",
    "\n",
    "# Check your answer\n",
    "q3.check()"
   ]
  },
  {
   "cell_type": "code",
   "execution_count": 10,
   "id": "063eb217",
   "metadata": {
    "execution": {
     "iopub.execute_input": "2024-05-25T23:39:55.126902Z",
     "iopub.status.busy": "2024-05-25T23:39:55.126508Z",
     "iopub.status.idle": "2024-05-25T23:39:55.131036Z",
     "shell.execute_reply": "2024-05-25T23:39:55.129953Z"
    },
    "papermill": {
     "duration": 0.014504,
     "end_time": "2024-05-25T23:39:55.133272",
     "exception": false,
     "start_time": "2024-05-25T23:39:55.118768",
     "status": "completed"
    },
    "tags": []
   },
   "outputs": [],
   "source": [
    "# Lines below will give you a hint or solution code\n",
    "#q3.hint()\n",
    "#q3.solution()"
   ]
  },
  {
   "cell_type": "markdown",
   "id": "00453c53",
   "metadata": {
    "papermill": {
     "duration": 0.006177,
     "end_time": "2024-05-25T23:39:55.146463",
     "exception": false,
     "start_time": "2024-05-25T23:39:55.140286",
     "status": "completed"
    },
    "tags": []
   },
   "source": [
    "# (Optional) More practice\n",
    "\n",
    "Check out [this dataset of files in different character encodings](https://www.kaggle.com/rtatman/character-encoding-examples). Can you read in all the files with their original encodings and them save them out as UTF-8 files?\n",
    "\n",
    "If you have a file that's in UTF-8 but has just a couple of weird-looking characters in it, you can try out the [ftfy module](https://ftfy.readthedocs.io/en/latest/#) and see if it helps. \n",
    "\n",
    "# Keep going\n",
    "\n",
    "In the final lesson, learn how to [**clean up inconsistent text entries**](https://www.kaggle.com/alexisbcook/inconsistent-data-entry) in your dataset."
   ]
  },
  {
   "cell_type": "markdown",
   "id": "155d9161",
   "metadata": {
    "papermill": {
     "duration": 0.00621,
     "end_time": "2024-05-25T23:39:55.159310",
     "exception": false,
     "start_time": "2024-05-25T23:39:55.153100",
     "status": "completed"
    },
    "tags": []
   },
   "source": [
    "---\n",
    "\n",
    "\n",
    "\n",
    "\n",
    "*Have questions or comments? Visit the [course discussion forum](https://www.kaggle.com/learn/data-cleaning/discussion) to chat with other learners.*"
   ]
  }
 ],
 "metadata": {
  "kaggle": {
   "accelerator": "none",
   "dataSources": [
    {
     "datasetId": 2647,
     "sourceId": 4395,
     "sourceType": "datasetVersion"
    }
   ],
   "isGpuEnabled": false,
   "isInternetEnabled": false,
   "language": "python",
   "sourceType": "notebook"
  },
  "kernelspec": {
   "display_name": "Python 3",
   "language": "python",
   "name": "python3"
  },
  "language_info": {
   "codemirror_mode": {
    "name": "ipython",
    "version": 3
   },
   "file_extension": ".py",
   "mimetype": "text/x-python",
   "name": "python",
   "nbconvert_exporter": "python",
   "pygments_lexer": "ipython3",
   "version": "3.10.13"
  },
  "papermill": {
   "default_parameters": {},
   "duration": 4.508838,
   "end_time": "2024-05-25T23:39:55.585844",
   "environment_variables": {},
   "exception": null,
   "input_path": "__notebook__.ipynb",
   "output_path": "__notebook__.ipynb",
   "parameters": {},
   "start_time": "2024-05-25T23:39:51.077006",
   "version": "2.5.0"
  }
 },
 "nbformat": 4,
 "nbformat_minor": 5
}
