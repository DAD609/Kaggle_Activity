{
 "cells": [
  {
   "cell_type": "markdown",
   "id": "ed17ffe3",
   "metadata": {
    "papermill": {
     "duration": 0.004167,
     "end_time": "2024-05-25T23:00:36.729016",
     "exception": false,
     "start_time": "2024-05-25T23:00:36.724849",
     "status": "completed"
    },
    "tags": []
   },
   "source": [
    "объяснялка\n"
   ]
  },
  {
   "cell_type": "code",
   "execution_count": 1,
   "id": "ca280210",
   "metadata": {
    "execution": {
     "iopub.execute_input": "2024-05-25T23:00:36.738738Z",
     "iopub.status.busy": "2024-05-25T23:00:36.737986Z",
     "iopub.status.idle": "2024-05-25T23:00:38.030393Z",
     "shell.execute_reply": "2024-05-25T23:00:38.029149Z"
    },
    "papermill": {
     "duration": 1.300491,
     "end_time": "2024-05-25T23:00:38.033401",
     "exception": false,
     "start_time": "2024-05-25T23:00:36.732910",
     "status": "completed"
    },
    "tags": []
   },
   "outputs": [
    {
     "name": "stdout",
     "output_type": "stream",
     "text": [
      "   107   SWV SAWANTWADI R  00:00:00  10:25:00   0 SWV.1  SAWANTWADI ROAD  MAO  \\\n",
      "0  107  THVM       THIVIM  11:06:00  11:08:00  32   SWV  SAWANTWADI ROAD  MAO   \n",
      "1  107  KRMI      KARMALI  11:28:00  11:30:00  49   SWV  SAWANTWADI ROAD  MAO   \n",
      "2  107   MAO  MADGOAN JN.  12:10:00  00:00:00  78   SWV  SAWANTWADI ROAD  MAO   \n",
      "3  108   MAO  MADGOAN JN.  00:00:00  20:30:00   0   MAO      MADGOAN JN.  SWV   \n",
      "4  108  KRMI      KARMALI  21:04:00  21:06:00  33   MAO      MADGOAN JN.  SWV   \n",
      "\n",
      "       MADGOAN JN.  \n",
      "0      MADGOAN JN.  \n",
      "1      MADGOAN JN.  \n",
      "2      MADGOAN JN.  \n",
      "3  SAWANTWADI ROAD  \n",
      "4  SAWANTWADI ROAD  \n"
     ]
    },
    {
     "name": "stderr",
     "output_type": "stream",
     "text": [
      "/tmp/ipykernel_18/182083422.py:5: DtypeWarning: Columns (0,5) have mixed types. Specify dtype option on import or set low_memory=False.\n",
      "  d_1 = pd.read_csv('/kaggle/input/train-data/Train_details.csv')\n"
     ]
    }
   ],
   "source": [
    "#подключения пандаса в среду работы \n",
    "import pandas as pd\n",
    "#первичный анализ датасета\n",
    "# Загрузка данных из CSV файла \n",
    "d_1 = pd.read_csv('/kaggle/input/train-data/Train_details.csv')\n",
    "\n",
    "# Просмотр первых нескольких строк DataFrame\n",
    "print(d_1.head())\n"
   ]
  },
  {
   "cell_type": "code",
   "execution_count": 2,
   "id": "6b8a244a",
   "metadata": {
    "execution": {
     "iopub.execute_input": "2024-05-25T23:00:38.042220Z",
     "iopub.status.busy": "2024-05-25T23:00:38.041871Z",
     "iopub.status.idle": "2024-05-25T23:00:38.139133Z",
     "shell.execute_reply": "2024-05-25T23:00:38.138010Z"
    },
    "papermill": {
     "duration": 0.104288,
     "end_time": "2024-05-25T23:00:38.141366",
     "exception": false,
     "start_time": "2024-05-25T23:00:38.037078",
     "status": "completed"
    },
    "tags": []
   },
   "outputs": [
    {
     "name": "stdout",
     "output_type": "stream",
     "text": [
      "(186123, 10)\n"
     ]
    }
   ],
   "source": [
    "current_headers = d_1.columns.tolist()\n",
    "#копирую заголовок как новую первую строку \n",
    "# Добавляем текущие заголовки обратно как строку данных в начало DataFrame\n",
    "d_1.loc[-1] = current_headers  # Добавляем строку на индекс -1\n",
    "d_1.index = d_1.index + 1  # Сдвигаем все индексы вверх\n",
    "d_1 = d_1.sort_index()  # Сортируем индекс\n",
    "\n",
    "# Устанавливаем первую строку как новые заголовки столбцов\n",
    "d_1.columns = d_1.iloc[0]  # Первая строка теперь заголовки\n",
    "d_1 = d_1[1:]  # Удаляем первую строку, которая теперь заголовки\n",
    "\n",
    "# Сбрасываем индекс, если необходимо\n",
    "d_1.reset_index(drop=True, inplace=True)\n",
    "\n",
    "# Проверка результатов\n",
    "print(d_1.shape)"
   ]
  },
  {
   "cell_type": "code",
   "execution_count": 3,
   "id": "4ed9b23e",
   "metadata": {
    "execution": {
     "iopub.execute_input": "2024-05-25T23:00:38.150409Z",
     "iopub.status.busy": "2024-05-25T23:00:38.150045Z",
     "iopub.status.idle": "2024-05-25T23:00:38.161128Z",
     "shell.execute_reply": "2024-05-25T23:00:38.160141Z"
    },
    "papermill": {
     "duration": 0.018355,
     "end_time": "2024-05-25T23:00:38.163446",
     "exception": false,
     "start_time": "2024-05-25T23:00:38.145091",
     "status": "completed"
    },
    "tags": []
   },
   "outputs": [
    {
     "name": "stdout",
     "output_type": "stream",
     "text": [
      "  train_num st_code      st_name  dep_time  arr_time dist arr_st_code  \\\n",
      "0       107    THVM       THIVIM  11:06:00  11:08:00   32         SWV   \n",
      "1       107    KRMI      KARMALI  11:28:00  11:30:00   49         SWV   \n",
      "2       107     MAO  MADGOAN JN.  12:10:00  00:00:00   78         SWV   \n",
      "3       108     MAO  MADGOAN JN.  00:00:00  20:30:00    0         MAO   \n",
      "4       108    KRMI      KARMALI  21:04:00  21:06:00   33         MAO   \n",
      "\n",
      "       arr_st_name dest_code        dest_name  \n",
      "0  SAWANTWADI ROAD       MAO      MADGOAN JN.  \n",
      "1  SAWANTWADI ROAD       MAO      MADGOAN JN.  \n",
      "2  SAWANTWADI ROAD       MAO      MADGOAN JN.  \n",
      "3      MADGOAN JN.       SWV  SAWANTWADI ROAD  \n",
      "4      MADGOAN JN.       SWV  SAWANTWADI ROAD  \n",
      "train_num      object\n",
      "st_code        object\n",
      "st_name        object\n",
      "dep_time       object\n",
      "arr_time       object\n",
      "dist           object\n",
      "arr_st_code    object\n",
      "arr_st_name    object\n",
      "dest_code      object\n",
      "dest_name      object\n",
      "dtype: object\n"
     ]
    }
   ],
   "source": [
    " #заменяю индексы на новые\n",
    "# Предположим, что d_1 - это ваш DataFrame\n",
    "# Создаем список новых имен индексов\n",
    "new_cols = ['train_num', 'st_code','st_name','dep_time','arr_time','dist','arr_st_code','arr_st_name','dest_code','dest_name']  # и т.д., количество должно совпадать с количеством строк в d_1\n",
    "# Присваиваем новые имена индексам\n",
    "d_1.columns = new_cols\n",
    "# Проверка результатов\n",
    "print(d_1.head(5))\n",
    "#информация о типе данных столбцов \n",
    "print(d_1.dtypes)"
   ]
  },
  {
   "cell_type": "code",
   "execution_count": 4,
   "id": "b09ef64b",
   "metadata": {
    "execution": {
     "iopub.execute_input": "2024-05-25T23:00:38.172434Z",
     "iopub.status.busy": "2024-05-25T23:00:38.172068Z",
     "iopub.status.idle": "2024-05-25T23:00:38.261304Z",
     "shell.execute_reply": "2024-05-25T23:00:38.260509Z"
    },
    "papermill": {
     "duration": 0.096562,
     "end_time": "2024-05-25T23:00:38.263766",
     "exception": false,
     "start_time": "2024-05-25T23:00:38.167204",
     "status": "completed"
    },
    "tags": []
   },
   "outputs": [
    {
     "name": "stdout",
     "output_type": "stream",
     "text": [
      "train_num       0\n",
      "st_code         0\n",
      "st_name         0\n",
      "dep_time        5\n",
      "arr_time        5\n",
      "dist            5\n",
      "arr_st_code    10\n",
      "arr_st_name    10\n",
      "dest_code      10\n",
      "dest_name      10\n",
      "dtype: int64\n"
     ]
    }
   ],
   "source": [
    "#проверка на пропущенные значения \n",
    "print(d_1.isnull().sum())\n"
   ]
  },
  {
   "cell_type": "code",
   "execution_count": 5,
   "id": "2cf59ac8",
   "metadata": {
    "execution": {
     "iopub.execute_input": "2024-05-25T23:00:38.273509Z",
     "iopub.status.busy": "2024-05-25T23:00:38.273149Z",
     "iopub.status.idle": "2024-05-25T23:00:38.367612Z",
     "shell.execute_reply": "2024-05-25T23:00:38.366158Z"
    },
    "papermill": {
     "duration": 0.10218,
     "end_time": "2024-05-25T23:00:38.369990",
     "exception": false,
     "start_time": "2024-05-25T23:00:38.267810",
     "status": "completed"
    },
    "tags": []
   },
   "outputs": [
    {
     "name": "stdout",
     "output_type": "stream",
     "text": [
      "       train_num st_code     st_name    dep_time arr_time        dist  \\\n",
      "2307        6919    KGIH  KALGURKI H         NaN      NaN         NaN   \n",
      "2308           K     214         UBL   HUBLI JN.      BJP  BIJAPUR JN   \n",
      "2319        6920    KGIH  KALGURKI H         NaN      NaN         NaN   \n",
      "2320           K      33         BJP  BIJAPUR JN      UBL   HUBLI JN.   \n",
      "135825     56905    KGIH  KALGURKI H         NaN      NaN         NaN   \n",
      "135826         K     142         SUR     SOLAPUR      UBL   HUBLI JN.   \n",
      "135883     56906    KGIH  KALGURKI H         NaN      NaN         NaN   \n",
      "135884         K     214         UBL   HUBLI JN.      SUR     SOLAPUR   \n",
      "140467     57641    KGIH  KALGURKI H         NaN      NaN         NaN   \n",
      "140468         K     142         SUR     SOLAPUR      GDG   GADAG JN.   \n",
      "\n",
      "       arr_st_code arr_st_name dest_code dest_name  \n",
      "2307           NaN         NaN       NaN       NaN  \n",
      "2308           NaN         NaN       NaN       NaN  \n",
      "2319           NaN         NaN       NaN       NaN  \n",
      "2320           NaN         NaN       NaN       NaN  \n",
      "135825         NaN         NaN       NaN       NaN  \n",
      "135826         NaN         NaN       NaN       NaN  \n",
      "135883         NaN         NaN       NaN       NaN  \n",
      "135884         NaN         NaN       NaN       NaN  \n",
      "140467         NaN         NaN       NaN       NaN  \n",
      "140468         NaN         NaN       NaN       NaN  \n"
     ]
    }
   ],
   "source": [
    " \n",
    "# Находим строки с пропущенными значениями\n",
    "missing_data_rows = d_1[d_1.isnull().any(axis=1)]\n",
    "\n",
    "# Выводим строки с пропущенными значениями\n",
    "print(missing_data_rows)"
   ]
  },
  {
   "cell_type": "markdown",
   "id": "373af19a",
   "metadata": {
    "papermill": {
     "duration": 0.003744,
     "end_time": "2024-05-25T23:00:38.377720",
     "exception": false,
     "start_time": "2024-05-25T23:00:38.373976",
     "status": "completed"
    },
    "tags": []
   },
   "source": [
    "Так как строки полностью пустые целееособразней во избежании искажении и ошибок при работе удалить их"
   ]
  },
  {
   "cell_type": "code",
   "execution_count": 6,
   "id": "8a6c751f",
   "metadata": {
    "execution": {
     "iopub.execute_input": "2024-05-25T23:00:38.386827Z",
     "iopub.status.busy": "2024-05-25T23:00:38.386421Z",
     "iopub.status.idle": "2024-05-25T23:00:38.599762Z",
     "shell.execute_reply": "2024-05-25T23:00:38.598671Z"
    },
    "papermill": {
     "duration": 0.220616,
     "end_time": "2024-05-25T23:00:38.602074",
     "exception": false,
     "start_time": "2024-05-25T23:00:38.381458",
     "status": "completed"
    },
    "tags": []
   },
   "outputs": [
    {
     "name": "stdout",
     "output_type": "stream",
     "text": [
      "train_num      0\n",
      "st_code        0\n",
      "st_name        0\n",
      "dep_time       0\n",
      "arr_time       0\n",
      "dist           0\n",
      "arr_st_code    0\n",
      "arr_st_name    0\n",
      "dest_code      0\n",
      "dest_name      0\n",
      "dtype: int64\n"
     ]
    }
   ],
   "source": [
    "#удаление строк с пропущ значениями\n",
    "d_1.dropna(subset=['dep_time', 'arr_time', 'dist', 'arr_st_code', 'arr_st_name', 'dest_code', 'dest_name'], inplace=True)\n",
    "#вывод пропущ знач\n",
    "print(d_1.isnull().sum())"
   ]
  },
  {
   "cell_type": "code",
   "execution_count": 7,
   "id": "280c15cf",
   "metadata": {
    "execution": {
     "iopub.execute_input": "2024-05-25T23:00:38.612167Z",
     "iopub.status.busy": "2024-05-25T23:00:38.611081Z",
     "iopub.status.idle": "2024-05-25T23:00:39.024015Z",
     "shell.execute_reply": "2024-05-25T23:00:39.022520Z"
    },
    "papermill": {
     "duration": 0.42025,
     "end_time": "2024-05-25T23:00:39.026245",
     "exception": false,
     "start_time": "2024-05-25T23:00:38.605995",
     "status": "completed"
    },
    "tags": []
   },
   "outputs": [
    {
     "name": "stdout",
     "output_type": "stream",
     "text": [
      "<class 'datetime.time'>\n"
     ]
    }
   ],
   "source": [
    "#смена типов данных \n",
    "# Преобразование столбца с временем из строки в тип времени в Pandas\n",
    "d_1['dep_time'] = pd.to_datetime(d_1['dep_time'], format='%H:%M:%S', errors='coerce').dt.time\n",
    "d_1['arr_time'] = pd.to_datetime(d_1['arr_time'], format='%H:%M:%S', errors='coerce').dt.time\n",
    "# Преобразование столбцов с ID из строки в целые числа\n",
    "d_1['train_num'] = pd.to_numeric(d_1['train_num'], errors='coerce' )\n",
    "d_1['dist'] = pd.to_numeric(d_1['dist'], errors='coerce' )\n",
    "print(type(d_1['dep_time'].iloc[0]))"
   ]
  },
  {
   "cell_type": "code",
   "execution_count": 8,
   "id": "2be9e8ff",
   "metadata": {
    "execution": {
     "iopub.execute_input": "2024-05-25T23:00:39.036210Z",
     "iopub.status.busy": "2024-05-25T23:00:39.035867Z",
     "iopub.status.idle": "2024-05-25T23:00:39.044888Z",
     "shell.execute_reply": "2024-05-25T23:00:39.043769Z"
    },
    "papermill": {
     "duration": 0.018709,
     "end_time": "2024-05-25T23:00:39.049037",
     "exception": false,
     "start_time": "2024-05-25T23:00:39.030328",
     "status": "completed"
    },
    "tags": []
   },
   "outputs": [
    {
     "name": "stdout",
     "output_type": "stream",
     "text": [
      "   train_num st_code      st_name  dep_time  arr_time  dist arr_st_code  \\\n",
      "0        107    THVM       THIVIM  11:06:00  11:08:00    32         SWV   \n",
      "1        107    KRMI      KARMALI  11:28:00  11:30:00    49         SWV   \n",
      "2        107     MAO  MADGOAN JN.  12:10:00  00:00:00    78         SWV   \n",
      "3        108     MAO  MADGOAN JN.  00:00:00  20:30:00     0         MAO   \n",
      "4        108    KRMI      KARMALI  21:04:00  21:06:00    33         MAO   \n",
      "\n",
      "       arr_st_name dest_code        dest_name  \n",
      "0  SAWANTWADI ROAD       MAO      MADGOAN JN.  \n",
      "1  SAWANTWADI ROAD       MAO      MADGOAN JN.  \n",
      "2  SAWANTWADI ROAD       MAO      MADGOAN JN.  \n",
      "3      MADGOAN JN.       SWV  SAWANTWADI ROAD  \n",
      "4      MADGOAN JN.       SWV  SAWANTWADI ROAD  \n"
     ]
    }
   ],
   "source": [
    "# Сброс текущего индекса и добавление нового числового индекса\n",
    "d_1.reset_index(drop=True, inplace=True)\n",
    "\n",
    "# Проверка изменений\n",
    "print(d_1.head())\n"
   ]
  },
  {
   "cell_type": "code",
   "execution_count": 9,
   "id": "5b4609e1",
   "metadata": {
    "execution": {
     "iopub.execute_input": "2024-05-25T23:00:39.059027Z",
     "iopub.status.busy": "2024-05-25T23:00:39.058624Z",
     "iopub.status.idle": "2024-05-25T23:00:40.034650Z",
     "shell.execute_reply": "2024-05-25T23:00:40.033718Z"
    },
    "papermill": {
     "duration": 0.983853,
     "end_time": "2024-05-25T23:00:40.037100",
     "exception": false,
     "start_time": "2024-05-25T23:00:39.053247",
     "status": "completed"
    },
    "tags": []
   },
   "outputs": [],
   "source": [
    "# Экспорт DataFrame в файл CSV\n",
    "d_1.to_csv('train_schedule.csv', index=False)\n"
   ]
  }
 ],
 "metadata": {
  "kaggle": {
   "accelerator": "none",
   "dataSources": [
    {
     "datasetId": 5065254,
     "sourceId": 8490206,
     "sourceType": "datasetVersion"
    }
   ],
   "dockerImageVersionId": 30698,
   "isGpuEnabled": false,
   "isInternetEnabled": true,
   "language": "python",
   "sourceType": "notebook"
  },
  "kernelspec": {
   "display_name": "Python 3",
   "language": "python",
   "name": "python3"
  },
  "language_info": {
   "codemirror_mode": {
    "name": "ipython",
    "version": 3
   },
   "file_extension": ".py",
   "mimetype": "text/x-python",
   "name": "python",
   "nbconvert_exporter": "python",
   "pygments_lexer": "ipython3",
   "version": "3.10.13"
  },
  "papermill": {
   "default_parameters": {},
   "duration": 6.420471,
   "end_time": "2024-05-25T23:00:40.461108",
   "environment_variables": {},
   "exception": null,
   "input_path": "__notebook__.ipynb",
   "output_path": "__notebook__.ipynb",
   "parameters": {},
   "start_time": "2024-05-25T23:00:34.040637",
   "version": "2.5.0"
  }
 },
 "nbformat": 4,
 "nbformat_minor": 5
}
