{
 "cells": [
  {
   "cell_type": "markdown",
   "id": "7d6c5d7d",
   "metadata": {
    "papermill": {
     "duration": 0.006431,
     "end_time": "2024-05-25T23:13:27.420596",
     "exception": false,
     "start_time": "2024-05-25T23:13:27.414165",
     "status": "completed"
    },
    "tags": []
   },
   "source": [
    "**This notebook is an exercise in the [Intro to Deep Learning](https://www.kaggle.com/learn/intro-to-deep-learning) course.  You can reference the tutorial at [this link](https://www.kaggle.com/ryanholbrook/overfitting-and-underfitting).**\n",
    "\n",
    "---\n"
   ]
  },
  {
   "cell_type": "markdown",
   "id": "fa04d04a",
   "metadata": {
    "papermill": {
     "duration": 0.005681,
     "end_time": "2024-05-25T23:13:27.432189",
     "exception": false,
     "start_time": "2024-05-25T23:13:27.426508",
     "status": "completed"
    },
    "tags": []
   },
   "source": [
    "# Introduction #\n",
    "\n",
    "In this exercise, you’ll learn how to improve training outcomes by including an early stopping callback to prevent overfitting.\n",
    "\n",
    "When you're ready, run this next cell to set everything up!"
   ]
  },
  {
   "cell_type": "code",
   "execution_count": 1,
   "id": "c52559d6",
   "metadata": {
    "execution": {
     "iopub.execute_input": "2024-05-25T23:13:27.445754Z",
     "iopub.status.busy": "2024-05-25T23:13:27.445052Z",
     "iopub.status.idle": "2024-05-25T23:13:28.199698Z",
     "shell.execute_reply": "2024-05-25T23:13:28.198916Z"
    },
    "papermill": {
     "duration": 0.763932,
     "end_time": "2024-05-25T23:13:28.201952",
     "exception": false,
     "start_time": "2024-05-25T23:13:27.438020",
     "status": "completed"
    },
    "tags": []
   },
   "outputs": [
    {
     "name": "stderr",
     "output_type": "stream",
     "text": [
      "/tmp/ipykernel_26/1500229236.py:3: MatplotlibDeprecationWarning: The seaborn styles shipped by Matplotlib are deprecated since 3.6, as they no longer correspond to the styles shipped by seaborn. However, they will remain available as 'seaborn-v0_8-<style>'. Alternatively, directly use the seaborn API instead.\n",
      "  plt.style.use('seaborn-whitegrid')\n"
     ]
    }
   ],
   "source": [
    "# Setup plotting\n",
    "import matplotlib.pyplot as plt\n",
    "plt.style.use('seaborn-whitegrid')\n",
    "# Set Matplotlib defaults\n",
    "plt.rc('figure', autolayout=True)\n",
    "plt.rc('axes', labelweight='bold', labelsize='large',\n",
    "       titleweight='bold', titlesize=18, titlepad=10)\n",
    "plt.rc('animation', html='html5')\n",
    "\n",
    "# Setup feedback system\n",
    "from learntools.core import binder\n",
    "binder.bind(globals())\n",
    "from learntools.deep_learning_intro.ex4 import *"
   ]
  },
  {
   "cell_type": "markdown",
   "id": "b6ec1e1c",
   "metadata": {
    "papermill": {
     "duration": 0.005869,
     "end_time": "2024-05-25T23:13:28.214109",
     "exception": false,
     "start_time": "2024-05-25T23:13:28.208240",
     "status": "completed"
    },
    "tags": []
   },
   "source": [
    "First load the *Spotify* dataset. Your task will be to predict the popularity of a song based on various audio features, like `'tempo'`, `'danceability'`, and `'mode'`."
   ]
  },
  {
   "cell_type": "code",
   "execution_count": 2,
   "id": "67928d38",
   "metadata": {
    "execution": {
     "iopub.execute_input": "2024-05-25T23:13:28.227120Z",
     "iopub.status.busy": "2024-05-25T23:13:28.226743Z",
     "iopub.status.idle": "2024-05-25T23:13:42.042298Z",
     "shell.execute_reply": "2024-05-25T23:13:42.041239Z"
    },
    "papermill": {
     "duration": 13.824724,
     "end_time": "2024-05-25T23:13:42.044738",
     "exception": false,
     "start_time": "2024-05-25T23:13:28.220014",
     "status": "completed"
    },
    "tags": []
   },
   "outputs": [
    {
     "name": "stderr",
     "output_type": "stream",
     "text": [
      "2024-05-25 23:13:31.210820: E external/local_xla/xla/stream_executor/cuda/cuda_dnn.cc:9261] Unable to register cuDNN factory: Attempting to register factory for plugin cuDNN when one has already been registered\n",
      "2024-05-25 23:13:31.210921: E external/local_xla/xla/stream_executor/cuda/cuda_fft.cc:607] Unable to register cuFFT factory: Attempting to register factory for plugin cuFFT when one has already been registered\n",
      "2024-05-25 23:13:31.342884: E external/local_xla/xla/stream_executor/cuda/cuda_blas.cc:1515] Unable to register cuBLAS factory: Attempting to register factory for plugin cuBLAS when one has already been registered\n"
     ]
    },
    {
     "name": "stdout",
     "output_type": "stream",
     "text": [
      "Input shape: [18]\n"
     ]
    }
   ],
   "source": [
    "import pandas as pd\n",
    "from sklearn.preprocessing import StandardScaler, OneHotEncoder\n",
    "from sklearn.compose import make_column_transformer\n",
    "from sklearn.model_selection import GroupShuffleSplit\n",
    "\n",
    "from tensorflow import keras\n",
    "from tensorflow.keras import layers\n",
    "from tensorflow.keras import callbacks\n",
    "\n",
    "spotify = pd.read_csv('../input/dl-course-data/spotify.csv')\n",
    "\n",
    "X = spotify.copy().dropna()\n",
    "y = X.pop('track_popularity')\n",
    "artists = X['track_artist']\n",
    "\n",
    "features_num = ['danceability', 'energy', 'key', 'loudness', 'mode',\n",
    "                'speechiness', 'acousticness', 'instrumentalness',\n",
    "                'liveness', 'valence', 'tempo', 'duration_ms']\n",
    "features_cat = ['playlist_genre']\n",
    "\n",
    "preprocessor = make_column_transformer(\n",
    "    (StandardScaler(), features_num),\n",
    "    (OneHotEncoder(), features_cat),\n",
    ")\n",
    "\n",
    "# We'll do a \"grouped\" split to keep all of an artist's songs in one\n",
    "# split or the other. This is to help prevent signal leakage.\n",
    "def group_split(X, y, group, train_size=0.75):\n",
    "    splitter = GroupShuffleSplit(train_size=train_size)\n",
    "    train, test = next(splitter.split(X, y, groups=group))\n",
    "    return (X.iloc[train], X.iloc[test], y.iloc[train], y.iloc[test])\n",
    "\n",
    "X_train, X_valid, y_train, y_valid = group_split(X, y, artists)\n",
    "\n",
    "X_train = preprocessor.fit_transform(X_train)\n",
    "X_valid = preprocessor.transform(X_valid)\n",
    "y_train = y_train / 100 # popularity is on a scale 0-100, so this rescales to 0-1.\n",
    "y_valid = y_valid / 100\n",
    "\n",
    "input_shape = [X_train.shape[1]]\n",
    "print(\"Input shape: {}\".format(input_shape))"
   ]
  },
  {
   "cell_type": "markdown",
   "id": "a1f8df58",
   "metadata": {
    "papermill": {
     "duration": 0.006453,
     "end_time": "2024-05-25T23:13:42.075587",
     "exception": false,
     "start_time": "2024-05-25T23:13:42.069134",
     "status": "completed"
    },
    "tags": []
   },
   "source": [
    "Let's start with the simplest network, a linear model. This model has low capacity.\n",
    "\n",
    "Run this next cell without any changes to train a linear model on the *Spotify* dataset."
   ]
  },
  {
   "cell_type": "code",
   "execution_count": 3,
   "id": "068c79c1",
   "metadata": {
    "execution": {
     "iopub.execute_input": "2024-05-25T23:13:42.089445Z",
     "iopub.status.busy": "2024-05-25T23:13:42.089110Z",
     "iopub.status.idle": "2024-05-25T23:13:51.102030Z",
     "shell.execute_reply": "2024-05-25T23:13:51.101075Z"
    },
    "lines_to_next_cell": 0,
    "papermill": {
     "duration": 9.021989,
     "end_time": "2024-05-25T23:13:51.104001",
     "exception": false,
     "start_time": "2024-05-25T23:13:42.082012",
     "status": "completed"
    },
    "tags": []
   },
   "outputs": [
    {
     "name": "stderr",
     "output_type": "stream",
     "text": [
      "WARNING: All log messages before absl::InitializeLog() is called are written to STDERR\n",
      "I0000 00:00:1716678824.008175      69 device_compiler.h:186] Compiled cluster using XLA!  This line is logged at most once for the lifetime of the process.\n"
     ]
    },
    {
     "name": "stdout",
     "output_type": "stream",
     "text": [
      "Minimum Validation Loss: 0.1976\n"
     ]
    },
    {
     "data": {
      "image/png": "[encoded data removed]",
      "text/plain": [
       "<Figure size 640x480 with 1 Axes>"
      ]
     },
     "metadata": {},
     "output_type": "display_data"
    }
   ],
   "source": [
    "model = keras.Sequential([\n",
    "    layers.Dense(1, input_shape=input_shape),\n",
    "])\n",
    "model.compile(\n",
    "    optimizer='adam',\n",
    "    loss='mae',\n",
    ")\n",
    "history = model.fit(\n",
    "    X_train, y_train,\n",
    "    validation_data=(X_valid, y_valid),\n",
    "    batch_size=512,\n",
    "    epochs=50,\n",
    "    verbose=0, # suppress output since we'll plot the curves\n",
    ")\n",
    "history_df = pd.DataFrame(history.history)\n",
    "history_df.loc[0:, ['loss', 'val_loss']].plot()\n",
    "print(\"Minimum Validation Loss: {:0.4f}\".format(history_df['val_loss'].min()));"
   ]
  },
  {
   "cell_type": "markdown",
   "id": "cd7c7abc",
   "metadata": {
    "papermill": {
     "duration": 0.00661,
     "end_time": "2024-05-25T23:13:51.117516",
     "exception": false,
     "start_time": "2024-05-25T23:13:51.110906",
     "status": "completed"
    },
    "tags": []
   },
   "source": [
    "It's not uncommon for the curves to follow a \"hockey stick\" pattern like you see here. This makes the final part of training hard to see, so let's start at epoch 10 instead:"
   ]
  },
  {
   "cell_type": "code",
   "execution_count": 4,
   "id": "b65bd2d7",
   "metadata": {
    "execution": {
     "iopub.execute_input": "2024-05-25T23:13:51.132484Z",
     "iopub.status.busy": "2024-05-25T23:13:51.132149Z",
     "iopub.status.idle": "2024-05-25T23:13:51.466927Z",
     "shell.execute_reply": "2024-05-25T23:13:51.466090Z"
    },
    "papermill": {
     "duration": 0.344835,
     "end_time": "2024-05-25T23:13:51.469143",
     "exception": false,
     "start_time": "2024-05-25T23:13:51.124308",
     "status": "completed"
    },
    "tags": []
   },
   "outputs": [
    {
     "name": "stdout",
     "output_type": "stream",
     "text": [
      "Minimum Validation Loss: 0.1976\n"
     ]
    },
    {
     "data": {
      "image/png": "[encoded data removed]",
      "text/plain": [
       "<Figure size 640x480 with 1 Axes>"
      ]
     },
     "metadata": {},
     "output_type": "display_data"
    }
   ],
   "source": [
    "# Start the plot at epoch 10\n",
    "history_df.loc[10:, ['loss', 'val_loss']].plot()\n",
    "print(\"Minimum Validation Loss: {:0.4f}\".format(history_df['val_loss'].min()));"
   ]
  },
  {
   "cell_type": "markdown",
   "id": "dd3b50e4",
   "metadata": {
    "papermill": {
     "duration": 0.008099,
     "end_time": "2024-05-25T23:13:51.484739",
     "exception": false,
     "start_time": "2024-05-25T23:13:51.476640",
     "status": "completed"
    },
    "tags": []
   },
   "source": [
    "# 1) Evaluate Baseline\n",
    "\n",
    "What do you think? Would you say this model is underfitting, overfitting, just right?"
   ]
  },
  {
   "cell_type": "code",
   "execution_count": 5,
   "id": "59354eae",
   "metadata": {
    "execution": {
     "iopub.execute_input": "2024-05-25T23:13:51.500782Z",
     "iopub.status.busy": "2024-05-25T23:13:51.500483Z",
     "iopub.status.idle": "2024-05-25T23:13:51.507805Z",
     "shell.execute_reply": "2024-05-25T23:13:51.506980Z"
    },
    "papermill": {
     "duration": 0.017563,
     "end_time": "2024-05-25T23:13:51.509770",
     "exception": false,
     "start_time": "2024-05-25T23:13:51.492207",
     "status": "completed"
    },
    "tags": []
   },
   "outputs": [
    {
     "data": {
      "application/javascript": [
       "parent.postMessage({\"jupyterEvent\": \"custom.exercise_interaction\", \"data\": {\"outcomeType\": 1, \"valueTowardsCompletion\": 0.25, \"interactionType\": 1, \"questionType\": 4, \"questionId\": \"1_Q1\", \"learnToolsVersion\": \"0.3.4\", \"failureMessage\": \"\", \"exceptionClass\": \"\", \"trace\": \"\"}}, \"*\")"
      ],
      "text/plain": [
       "<IPython.core.display.Javascript object>"
      ]
     },
     "metadata": {},
     "output_type": "display_data"
    },
    {
     "data": {
      "text/markdown": [
       "<span style=\"color:#33cc33\">Correct:</span> \n",
       "\n",
       "The gap between these curves is quite small and the validation loss never increases, so it's more likely that the network is underfitting than overfitting. It would be worth experimenting with more capacity to see if that's the case."
      ],
      "text/plain": [
       "Correct: \n",
       "\n",
       "The gap between these curves is quite small and the validation loss never increases, so it's more likely that the network is underfitting than overfitting. It would be worth experimenting with more capacity to see if that's the case."
      ]
     },
     "metadata": {},
     "output_type": "display_data"
    }
   ],
   "source": [
    "# View the solution (Run this cell to receive credit!)\n",
    "q_1.check()"
   ]
  },
  {
   "cell_type": "markdown",
   "id": "8f5fe4f5",
   "metadata": {
    "papermill": {
     "duration": 0.007285,
     "end_time": "2024-05-25T23:13:51.524612",
     "exception": false,
     "start_time": "2024-05-25T23:13:51.517327",
     "status": "completed"
    },
    "tags": []
   },
   "source": [
    "Now let's add some capacity to our network. We'll add three hidden layers with 128 units each. Run the next cell to train the network and see the learning curves."
   ]
  },
  {
   "cell_type": "code",
   "execution_count": 6,
   "id": "a6f25e48",
   "metadata": {
    "execution": {
     "iopub.execute_input": "2024-05-25T23:13:51.540857Z",
     "iopub.status.busy": "2024-05-25T23:13:51.540570Z",
     "iopub.status.idle": "2024-05-25T23:14:02.694328Z",
     "shell.execute_reply": "2024-05-25T23:14:02.693412Z"
    },
    "papermill": {
     "duration": 11.164536,
     "end_time": "2024-05-25T23:14:02.696639",
     "exception": false,
     "start_time": "2024-05-25T23:13:51.532103",
     "status": "completed"
    },
    "tags": []
   },
   "outputs": [
    {
     "name": "stdout",
     "output_type": "stream",
     "text": [
      "Epoch 1/50\n",
      "49/49 [==============================] - 1s 6ms/step - loss: 0.2281 - val_loss: 0.2075\n",
      "Epoch 2/50\n",
      "49/49 [==============================] - 0s 3ms/step - loss: 0.2002 - val_loss: 0.2038\n",
      "Epoch 3/50\n",
      "49/49 [==============================] - 0s 3ms/step - loss: 0.1951 - val_loss: 0.2009\n",
      "Epoch 4/50\n",
      "49/49 [==============================] - 0s 4ms/step - loss: 0.1922 - val_loss: 0.2008\n",
      "Epoch 5/50\n",
      "49/49 [==============================] - 0s 3ms/step - loss: 0.1905 - val_loss: 0.1980\n",
      "Epoch 6/50\n",
      "49/49 [==============================] - 0s 4ms/step - loss: 0.1884 - val_loss: 0.1992\n",
      "Epoch 7/50\n",
      "49/49 [==============================] - 0s 3ms/step - loss: 0.1874 - val_loss: 0.1987\n",
      "Epoch 8/50\n",
      "49/49 [==============================] - 0s 3ms/step - loss: 0.1863 - val_loss: 0.1980\n",
      "Epoch 9/50\n",
      "49/49 [==============================] - 0s 3ms/step - loss: 0.1849 - val_loss: 0.1989\n",
      "Epoch 10/50\n",
      "49/49 [==============================] - 0s 4ms/step - loss: 0.1840 - val_loss: 0.1975\n",
      "Epoch 11/50\n",
      "49/49 [==============================] - 0s 4ms/step - loss: 0.1829 - val_loss: 0.1977\n",
      "Epoch 12/50\n",
      "49/49 [==============================] - 0s 3ms/step - loss: 0.1827 - val_loss: 0.1987\n",
      "Epoch 13/50\n",
      "49/49 [==============================] - 0s 3ms/step - loss: 0.1820 - val_loss: 0.1992\n",
      "Epoch 14/50\n",
      "49/49 [==============================] - 0s 3ms/step - loss: 0.1821 - val_loss: 0.1975\n",
      "Epoch 15/50\n",
      "49/49 [==============================] - 0s 3ms/step - loss: 0.1800 - val_loss: 0.1987\n",
      "Epoch 16/50\n",
      "49/49 [==============================] - 0s 3ms/step - loss: 0.1800 - val_loss: 0.2002\n",
      "Epoch 17/50\n",
      "49/49 [==============================] - 0s 4ms/step - loss: 0.1793 - val_loss: 0.1994\n",
      "Epoch 18/50\n",
      "49/49 [==============================] - 0s 3ms/step - loss: 0.1789 - val_loss: 0.1992\n",
      "Epoch 19/50\n",
      "49/49 [==============================] - 0s 3ms/step - loss: 0.1785 - val_loss: 0.1999\n",
      "Epoch 20/50\n",
      "49/49 [==============================] - 0s 4ms/step - loss: 0.1779 - val_loss: 0.1989\n",
      "Epoch 21/50\n",
      "49/49 [==============================] - 0s 4ms/step - loss: 0.1776 - val_loss: 0.2006\n",
      "Epoch 22/50\n",
      "49/49 [==============================] - 0s 3ms/step - loss: 0.1770 - val_loss: 0.2006\n",
      "Epoch 23/50\n",
      "49/49 [==============================] - 0s 4ms/step - loss: 0.1760 - val_loss: 0.2006\n",
      "Epoch 24/50\n",
      "49/49 [==============================] - 0s 3ms/step - loss: 0.1765 - val_loss: 0.2008\n",
      "Epoch 25/50\n",
      "49/49 [==============================] - 0s 3ms/step - loss: 0.1752 - val_loss: 0.1996\n",
      "Epoch 26/50\n",
      "49/49 [==============================] - 0s 3ms/step - loss: 0.1751 - val_loss: 0.2006\n",
      "Epoch 27/50\n",
      "49/49 [==============================] - 0s 3ms/step - loss: 0.1748 - val_loss: 0.1997\n",
      "Epoch 28/50\n",
      "49/49 [==============================] - 0s 3ms/step - loss: 0.1732 - val_loss: 0.2019\n",
      "Epoch 29/50\n",
      "49/49 [==============================] - 0s 3ms/step - loss: 0.1734 - val_loss: 0.2023\n",
      "Epoch 30/50\n",
      "49/49 [==============================] - 0s 3ms/step - loss: 0.1743 - val_loss: 0.2007\n",
      "Epoch 31/50\n",
      "49/49 [==============================] - 0s 3ms/step - loss: 0.1723 - val_loss: 0.2023\n",
      "Epoch 32/50\n",
      "49/49 [==============================] - 0s 4ms/step - loss: 0.1721 - val_loss: 0.2026\n",
      "Epoch 33/50\n",
      "49/49 [==============================] - 0s 4ms/step - loss: 0.1721 - val_loss: 0.2023\n",
      "Epoch 34/50\n",
      "49/49 [==============================] - 0s 3ms/step - loss: 0.1709 - val_loss: 0.2020\n",
      "Epoch 35/50\n",
      "49/49 [==============================] - 0s 3ms/step - loss: 0.1710 - val_loss: 0.2049\n",
      "Epoch 36/50\n",
      "49/49 [==============================] - 0s 3ms/step - loss: 0.1726 - val_loss: 0.2021\n",
      "Epoch 37/50\n",
      "49/49 [==============================] - 0s 4ms/step - loss: 0.1699 - val_loss: 0.2025\n",
      "Epoch 38/50\n",
      "49/49 [==============================] - 0s 4ms/step - loss: 0.1698 - val_loss: 0.2026\n",
      "Epoch 39/50\n",
      "49/49 [==============================] - 0s 4ms/step - loss: 0.1698 - val_loss: 0.2026\n",
      "Epoch 40/50\n",
      "49/49 [==============================] - 0s 4ms/step - loss: 0.1684 - val_loss: 0.2032\n",
      "Epoch 41/50\n",
      "49/49 [==============================] - 0s 3ms/step - loss: 0.1679 - val_loss: 0.2032\n",
      "Epoch 42/50\n",
      "49/49 [==============================] - 0s 4ms/step - loss: 0.1679 - val_loss: 0.2041\n",
      "Epoch 43/50\n",
      "49/49 [==============================] - 0s 4ms/step - loss: 0.1674 - val_loss: 0.2068\n",
      "Epoch 44/50\n",
      "49/49 [==============================] - 0s 3ms/step - loss: 0.1679 - val_loss: 0.2037\n",
      "Epoch 45/50\n",
      "49/49 [==============================] - 0s 4ms/step - loss: 0.1665 - val_loss: 0.2049\n",
      "Epoch 46/50\n",
      "49/49 [==============================] - 0s 3ms/step - loss: 0.1674 - val_loss: 0.2052\n",
      "Epoch 47/50\n",
      "49/49 [==============================] - 0s 3ms/step - loss: 0.1653 - val_loss: 0.2071\n",
      "Epoch 48/50\n",
      "49/49 [==============================] - 0s 3ms/step - loss: 0.1655 - val_loss: 0.2075\n",
      "Epoch 49/50\n",
      "49/49 [==============================] - 0s 4ms/step - loss: 0.1646 - val_loss: 0.2065\n",
      "Epoch 50/50\n",
      "49/49 [==============================] - 0s 3ms/step - loss: 0.1649 - val_loss: 0.2061\n",
      "Minimum Validation Loss: 0.1975\n"
     ]
    },
    {
     "data": {
      "image/png": "[encoded data removed]",
      "text/plain": [
       "<Figure size 640x480 with 1 Axes>"
      ]
     },
     "metadata": {},
     "output_type": "display_data"
    }
   ],
   "source": [
    "model = keras.Sequential([\n",
    "    layers.Dense(128, activation='relu', input_shape=input_shape),\n",
    "    layers.Dense(64, activation='relu'),\n",
    "    layers.Dense(1)\n",
    "])\n",
    "model.compile(\n",
    "    optimizer='adam',\n",
    "    loss='mae',\n",
    ")\n",
    "history = model.fit(\n",
    "    X_train, y_train,\n",
    "    validation_data=(X_valid, y_valid),\n",
    "    batch_size=512,\n",
    "    epochs=50,\n",
    ")\n",
    "history_df = pd.DataFrame(history.history)\n",
    "history_df.loc[:, ['loss', 'val_loss']].plot()\n",
    "print(\"Minimum Validation Loss: {:0.4f}\".format(history_df['val_loss'].min()));"
   ]
  },
  {
   "cell_type": "markdown",
   "id": "6fbc9335",
   "metadata": {
    "papermill": {
     "duration": 0.027973,
     "end_time": "2024-05-25T23:14:02.752778",
     "exception": false,
     "start_time": "2024-05-25T23:14:02.724805",
     "status": "completed"
    },
    "tags": []
   },
   "source": [
    "# 2) Add Capacity\n",
    "\n",
    "What is your evaluation of these curves? Underfitting, overfitting, just right?"
   ]
  },
  {
   "cell_type": "code",
   "execution_count": 7,
   "id": "16afdbf2",
   "metadata": {
    "execution": {
     "iopub.execute_input": "2024-05-25T23:14:02.810173Z",
     "iopub.status.busy": "2024-05-25T23:14:02.809284Z",
     "iopub.status.idle": "2024-05-25T23:14:02.817133Z",
     "shell.execute_reply": "2024-05-25T23:14:02.816203Z"
    },
    "papermill": {
     "duration": 0.038676,
     "end_time": "2024-05-25T23:14:02.819183",
     "exception": false,
     "start_time": "2024-05-25T23:14:02.780507",
     "status": "completed"
    },
    "tags": []
   },
   "outputs": [
    {
     "data": {
      "application/javascript": [
       "parent.postMessage({\"jupyterEvent\": \"custom.exercise_interaction\", \"data\": {\"outcomeType\": 1, \"valueTowardsCompletion\": 0.25, \"interactionType\": 1, \"questionType\": 4, \"questionId\": \"2_Q2\", \"learnToolsVersion\": \"0.3.4\", \"failureMessage\": \"\", \"exceptionClass\": \"\", \"trace\": \"\"}}, \"*\")"
      ],
      "text/plain": [
       "<IPython.core.display.Javascript object>"
      ]
     },
     "metadata": {},
     "output_type": "display_data"
    },
    {
     "data": {
      "text/markdown": [
       "<span style=\"color:#33cc33\">Correct:</span> \n",
       "\n",
       "Now the validation loss begins to rise very early, while the training loss continues to decrease. This indicates that the network has begun to overfit. At this point, we would need to try something to prevent it, either by reducing the number of units or through a method like early stopping. (We'll see another in the next lesson!)"
      ],
      "text/plain": [
       "Correct: \n",
       "\n",
       "Now the validation loss begins to rise very early, while the training loss continues to decrease. This indicates that the network has begun to overfit. At this point, we would need to try something to prevent it, either by reducing the number of units or through a method like early stopping. (We'll see another in the next lesson!)"
      ]
     },
     "metadata": {},
     "output_type": "display_data"
    }
   ],
   "source": [
    "# View the solution (Run this cell to receive credit!)\n",
    "q_2.check()"
   ]
  },
  {
   "cell_type": "markdown",
   "id": "a6e3c32b",
   "metadata": {
    "papermill": {
     "duration": 0.028171,
     "end_time": "2024-05-25T23:14:02.875331",
     "exception": false,
     "start_time": "2024-05-25T23:14:02.847160",
     "status": "completed"
    },
    "tags": []
   },
   "source": [
    "# 3) Define Early Stopping Callback\n",
    "\n",
    "Now define an early stopping callback that waits 5 epochs (`patience'`) for a change in validation loss of at least `0.001` (`min_delta`) and keeps the weights with the best loss (`restore_best_weights`)."
   ]
  },
  {
   "cell_type": "code",
   "execution_count": 8,
   "id": "44cec9dd",
   "metadata": {
    "execution": {
     "iopub.execute_input": "2024-05-25T23:14:02.936504Z",
     "iopub.status.busy": "2024-05-25T23:14:02.936157Z",
     "iopub.status.idle": "2024-05-25T23:14:02.944333Z",
     "shell.execute_reply": "2024-05-25T23:14:02.943435Z"
    },
    "lines_to_next_cell": 0,
    "papermill": {
     "duration": 0.039401,
     "end_time": "2024-05-25T23:14:02.946314",
     "exception": false,
     "start_time": "2024-05-25T23:14:02.906913",
     "status": "completed"
    },
    "tags": []
   },
   "outputs": [
    {
     "data": {
      "application/javascript": [
       "parent.postMessage({\"jupyterEvent\": \"custom.exercise_interaction\", \"data\": {\"outcomeType\": 1, \"valueTowardsCompletion\": 0.25, \"interactionType\": 1, \"questionType\": 2, \"questionId\": \"3_Q3\", \"learnToolsVersion\": \"0.3.4\", \"failureMessage\": \"\", \"exceptionClass\": \"\", \"trace\": \"\"}}, \"*\")"
      ],
      "text/plain": [
       "<IPython.core.display.Javascript object>"
      ]
     },
     "metadata": {},
     "output_type": "display_data"
    },
    {
     "data": {
      "text/markdown": [
       "<span style=\"color:#33cc33\">Correct</span>"
      ],
      "text/plain": [
       "Correct"
      ]
     },
     "metadata": {},
     "output_type": "display_data"
    }
   ],
   "source": [
    "from tensorflow.keras import callbacks\n",
    "\n",
    "# YOUR CODE HERE: define an early stopping callback\n",
    "early_stopping = callbacks.EarlyStopping(\n",
    "patience=5,\n",
    "min_delta = 0.001, \n",
    "restore_best_weights = True,\n",
    ")\n",
    "\n",
    "# Check your answer\n",
    "q_3.check()"
   ]
  },
  {
   "cell_type": "code",
   "execution_count": 9,
   "id": "4417b35e",
   "metadata": {
    "execution": {
     "iopub.execute_input": "2024-05-25T23:14:03.003991Z",
     "iopub.status.busy": "2024-05-25T23:14:03.003628Z",
     "iopub.status.idle": "2024-05-25T23:14:03.007502Z",
     "shell.execute_reply": "2024-05-25T23:14:03.006646Z"
    },
    "papermill": {
     "duration": 0.03496,
     "end_time": "2024-05-25T23:14:03.009491",
     "exception": false,
     "start_time": "2024-05-25T23:14:02.974531",
     "status": "completed"
    },
    "tags": []
   },
   "outputs": [],
   "source": [
    "# Lines below will give you a hint or solution code\n",
    "#q_3.hint()\n",
    "#q_3.solution()"
   ]
  },
  {
   "cell_type": "markdown",
   "id": "8d1d0f16",
   "metadata": {
    "papermill": {
     "duration": 0.027582,
     "end_time": "2024-05-25T23:14:03.065587",
     "exception": false,
     "start_time": "2024-05-25T23:14:03.038005",
     "status": "completed"
    },
    "tags": []
   },
   "source": [
    "Now run this cell to train the model and get the learning curves. Notice the `callbacks` argument in `model.fit`."
   ]
  },
  {
   "cell_type": "code",
   "execution_count": 10,
   "id": "cb839e56",
   "metadata": {
    "execution": {
     "iopub.execute_input": "2024-05-25T23:14:03.123371Z",
     "iopub.status.busy": "2024-05-25T23:14:03.123017Z",
     "iopub.status.idle": "2024-05-25T23:14:06.842449Z",
     "shell.execute_reply": "2024-05-25T23:14:06.841566Z"
    },
    "papermill": {
     "duration": 3.750883,
     "end_time": "2024-05-25T23:14:06.844925",
     "exception": false,
     "start_time": "2024-05-25T23:14:03.094042",
     "status": "completed"
    },
    "tags": []
   },
   "outputs": [
    {
     "name": "stdout",
     "output_type": "stream",
     "text": [
      "Epoch 1/50\n",
      "49/49 [==============================] - 1s 6ms/step - loss: 0.2202 - val_loss: 0.2055\n",
      "Epoch 2/50\n",
      "49/49 [==============================] - 0s 4ms/step - loss: 0.1976 - val_loss: 0.2018\n",
      "Epoch 3/50\n",
      "49/49 [==============================] - 0s 4ms/step - loss: 0.1936 - val_loss: 0.2007\n",
      "Epoch 4/50\n",
      "49/49 [==============================] - 0s 4ms/step - loss: 0.1919 - val_loss: 0.1995\n",
      "Epoch 5/50\n",
      "49/49 [==============================] - 0s 3ms/step - loss: 0.1896 - val_loss: 0.2021\n",
      "Epoch 6/50\n",
      "49/49 [==============================] - 0s 3ms/step - loss: 0.1883 - val_loss: 0.1998\n",
      "Epoch 7/50\n",
      "49/49 [==============================] - 0s 3ms/step - loss: 0.1869 - val_loss: 0.1985\n",
      "Epoch 8/50\n",
      "49/49 [==============================] - 0s 4ms/step - loss: 0.1860 - val_loss: 0.1982\n",
      "Epoch 9/50\n",
      "49/49 [==============================] - 0s 3ms/step - loss: 0.1849 - val_loss: 0.1982\n",
      "Epoch 10/50\n",
      "49/49 [==============================] - 0s 4ms/step - loss: 0.1847 - val_loss: 0.1990\n",
      "Epoch 11/50\n",
      "49/49 [==============================] - 0s 3ms/step - loss: 0.1837 - val_loss: 0.1983\n",
      "Epoch 12/50\n",
      "49/49 [==============================] - 0s 3ms/step - loss: 0.1823 - val_loss: 0.1996\n",
      "Epoch 13/50\n",
      "49/49 [==============================] - 0s 4ms/step - loss: 0.1819 - val_loss: 0.1986\n",
      "Minimum Validation Loss: 0.1982\n"
     ]
    },
    {
     "data": {
      "image/png": "[encoded data removed]",
      "text/plain": [
       "<Figure size 640x480 with 1 Axes>"
      ]
     },
     "metadata": {},
     "output_type": "display_data"
    }
   ],
   "source": [
    "model = keras.Sequential([\n",
    "    layers.Dense(128, activation='relu', input_shape=input_shape),\n",
    "    layers.Dense(64, activation='relu'),    \n",
    "    layers.Dense(1)\n",
    "])\n",
    "model.compile(\n",
    "    optimizer='adam',\n",
    "    loss='mae',\n",
    ")\n",
    "history = model.fit(\n",
    "    X_train, y_train,\n",
    "    validation_data=(X_valid, y_valid),\n",
    "    batch_size=512,\n",
    "    epochs=50,\n",
    "    callbacks=[early_stopping]\n",
    ")\n",
    "history_df = pd.DataFrame(history.history)\n",
    "history_df.loc[:, ['loss', 'val_loss']].plot()\n",
    "print(\"Minimum Validation Loss: {:0.4f}\".format(history_df['val_loss'].min()));"
   ]
  },
  {
   "cell_type": "markdown",
   "id": "77892100",
   "metadata": {
    "papermill": {
     "duration": 0.035179,
     "end_time": "2024-05-25T23:14:06.914727",
     "exception": false,
     "start_time": "2024-05-25T23:14:06.879548",
     "status": "completed"
    },
    "tags": []
   },
   "source": [
    "# 4) Train and Interpret\n",
    "\n",
    "Was this an improvement compared to training without early stopping?"
   ]
  },
  {
   "cell_type": "code",
   "execution_count": 11,
   "id": "ef959cde",
   "metadata": {
    "execution": {
     "iopub.execute_input": "2024-05-25T23:14:06.983678Z",
     "iopub.status.busy": "2024-05-25T23:14:06.982843Z",
     "iopub.status.idle": "2024-05-25T23:14:06.990234Z",
     "shell.execute_reply": "2024-05-25T23:14:06.989398Z"
    },
    "papermill": {
     "duration": 0.043923,
     "end_time": "2024-05-25T23:14:06.992253",
     "exception": false,
     "start_time": "2024-05-25T23:14:06.948330",
     "status": "completed"
    },
    "tags": []
   },
   "outputs": [
    {
     "data": {
      "application/javascript": [
       "parent.postMessage({\"jupyterEvent\": \"custom.exercise_interaction\", \"data\": {\"outcomeType\": 1, \"valueTowardsCompletion\": 0.25, \"interactionType\": 1, \"questionType\": 4, \"questionId\": \"4_Q4\", \"learnToolsVersion\": \"0.3.4\", \"failureMessage\": \"\", \"exceptionClass\": \"\", \"trace\": \"\"}}, \"*\")"
      ],
      "text/plain": [
       "<IPython.core.display.Javascript object>"
      ]
     },
     "metadata": {},
     "output_type": "display_data"
    },
    {
     "data": {
      "text/markdown": [
       "<span style=\"color:#33cc33\">Correct:</span> \n",
       "\n",
       "The early stopping callback did stop the training once the network began overfitting. Moreover, by including `restore_best_weights` we still get to keep the model where validation loss was lowest."
      ],
      "text/plain": [
       "Correct: \n",
       "\n",
       "The early stopping callback did stop the training once the network began overfitting. Moreover, by including `restore_best_weights` we still get to keep the model where validation loss was lowest."
      ]
     },
     "metadata": {},
     "output_type": "display_data"
    }
   ],
   "source": [
    "# View the solution (Run this cell to receive credit!)\n",
    "q_4.check()"
   ]
  },
  {
   "cell_type": "markdown",
   "id": "16e5dc79",
   "metadata": {
    "papermill": {
     "duration": 0.042287,
     "end_time": "2024-05-25T23:14:07.068392",
     "exception": false,
     "start_time": "2024-05-25T23:14:07.026105",
     "status": "completed"
    },
    "tags": []
   },
   "source": [
    "If you like, try experimenting with `patience` and `min_delta` to see what difference it might make.\n",
    "\n",
    "# Keep Going #\n",
    "\n",
    "Move on to [**learn about a couple of special layers**](https://www.kaggle.com/ryanholbrook/dropout-and-batch-normalization): batch normalization and dropout."
   ]
  },
  {
   "cell_type": "markdown",
   "id": "b29c3d05",
   "metadata": {
    "papermill": {
     "duration": 0.033819,
     "end_time": "2024-05-25T23:14:07.144988",
     "exception": false,
     "start_time": "2024-05-25T23:14:07.111169",
     "status": "completed"
    },
    "tags": []
   },
   "source": [
    "---\n",
    "\n",
    "\n",
    "\n",
    "\n",
    "*Have questions or comments? Visit the [course discussion forum](https://www.kaggle.com/learn/intro-to-deep-learning/discussion) to chat with other learners.*"
   ]
  }
 ],
 "metadata": {
  "jupytext": {
   "cell_metadata_filter": "-all",
   "formats": "ipynb"
  },
  "kaggle": {
   "accelerator": "gpu",
   "dataSources": [
    {
     "datasetId": 829369,
     "sourceId": 1480608,
     "sourceType": "datasetVersion"
    }
   ],
   "dockerImageVersionId": 30648,
   "isGpuEnabled": true,
   "isInternetEnabled": false,
   "language": "python",
   "sourceType": "notebook"
  },
  "kernelspec": {
   "display_name": "Python 3",
   "language": "python",
   "name": "python3"
  },
  "language_info": {
   "codemirror_mode": {
    "name": "ipython",
    "version": 3
   },
   "file_extension": ".py",
   "mimetype": "text/x-python",
   "name": "python",
   "nbconvert_exporter": "python",
   "pygments_lexer": "ipython3",
   "version": "3.10.13"
  },
  "papermill": {
   "default_parameters": {},
   "duration": 45.233586,
   "end_time": "2024-05-25T23:14:09.876731",
   "environment_variables": {},
   "exception": null,
   "input_path": "__notebook__.ipynb",
   "output_path": "__notebook__.ipynb",
   "parameters": {},
   "start_time": "2024-05-25T23:13:24.643145",
   "version": "2.5.0"
  }
 },
 "nbformat": 4,
 "nbformat_minor": 5
}
