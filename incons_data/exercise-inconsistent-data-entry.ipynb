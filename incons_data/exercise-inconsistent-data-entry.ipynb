{
 "cells": [
  {
   "cell_type": "markdown",
   "id": "4039fd57",
   "metadata": {
    "papermill": {
     "duration": 0.007543,
     "end_time": "2024-05-25T23:40:19.960601",
     "exception": false,
     "start_time": "2024-05-25T23:40:19.953058",
     "status": "completed"
    },
    "tags": []
   },
   "source": [
    "**This notebook is an exercise in the [Data Cleaning](https://www.kaggle.com/learn/data-cleaning) course.  You can reference the tutorial at [this link](https://www.kaggle.com/alexisbcook/inconsistent-data-entry).**\n",
    "\n",
    "---\n"
   ]
  },
  {
   "cell_type": "markdown",
   "id": "6ce3a427",
   "metadata": {
    "papermill": {
     "duration": 0.006266,
     "end_time": "2024-05-25T23:40:19.973737",
     "exception": false,
     "start_time": "2024-05-25T23:40:19.967471",
     "status": "completed"
    },
    "tags": []
   },
   "source": [
    "In this exercise, you'll apply what you learned in the **Inconsistent data entry** tutorial.\n",
    "\n",
    "# Setup\n",
    "\n",
    "The questions below will give you feedback on your work. Run the following cell to set up the feedback system."
   ]
  },
  {
   "cell_type": "code",
   "execution_count": 1,
   "id": "ac6c59f3",
   "metadata": {
    "execution": {
     "iopub.execute_input": "2024-05-25T23:40:19.988984Z",
     "iopub.status.busy": "2024-05-25T23:40:19.988510Z",
     "iopub.status.idle": "2024-05-25T23:40:21.084851Z",
     "shell.execute_reply": "2024-05-25T23:40:21.083002Z"
    },
    "papermill": {
     "duration": 1.107345,
     "end_time": "2024-05-25T23:40:21.087744",
     "exception": false,
     "start_time": "2024-05-25T23:40:19.980399",
     "status": "completed"
    },
    "tags": []
   },
   "outputs": [
    {
     "name": "stdout",
     "output_type": "stream",
     "text": [
      "Setup Complete\n"
     ]
    },
    {
     "name": "stderr",
     "output_type": "stream",
     "text": [
      "/opt/conda/lib/python3.10/site-packages/fuzzywuzzy/fuzz.py:11: UserWarning: Using slow pure-python SequenceMatcher. Install python-Levenshtein to remove this warning\n",
      "  warnings.warn('Using slow pure-python SequenceMatcher. Install python-Levenshtein to remove this warning')\n"
     ]
    }
   ],
   "source": [
    "from learntools.core import binder\n",
    "binder.bind(globals())\n",
    "from learntools.data_cleaning.ex5 import *\n",
    "print(\"Setup Complete\")"
   ]
  },
  {
   "cell_type": "markdown",
   "id": "812e1d22",
   "metadata": {
    "papermill": {
     "duration": 0.006615,
     "end_time": "2024-05-25T23:40:21.101391",
     "exception": false,
     "start_time": "2024-05-25T23:40:21.094776",
     "status": "completed"
    },
    "tags": []
   },
   "source": [
    "# Get our environment set up\n",
    "\n",
    "The first thing we'll need to do is load in the libraries and dataset we'll be using.  We use the same dataset from the tutorial."
   ]
  },
  {
   "cell_type": "code",
   "execution_count": 2,
   "id": "786be0c8",
   "metadata": {
    "execution": {
     "iopub.execute_input": "2024-05-25T23:40:21.117008Z",
     "iopub.status.busy": "2024-05-25T23:40:21.116646Z",
     "iopub.status.idle": "2024-05-25T23:40:21.134339Z",
     "shell.execute_reply": "2024-05-25T23:40:21.133154Z"
    },
    "papermill": {
     "duration": 0.028788,
     "end_time": "2024-05-25T23:40:21.136940",
     "exception": false,
     "start_time": "2024-05-25T23:40:21.108152",
     "status": "completed"
    },
    "tags": []
   },
   "outputs": [],
   "source": [
    "# modules we'll use\n",
    "import pandas as pd\n",
    "import numpy as np\n",
    "\n",
    "# helpful modules\n",
    "import fuzzywuzzy\n",
    "from fuzzywuzzy import process\n",
    "import charset_normalizer\n",
    "\n",
    "# read in all our data\n",
    "professors = pd.read_csv(\"../input/pakistan-intellectual-capital/pakistan_intellectual_capital.csv\")\n",
    "\n",
    "# set seed for reproducibility\n",
    "np.random.seed(0)"
   ]
  },
  {
   "cell_type": "markdown",
   "id": "aad4be13",
   "metadata": {
    "papermill": {
     "duration": 0.0066,
     "end_time": "2024-05-25T23:40:21.150518",
     "exception": false,
     "start_time": "2024-05-25T23:40:21.143918",
     "status": "completed"
    },
    "tags": []
   },
   "source": [
    "Next, we'll redo all of the work that we did in the tutorial."
   ]
  },
  {
   "cell_type": "code",
   "execution_count": 3,
   "id": "c34cbdc0",
   "metadata": {
    "execution": {
     "iopub.execute_input": "2024-05-25T23:40:21.167092Z",
     "iopub.status.busy": "2024-05-25T23:40:21.166591Z",
     "iopub.status.idle": "2024-05-25T23:40:21.186579Z",
     "shell.execute_reply": "2024-05-25T23:40:21.185419Z"
    },
    "papermill": {
     "duration": 0.031207,
     "end_time": "2024-05-25T23:40:21.188971",
     "exception": false,
     "start_time": "2024-05-25T23:40:21.157764",
     "status": "completed"
    },
    "tags": []
   },
   "outputs": [
    {
     "name": "stdout",
     "output_type": "stream",
     "text": [
      "All done!\n"
     ]
    }
   ],
   "source": [
    "# convert to lower case\n",
    "professors['Country'] = professors['Country'].str.lower()\n",
    "# remove trailing white spaces\n",
    "professors['Country'] = professors['Country'].str.strip()\n",
    "\n",
    "# get the top 10 closest matches to \"south korea\"\n",
    "countries = professors['Country'].unique()\n",
    "matches = fuzzywuzzy.process.extract(\"south korea\", countries, limit=10, scorer=fuzzywuzzy.fuzz.token_sort_ratio)\n",
    "\n",
    "def replace_matches_in_column(df, column, string_to_match, min_ratio = 47):\n",
    "    # get a list of unique strings\n",
    "    strings = df[column].unique()\n",
    "    \n",
    "    # get the top 10 closest matches to our input string\n",
    "    matches = fuzzywuzzy.process.extract(string_to_match, strings, \n",
    "                                         limit=10, scorer=fuzzywuzzy.fuzz.token_sort_ratio)\n",
    "\n",
    "    # only get matches with a ratio > 90\n",
    "    close_matches = [matches[0] for matches in matches if matches[1] >= min_ratio]\n",
    "\n",
    "    # get the rows of all the close matches in our dataframe\n",
    "    rows_with_matches = df[column].isin(close_matches)\n",
    "\n",
    "    # replace all rows with close matches with the input matches \n",
    "    df.loc[rows_with_matches, column] = string_to_match\n",
    "    \n",
    "    # let us know the function's done\n",
    "    print(\"All done!\")\n",
    "    \n",
    "replace_matches_in_column(df=professors, column='Country', string_to_match=\"south korea\")\n",
    "countries = professors['Country'].unique()"
   ]
  },
  {
   "cell_type": "markdown",
   "id": "8ae17713",
   "metadata": {
    "papermill": {
     "duration": 0.006766,
     "end_time": "2024-05-25T23:40:21.202992",
     "exception": false,
     "start_time": "2024-05-25T23:40:21.196226",
     "status": "completed"
    },
    "tags": []
   },
   "source": [
    "# 1) Examine another column\n",
    "\n",
    "Write code below to take a look at all the unique values in the \"Graduated from\" column."
   ]
  },
  {
   "cell_type": "code",
   "execution_count": 4,
   "id": "b6532dc1",
   "metadata": {
    "execution": {
     "iopub.execute_input": "2024-05-25T23:40:21.219414Z",
     "iopub.status.busy": "2024-05-25T23:40:21.218659Z",
     "iopub.status.idle": "2024-05-25T23:40:21.227049Z",
     "shell.execute_reply": "2024-05-25T23:40:21.225997Z"
    },
    "papermill": {
     "duration": 0.021248,
     "end_time": "2024-05-25T23:40:21.231229",
     "exception": false,
     "start_time": "2024-05-25T23:40:21.209981",
     "status": "completed"
    },
    "tags": []
   },
   "outputs": [
    {
     "name": "stdout",
     "output_type": "stream",
     "text": [
      "['Asian Institute of Technology'\n",
      " 'Balochistan University of Information Technology, Engineering and Management Sciences'\n",
      " 'University of Balochistan' \"Sardar Bahadur Khan Women's University\"\n",
      " 'SRH Hochschule Heidelberg'\n",
      " 'Institute of Business Administration,Karachi' 'DUET,Karachi'\n",
      " 'University of Turbat' 'University of Vienna' 'Monash University'\n",
      " 'University of Stirling' 'Chinese Academy of Sciences'\n",
      " 'University of Innsbruck' 'Vienna University of Technology'\n",
      " 'University of Paris-Est' 'The University of Cambridge'\n",
      " 'Harbin Institute of Technology' 'University of Nice, Sophia Antipolis'\n",
      " 'The University of York' 'Galilée - Université Paris 13'\n",
      " 'University of Bedfordshire' 'North Dakota State University'\n",
      " 'Kyungpook National University' 'The University of Manchester'\n",
      " 'National University of Sciences and Technology'\n",
      " 'FAST– National University of Computer and Emerging Sciences'\n",
      " 'Capital University of Science & Technology' 'Gomal University'\n",
      " 'University of Malaya' 'KTH Royal Institute of Technology'\n",
      " 'University of Technology' 'COMSATS Institute of Information Technology'\n",
      " 'Government College University' 'Mohammad Ali Jinnah University'\n",
      " 'Shaheed Zulfikar Ali Bhutto Institute of Science and Technology'\n",
      " 'Blekinge Institute of Technology' 'University of Grenoble'\n",
      " 'Politecnico di Torino' '\\xa0University of Missouri, KC'\n",
      " 'University of Bonn' 'University of Paris' 'The University of Leeds'\n",
      " '\\xa0University of Windsor'\n",
      " '\\xa0National University of Sciences and Technology-NIIT'\n",
      " 'University of Trento' 'Stockholm University'\n",
      " 'University of New South Wales, Sydney' 'Kingston University London'\n",
      " 'Griffith University' 'University of Salford' 'Loughborough University'\n",
      " 'International Islamic University,Islamabad'\n",
      " 'University of Central Missouri' 'Riphah International University'\n",
      " 'University of BedfordShire' 'University of Illinois'\n",
      " 'University Of Oslo' 'Nancy 2 University' 'University of Limerick'\n",
      " 'Ghulam Ishaq Khan Institute of Science and Technology'\n",
      " 'University Of Waterloo' 'University of Stuttgart'\n",
      " 'Liverpool John Moores University' 'University Of Caen'\n",
      " 'Paris Tech University of Eurecom' 'University Of Salford'\n",
      " 'Lahore University of Management Sciences'\n",
      " 'Dresden University Of Technology, Dresden\\xa0'\n",
      " 'COMSATS Institute of Information Technology,Vehari'\n",
      " 'COMSATS Institute of Information Technology,Wah Cantt' 'TU Berlin'\n",
      " 'FAST– National University of Computer and Emerging Sciences,Islamabad'\n",
      " 'Tsinghua University' 'The University of Auckland' 'IQRA University'\n",
      " 'Universiti Teknologi PETRONAS'\n",
      " 'COMSATS Institute of Information Technology,Islamabad'\n",
      " 'Razak School of Engineering and Advanced Technology, Universiti Teknologi Malaysia (UTM)'\n",
      " 'National University of Modern Languages'\n",
      " 'University of Engineering and Technology'\n",
      " 'University Institute of Information Technology'\n",
      " 'University of Arid Agriculture' 'Quaid-i-Azam University'\n",
      " 'Queen Mary University of London'\n",
      " 'Pakistan Institute of Engineering and Applied Sciences'\n",
      " 'Pohang University of Science and Technology' 'Uppsala University'\n",
      " 'Kyung Hee University' 'University of Liverpool'\n",
      " 'University of Sunderland' 'Mid Sweden University'\n",
      " 'Bahria University,Islamabad' 'Chosun University' 'University of Sussex'\n",
      " 'Paris Descartes University' 'University of Leicester'\n",
      " 'University of Porto' 'University of Manchester'\n",
      " 'Université Henri Poincaré, Nancy 1,' 'Bahria University'\n",
      " 'Centre for Advanced Studies in Engineering'\n",
      " 'Norwegian University of Science and Technology (NTNU),'\n",
      " 'The Islamia University of Bahawalpur ' 'Universiti Technologi'\n",
      " 'California State University' 'University of Genova'\n",
      " 'University of Engineering and Technology,Taxila'\n",
      " 'University of\\xa0Liverpool John Moores University' 'Guildford'\n",
      " 'University of Bradford' 'Graz University of Technology'\n",
      " 'Huazhong University of Science and Technology (HUST), Wuhan'\n",
      " 'University of Konstanz'\n",
      " 'National University of Modern Languages,Islamabad'\n",
      " 'FAST– National University of Computer and Emerging Sciences,Lahore'\n",
      " 'Gwangju Institute of Science and Technology' 'University of Birmingham'\n",
      " 'Manchester University' 'Beijing Institute of Technology'\n",
      " 'University of Paisley'\n",
      " 'Univ of Porto/Univ of Aveiro Portugal/Uni of Minho'\n",
      " 'University of Peshawar' 'Universität Salzburg'\n",
      " 'Colorado State University' 'University of Virginia'\n",
      " 'University of Orleans' 'Zhejiang University' 'University of Leeds'\n",
      " 'Foundation University' 'Barani Institute of Information Technology'\n",
      " 'Abasyn University' 'Pir Mehr Ali Shah Arid Agriculture University'\n",
      " 'Preston' 'University of Bergen' 'Universtiy of Lahore'\n",
      " 'HITEC University,Taxila' 'Allama Iqbal Open University'\n",
      " 'University of Wales,Aberystwyth' '\\xa0University of Bonn'\n",
      " '\\xa0Hongik University'\n",
      " 'Skolkovo Institute of Science and Technology,\\xa0'\n",
      " 'Agricultural University Peshawar' 'National Textile University'\n",
      " 'FAST– National University of Computer and Emerging Sciences,Chiniot-Faisalabad'\n",
      " 'FAST– National University of Computer and Emerging Sciences,Peshawar'\n",
      " '\\xa0Boston University' 'Brunel University'\n",
      " 'George Washington University' 'University of the Punjab'\n",
      " '\\xa0University of Bedfordshire' 'University Of Southern California'\n",
      " 'Beihang University' 'Institute of Business Administration'\n",
      " 'Abdus Salam School of Mathematical Sciences,GC University'\n",
      " 'Linköping University'\n",
      " 'National College of Business Administration and Economics'\n",
      " 'Åbo Akademi University,' 'University of Central Punjab'\n",
      " 'University of Ulm' 'University of Agriculture'\n",
      " 'University of Notre Dame Indiana\\xa0'\n",
      " 'Punjab University College of Information Technology'\n",
      " 'Ilmenau University of Technology' ' Iowa State University'\n",
      " ' University of Innsbruck' 'Vrije University, Amsterdam'\n",
      " ' Columbia University' 'University of Freiburg'\n",
      " ' Delft University of Technology'\n",
      " ' University of Texas at Arlington (UTA)' ' University of Turin'\n",
      " ' University of Central Florida' 'Saarland University'\n",
      " 'University of Central Florida' 'Oxford Brookes University'\n",
      " 'Information Technology University (ITU)' 'University of Canterbury'\n",
      " 'University of Patras' 'Middle East Technical University'\n",
      " 'University of Bristol' 'University of Southern California'\n",
      " 'Northeastern University,Boston' 'Purdue University'\n",
      " 'University of Plymouth' 'University of South Australia'\n",
      " 'Stanford University' 'Chalmers University of Technology'\n",
      " 'Massachusetts Institute of Technology' 'Sapienza University of Rome'\n",
      " 'Eindhoven University of Technology (TU/e)'\n",
      " 'United Nations University International Institute for Software Technology (UNU-IIST)'\n",
      " 'Georgetown University,DC' 'RWTH Aachen University' 'Columbia University'\n",
      " 'Rutgers State University of New Jersey, NJ' 'University of Florida'\n",
      " 'Technical University of Braunschweig'\n",
      " 'Carnegie Mellon University, Pittsburgh' 'The Ohio State University'\n",
      " 'National University of Singapore' 'University of British Columbia'\n",
      " 'University of Pittsburgh' 'The State University of New Jersey'\n",
      " 'The University of Texas at Austin'\n",
      " 'Imperial College, University of London' 'University of Colorado\\xa0'\n",
      " 'University of Bath' 'Tilburg University'\n",
      " 'Pompeu Fabra University Barcelona'\n",
      " 'University of Management and Technology'\n",
      " 'COMSATS Institute of Information Technology,Lahore'\n",
      " 'University of Agriculture, Faisalabad\\xa0'\n",
      " 'University of Engineering & Technology'\n",
      " 'University of Agriculture, Faisalabad'\n",
      " 'Fatima Jinnah Women University, Rawalpindi'\n",
      " 'Kohat University of Science & Technology, Kohat'\n",
      " 'Virtual University of Pakistan' 'Bahauddin Zakariya University'\n",
      " 'University of the Punjab,Gujranwala'\n",
      " 'Lahore College for Women University' 'Superior University, Lahore'\n",
      " 'Shaheed Zulfikar Ali Bhutto Institute of Science and Technology,Islamabad'\n",
      " 'University of South Florida' 'Politecnico di Milano'\n",
      " 'Abdul Wali Khan University, Mardan' 'University of Lahore'\n",
      " 'Minhaj University Lahore' 'Lahore Leads University'\n",
      " 'Middlesex University' 'Beijing Institute of Technology Beijing'\n",
      " 'Beaconhouse National University' 'Hamdard University' 'University Paris'\n",
      " 'Sindh University' 'NED University of Engineering And Technology'\n",
      " 'Staffordshire University' 'DePaul University, Chicago'\n",
      " 'University of Kent' 'Mehran University of Engineering & Technology'\n",
      " 'Quaid-e-Awam University of Engineering, Science & Technology'\n",
      " 'Shah Abdul Latif University, Khairpur' 'Sindh Agriculture University'\n",
      " 'Swansea' 'University of Shanghai for Science and Technology'\n",
      " 'Griffith University,Nathan Campus' 'University of Essex'\n",
      " 'Xiamen university' 'Wayne State University'\n",
      " 'The Queens University of Belfast' 'Sungkyunkwan University'\n",
      " 'Nanyang Tech University' \"Universite d'Evry Val d'Essonne\"\n",
      " 'Sir Syed University of Engineering and Technology'\n",
      " 'New York Institute of Technology' 'Fedral Urdu University'\n",
      " 'ISRA University' 'University of Karachi' 'South Asian University'\n",
      " 'Capital University of Science and Technology'\n",
      " 'University of Manchester Institute of Science and Technology'\n",
      " 'The University of Birmingham'\n",
      " 'Max Planck Institute for Computer Science' 'George Mason University'\n",
      " 'University of Southampton' 'Temple University' 'University of Bayreuth'\n",
      " 'Muroran Institute of Technology,Hokkaido' 'University of Bologna'\n",
      " 'International Islamic University'\n",
      " 'PAF-Karachi Institute of Economics and Technology'\n",
      " 'Institute of Business Administration,Sukkur' 'Myongji University'\n",
      " 'State University of New York System' 'SSindh Agriculture University'\n",
      " 'London University' 'Universiti Putra Malaysia Putra'\n",
      " 'University of Rome Tor Vergata' 'University of Mississippi\\xa0'\n",
      " 'University of Wales' 'University of Northampton'\n",
      " 'University of Abertay Dundee'\n",
      " 'Biztek Institute Of Business & Technology,Karachi'\n",
      " 'University of Surrey' 'Jinnah University for Women'\n",
      " '\\xa0Nanyang Technological University' 'Tokyo Institute of Technology'\n",
      " 'NCSU' 'Usman Institute of Technology' 'Hanyang University, Ansan' 'BUKC'\n",
      " 'Universtiy of Karachi' 'Pace University, New York' 'INSA de Lyon, Rhone'\n",
      " 'University of Dundee' 'Illinois Institute of Technology'\n",
      " 'City University of Science and Technology'\n",
      " 'Usman Institute of Technology (Hamdard University)'\n",
      " 'University of Malaga' 'Manchester Metropolitan University'\n",
      " 'Kyushu University,Fukuoka'\n",
      " 'King Abdullah University of Science and Technology'\n",
      " 'INRIA Saclay Ile-de-France' 'Université de la Rochelle'\n",
      " 'University of South Brittany' 'Aston University, Birmingham'\n",
      " 'University of Agriculture Faisalabad' 'Hamburg University of Technology'\n",
      " 'Government College University, Faisalabad' 'JKU' 'University of Oviedo'\n",
      " 'Beijing University of Posts & Telecommunications'\n",
      " 'Government College University,Faisalabad' 'Nottingham Trent University'\n",
      " 'University of Glasgow' 'Coventry University'\n",
      " 'Riphah International University,Faisalabad'\n",
      " 'Australian National University, Caneberra'\n",
      " 'Swedish University of Agricultural Sciences, Uppsala'\n",
      " 'University of Gujrat' 'IQRA University,Islamabad' 'Jonkoping University'\n",
      " 'Colorado Technical University' 'Cranfield University'\n",
      " 'Technical University of Graz' 'University of York'\n",
      " 'Brock University Canada' 'University of Westminster'\n",
      " 'University of Saarland' 'The University of Queensland'\n",
      " 'University of Rochester' 'Islamia College University '\n",
      " 'IBMS KP Agricultural University Peshawar' 'University of Kuala Lumpur'\n",
      " 'University of Regina' 'TU Wien' 'Swinburne University Of Technology'\n",
      " 'Institute Of Managment Sciences, Peshawar'\n",
      " 'Universiti Tun Hussein Onn Malaysia'\n",
      " 'Institute of Management Sciences, Peshawar' 'University of Huddersfield'\n",
      " 'University of Engineering and Technology,Peshawar'\n",
      " 'IQRA University,Karachi' 'John Moorse University, Liverpool'\n",
      " 'CECOS University of Information Technology and Emerging Sciences,Peshawar'\n",
      " 'University of the West Scotland' 'Concordia University,Montreal' 'JNU'\n",
      " 'Grenoble' 'Florida Atlantic University' 'Seoul National University']\n"
     ]
    }
   ],
   "source": [
    "# TODO: Your code here\n",
    "print(professors[\"Graduated from\"].unique())"
   ]
  },
  {
   "cell_type": "markdown",
   "id": "6449ac4e",
   "metadata": {
    "papermill": {
     "duration": 0.007603,
     "end_time": "2024-05-25T23:40:21.246481",
     "exception": false,
     "start_time": "2024-05-25T23:40:21.238878",
     "status": "completed"
    },
    "tags": []
   },
   "source": [
    "Do you notice any inconsistencies in the data?  Can any of the inconsistencies in the data be fixed by removing white spaces at the beginning and end of cells?\n",
    "\n",
    "Once you have answered these questions, run the code cell below to get credit for your work."
   ]
  },
  {
   "cell_type": "code",
   "execution_count": 5,
   "id": "03be18c9",
   "metadata": {
    "execution": {
     "iopub.execute_input": "2024-05-25T23:40:21.265003Z",
     "iopub.status.busy": "2024-05-25T23:40:21.264531Z",
     "iopub.status.idle": "2024-05-25T23:40:21.275269Z",
     "shell.execute_reply": "2024-05-25T23:40:21.274172Z"
    },
    "papermill": {
     "duration": 0.022514,
     "end_time": "2024-05-25T23:40:21.277600",
     "exception": false,
     "start_time": "2024-05-25T23:40:21.255086",
     "status": "completed"
    },
    "tags": []
   },
   "outputs": [
    {
     "data": {
      "application/javascript": [
       "parent.postMessage({\"jupyterEvent\": \"custom.exercise_interaction\", \"data\": {\"outcomeType\": 1, \"valueTowardsCompletion\": 0.3333333333333333, \"interactionType\": 1, \"questionType\": 4, \"questionId\": \"1_ExamineProvince\", \"learnToolsVersion\": \"0.3.4\", \"failureMessage\": \"\", \"exceptionClass\": \"\", \"trace\": \"\"}}, \"*\")"
      ],
      "text/plain": [
       "<IPython.core.display.Javascript object>"
      ]
     },
     "metadata": {},
     "output_type": "display_data"
    },
    {
     "data": {
      "text/markdown": [
       "<span style=\"color:#33cc33\">Correct:</span> \n",
       "\n",
       "There are inconsistencies that can be fixed by removing white spaces at the beginning and end of cells.  For instance, \"University of Central Florida\" and \" University of Central Florida\" both appear in the column."
      ],
      "text/plain": [
       "Correct: \n",
       "\n",
       "There are inconsistencies that can be fixed by removing white spaces at the beginning and end of cells.  For instance, \"University of Central Florida\" and \" University of Central Florida\" both appear in the column."
      ]
     },
     "metadata": {},
     "output_type": "display_data"
    }
   ],
   "source": [
    "# Check your answer (Run this code cell to receive credit!)\n",
    "q1.check()"
   ]
  },
  {
   "cell_type": "code",
   "execution_count": 6,
   "id": "479496af",
   "metadata": {
    "execution": {
     "iopub.execute_input": "2024-05-25T23:40:21.296219Z",
     "iopub.status.busy": "2024-05-25T23:40:21.295767Z",
     "iopub.status.idle": "2024-05-25T23:40:21.305009Z",
     "shell.execute_reply": "2024-05-25T23:40:21.303683Z"
    },
    "papermill": {
     "duration": 0.021607,
     "end_time": "2024-05-25T23:40:21.307325",
     "exception": false,
     "start_time": "2024-05-25T23:40:21.285718",
     "status": "completed"
    },
    "tags": []
   },
   "outputs": [
    {
     "data": {
      "application/javascript": [
       "parent.postMessage({\"jupyterEvent\": \"custom.exercise_interaction\", \"data\": {\"interactionType\": 2, \"questionType\": 4, \"questionId\": \"1_ExamineProvince\", \"learnToolsVersion\": \"0.3.4\", \"valueTowardsCompletion\": 0.0, \"failureMessage\": \"\", \"exceptionClass\": \"\", \"trace\": \"\", \"outcomeType\": 4}}, \"*\")"
      ],
      "text/plain": [
       "<IPython.core.display.Javascript object>"
      ]
     },
     "metadata": {},
     "output_type": "display_data"
    },
    {
     "data": {
      "text/markdown": [
       "<span style=\"color:#3366cc\">Hint:</span> Use `unis = professors['Graduated from'].unique()` to take a look at the unique values in the 'Graduated from' column. You may find it useful to sort the data before printing it."
      ],
      "text/plain": [
       "Hint: Use `unis = professors['Graduated from'].unique()` to take a look at the unique values in the 'Graduated from' column. You may find it useful to sort the data before printing it."
      ]
     },
     "metadata": {},
     "output_type": "display_data"
    }
   ],
   "source": [
    "# Line below will give you a hint\n",
    "q1.hint()"
   ]
  },
  {
   "cell_type": "markdown",
   "id": "4b06c425",
   "metadata": {
    "papermill": {
     "duration": 0.00795,
     "end_time": "2024-05-25T23:40:21.323582",
     "exception": false,
     "start_time": "2024-05-25T23:40:21.315632",
     "status": "completed"
    },
    "tags": []
   },
   "source": [
    "# 2) Do some text pre-processing\n",
    "\n",
    "Convert every entry in the \"Graduated from\" column in the `professors` DataFrame to remove white spaces at the beginning and end of cells."
   ]
  },
  {
   "cell_type": "code",
   "execution_count": 7,
   "id": "7358bdaa",
   "metadata": {
    "execution": {
     "iopub.execute_input": "2024-05-25T23:40:21.342169Z",
     "iopub.status.busy": "2024-05-25T23:40:21.341678Z",
     "iopub.status.idle": "2024-05-25T23:40:21.354872Z",
     "shell.execute_reply": "2024-05-25T23:40:21.352973Z"
    },
    "papermill": {
     "duration": 0.025686,
     "end_time": "2024-05-25T23:40:21.357448",
     "exception": false,
     "start_time": "2024-05-25T23:40:21.331762",
     "status": "completed"
    },
    "tags": []
   },
   "outputs": [
    {
     "data": {
      "application/javascript": [
       "parent.postMessage({\"jupyterEvent\": \"custom.exercise_interaction\", \"data\": {\"outcomeType\": 1, \"valueTowardsCompletion\": 0.3333333333333333, \"interactionType\": 1, \"questionType\": 1, \"questionId\": \"2_TextProcessing\", \"learnToolsVersion\": \"0.3.4\", \"failureMessage\": \"\", \"exceptionClass\": \"\", \"trace\": \"\"}}, \"*\")"
      ],
      "text/plain": [
       "<IPython.core.display.Javascript object>"
      ]
     },
     "metadata": {},
     "output_type": "display_data"
    },
    {
     "data": {
      "text/markdown": [
       "<span style=\"color:#33cc33\">Correct</span>"
      ],
      "text/plain": [
       "Correct"
      ]
     },
     "metadata": {},
     "output_type": "display_data"
    }
   ],
   "source": [
    "# TODO: Your code here\n",
    " \n",
    "professors['Graduated from'] = professors['Graduated from'].str.strip()\n",
    "# Check your answer\n",
    "q2.check()"
   ]
  },
  {
   "cell_type": "code",
   "execution_count": 8,
   "id": "c4e8d2ec",
   "metadata": {
    "execution": {
     "iopub.execute_input": "2024-05-25T23:40:21.376180Z",
     "iopub.status.busy": "2024-05-25T23:40:21.375813Z",
     "iopub.status.idle": "2024-05-25T23:40:21.385151Z",
     "shell.execute_reply": "2024-05-25T23:40:21.384090Z"
    },
    "papermill": {
     "duration": 0.021504,
     "end_time": "2024-05-25T23:40:21.387531",
     "exception": false,
     "start_time": "2024-05-25T23:40:21.366027",
     "status": "completed"
    },
    "tags": []
   },
   "outputs": [
    {
     "data": {
      "application/javascript": [
       "parent.postMessage({\"jupyterEvent\": \"custom.exercise_interaction\", \"data\": {\"interactionType\": 3, \"questionType\": 1, \"questionId\": \"2_TextProcessing\", \"learnToolsVersion\": \"0.3.4\", \"valueTowardsCompletion\": 0.0, \"failureMessage\": \"\", \"exceptionClass\": \"\", \"trace\": \"\", \"outcomeType\": 4}}, \"*\")"
      ],
      "text/plain": [
       "<IPython.core.display.Javascript object>"
      ]
     },
     "metadata": {},
     "output_type": "display_data"
    },
    {
     "data": {
      "text/markdown": [
       "<span style=\"color:#33cc99\">Solution:</span> \n",
       "```python\n",
       "professors['Graduated from'] = professors['Graduated from'].str.strip()\n",
       "\n",
       "```"
      ],
      "text/plain": [
       "Solution: \n",
       "```python\n",
       "professors['Graduated from'] = professors['Graduated from'].str.strip()\n",
       "\n",
       "```"
      ]
     },
     "metadata": {},
     "output_type": "display_data"
    }
   ],
   "source": [
    "# Lines below will give you a hint or solution code\n",
    "#q2.hint()\n",
    "q2.solution()"
   ]
  },
  {
   "cell_type": "markdown",
   "id": "2d54cd0f",
   "metadata": {
    "papermill": {
     "duration": 0.00852,
     "end_time": "2024-05-25T23:40:21.404817",
     "exception": false,
     "start_time": "2024-05-25T23:40:21.396297",
     "status": "completed"
    },
    "tags": []
   },
   "source": [
    "# 3) Continue working with countries\n",
    "\n",
    "In the tutorial, we focused on cleaning up inconsistencies in the \"Country\" column.  Run the code cell below to view the list of unique values that we ended with."
   ]
  },
  {
   "cell_type": "code",
   "execution_count": 9,
   "id": "77dc6395",
   "metadata": {
    "execution": {
     "iopub.execute_input": "2024-05-25T23:40:21.424145Z",
     "iopub.status.busy": "2024-05-25T23:40:21.423792Z",
     "iopub.status.idle": "2024-05-25T23:40:21.433216Z",
     "shell.execute_reply": "2024-05-25T23:40:21.431867Z"
    },
    "papermill": {
     "duration": 0.021806,
     "end_time": "2024-05-25T23:40:21.435398",
     "exception": false,
     "start_time": "2024-05-25T23:40:21.413592",
     "status": "completed"
    },
    "tags": []
   },
   "outputs": [
    {
     "data": {
      "text/plain": [
       "array(['australia', 'austria', 'canada', 'china', 'finland', 'france',\n",
       "       'germany', 'greece', 'hongkong', 'ireland', 'italy', 'japan',\n",
       "       'macau', 'malaysia', 'mauritius', 'netherland', 'new zealand',\n",
       "       'norway', 'pakistan', 'portugal', 'russian federation',\n",
       "       'saudi arabia', 'scotland', 'singapore', 'south korea', 'spain',\n",
       "       'sweden', 'thailand', 'turkey', 'uk', 'urbana', 'usa', 'usofa'],\n",
       "      dtype=object)"
      ]
     },
     "execution_count": 9,
     "metadata": {},
     "output_type": "execute_result"
    }
   ],
   "source": [
    "# get all the unique values in the 'City' column\n",
    "countries = professors['Country'].unique()\n",
    "\n",
    "# sort them alphabetically and then take a closer look\n",
    "countries.sort()\n",
    "countries"
   ]
  },
  {
   "cell_type": "markdown",
   "id": "584be0c0",
   "metadata": {
    "papermill": {
     "duration": 0.008624,
     "end_time": "2024-05-25T23:40:21.452913",
     "exception": false,
     "start_time": "2024-05-25T23:40:21.444289",
     "status": "completed"
    },
    "tags": []
   },
   "source": [
    "Take another look at the \"Country\" column and see if there's any more data cleaning we need to do.\n",
    "\n",
    "It looks like 'usa' and 'usofa' should be the same country.  Correct the \"Country\" column in the dataframe to replace 'usofa' with 'usa'.\n",
    "\n",
    "**Use the most recent version of the DataFrame (with the whitespaces at the beginning and end of cells removed) from question 2.**"
   ]
  },
  {
   "cell_type": "code",
   "execution_count": 10,
   "id": "7a2f895e",
   "metadata": {
    "execution": {
     "iopub.execute_input": "2024-05-25T23:40:21.472303Z",
     "iopub.status.busy": "2024-05-25T23:40:21.471939Z",
     "iopub.status.idle": "2024-05-25T23:40:21.488236Z",
     "shell.execute_reply": "2024-05-25T23:40:21.487145Z"
    },
    "papermill": {
     "duration": 0.029025,
     "end_time": "2024-05-25T23:40:21.490804",
     "exception": false,
     "start_time": "2024-05-25T23:40:21.461779",
     "status": "completed"
    },
    "tags": []
   },
   "outputs": [
    {
     "name": "stdout",
     "output_type": "stream",
     "text": [
      "All done!\n"
     ]
    },
    {
     "data": {
      "application/javascript": [
       "parent.postMessage({\"jupyterEvent\": \"custom.exercise_interaction\", \"data\": {\"outcomeType\": 1, \"valueTowardsCompletion\": 0.3333333333333333, \"interactionType\": 1, \"questionType\": 1, \"questionId\": \"3_WorkingWithCities\", \"learnToolsVersion\": \"0.3.4\", \"failureMessage\": \"\", \"exceptionClass\": \"\", \"trace\": \"\"}}, \"*\")"
      ],
      "text/plain": [
       "<IPython.core.display.Javascript object>"
      ]
     },
     "metadata": {},
     "output_type": "display_data"
    },
    {
     "data": {
      "text/markdown": [
       "<span style=\"color:#33cc33\">Correct</span>"
      ],
      "text/plain": [
       "Correct"
      ]
     },
     "metadata": {},
     "output_type": "display_data"
    }
   ],
   "source": [
    "# TODO: Your code here!\n",
    "matches = fuzzywuzzy.process.extract(\"usa\", countries, limit=10, scorer=fuzzywuzzy.fuzz.token_sort_ratio)\n",
    "replace_matches_in_column(df=professors, column='Country', string_to_match=\"usa\", min_ratio=70)\n",
    "\n",
    "q3.check()"
   ]
  },
  {
   "cell_type": "code",
   "execution_count": 11,
   "id": "a3561924",
   "metadata": {
    "execution": {
     "iopub.execute_input": "2024-05-25T23:40:21.512397Z",
     "iopub.status.busy": "2024-05-25T23:40:21.511146Z",
     "iopub.status.idle": "2024-05-25T23:40:21.525537Z",
     "shell.execute_reply": "2024-05-25T23:40:21.524192Z"
    },
    "papermill": {
     "duration": 0.027447,
     "end_time": "2024-05-25T23:40:21.527871",
     "exception": false,
     "start_time": "2024-05-25T23:40:21.500424",
     "status": "completed"
    },
    "tags": []
   },
   "outputs": [
    {
     "data": {
      "application/javascript": [
       "parent.postMessage({\"jupyterEvent\": \"custom.exercise_interaction\", \"data\": {\"interactionType\": 2, \"questionType\": 1, \"questionId\": \"3_WorkingWithCities\", \"learnToolsVersion\": \"0.3.4\", \"valueTowardsCompletion\": 0.0, \"failureMessage\": \"\", \"exceptionClass\": \"\", \"trace\": \"\", \"outcomeType\": 4}}, \"*\")"
      ],
      "text/plain": [
       "<IPython.core.display.Javascript object>"
      ]
     },
     "metadata": {},
     "output_type": "display_data"
    },
    {
     "data": {
      "text/markdown": [
       "<span style=\"color:#3366cc\">Hint:</span> Use the `replace_matches_in_column()` function defined above."
      ],
      "text/plain": [
       "Hint: Use the `replace_matches_in_column()` function defined above."
      ]
     },
     "metadata": {},
     "output_type": "display_data"
    },
    {
     "data": {
      "application/javascript": [
       "parent.postMessage({\"jupyterEvent\": \"custom.exercise_interaction\", \"data\": {\"interactionType\": 3, \"questionType\": 1, \"questionId\": \"3_WorkingWithCities\", \"learnToolsVersion\": \"0.3.4\", \"valueTowardsCompletion\": 0.0, \"failureMessage\": \"\", \"exceptionClass\": \"\", \"trace\": \"\", \"outcomeType\": 4}}, \"*\")"
      ],
      "text/plain": [
       "<IPython.core.display.Javascript object>"
      ]
     },
     "metadata": {},
     "output_type": "display_data"
    },
    {
     "data": {
      "text/markdown": [
       "<span style=\"color:#33cc99\">Solution:</span> \n",
       "```python\n",
       "matches = fuzzywuzzy.process.extract(\"usa\", countries, limit=10, scorer=fuzzywuzzy.fuzz.token_sort_ratio)\n",
       "replace_matches_in_column(df=professors, column='Country', string_to_match=\"usa\", min_ratio=70)\n",
       "\n",
       "```"
      ],
      "text/plain": [
       "Solution: \n",
       "```python\n",
       "matches = fuzzywuzzy.process.extract(\"usa\", countries, limit=10, scorer=fuzzywuzzy.fuzz.token_sort_ratio)\n",
       "replace_matches_in_column(df=professors, column='Country', string_to_match=\"usa\", min_ratio=70)\n",
       "\n",
       "```"
      ]
     },
     "metadata": {},
     "output_type": "display_data"
    }
   ],
   "source": [
    "# Lines below will give you a hint or solution code\n",
    "q3.hint()\n",
    "q3.solution()"
   ]
  },
  {
   "cell_type": "markdown",
   "id": "15c8a36b",
   "metadata": {
    "papermill": {
     "duration": 0.010286,
     "end_time": "2024-05-25T23:40:21.548901",
     "exception": false,
     "start_time": "2024-05-25T23:40:21.538615",
     "status": "completed"
    },
    "tags": []
   },
   "source": [
    "# Congratulations!\n",
    "\n",
    "Congratulations for completing the **Data Cleaning** course on Kaggle Learn!\n",
    "\n",
    "To practice your new skills, you're encouraged to download and investigate some of [Kaggle's Datasets](https://www.kaggle.com/datasets)."
   ]
  },
  {
   "cell_type": "markdown",
   "id": "b06821c4",
   "metadata": {
    "papermill": {
     "duration": 0.010101,
     "end_time": "2024-05-25T23:40:21.570101",
     "exception": false,
     "start_time": "2024-05-25T23:40:21.560000",
     "status": "completed"
    },
    "tags": []
   },
   "source": [
    "---\n",
    "\n",
    "\n",
    "\n",
    "\n",
    "*Have questions or comments? Visit the [course discussion forum](https://www.kaggle.com/learn/data-cleaning/discussion) to chat with other learners.*"
   ]
  }
 ],
 "metadata": {
  "kaggle": {
   "accelerator": "none",
   "dataSources": [
    {
     "datasetId": 819513,
     "sourceId": 1402182,
     "sourceType": "datasetVersion"
    }
   ],
   "isGpuEnabled": false,
   "isInternetEnabled": false,
   "language": "python",
   "sourceType": "notebook"
  },
  "kernelspec": {
   "display_name": "Python 3",
   "language": "python",
   "name": "python3"
  },
  "language_info": {
   "codemirror_mode": {
    "name": "ipython",
    "version": 3
   },
   "file_extension": ".py",
   "mimetype": "text/x-python",
   "name": "python",
   "nbconvert_exporter": "python",
   "pygments_lexer": "ipython3",
   "version": "3.10.13"
  },
  "papermill": {
   "default_parameters": {},
   "duration": 5.369726,
   "end_time": "2024-05-25T23:40:22.102274",
   "environment_variables": {},
   "exception": null,
   "input_path": "__notebook__.ipynb",
   "output_path": "__notebook__.ipynb",
   "parameters": {},
   "start_time": "2024-05-25T23:40:16.732548",
   "version": "2.5.0"
  }
 },
 "nbformat": 4,
 "nbformat_minor": 5
}
