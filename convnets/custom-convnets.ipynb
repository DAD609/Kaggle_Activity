{
 "cells": [
  {
   "cell_type": "markdown",
   "id": "f352e790",
   "metadata": {
    "papermill": {
     "duration": 0.005504,
     "end_time": "2024-05-25T23:17:14.615500",
     "exception": false,
     "start_time": "2024-05-25T23:17:14.609996",
     "status": "completed"
    },
    "tags": []
   },
   "source": [
    "**This notebook is an exercise in the [Computer Vision](https://www.kaggle.com/learn/computer-vision) course.  You can reference the tutorial at [this link](https://www.kaggle.com/ryanholbrook/custom-convnets).**\n",
    "\n",
    "---\n"
   ]
  },
  {
   "cell_type": "markdown",
   "id": "bba134df",
   "metadata": {
    "papermill": {
     "duration": 0.004703,
     "end_time": "2024-05-25T23:17:14.626539",
     "exception": false,
     "start_time": "2024-05-25T23:17:14.621836",
     "status": "completed"
    },
    "tags": []
   },
   "source": [
    "# Introduction #\n",
    "\n",
    "In these exercises, you'll build a custom convnet with performance competitive to the VGG16 model from Lesson 1.\n",
    "\n",
    "Get started by running the code cell below."
   ]
  },
  {
   "cell_type": "code",
   "execution_count": 1,
   "id": "0c8b0a50",
   "metadata": {
    "execution": {
     "iopub.execute_input": "2024-05-25T23:17:14.638070Z",
     "iopub.status.busy": "2024-05-25T23:17:14.637732Z",
     "iopub.status.idle": "2024-05-25T23:17:34.584658Z",
     "shell.execute_reply": "2024-05-25T23:17:34.583851Z"
    },
    "papermill": {
     "duration": 19.955409,
     "end_time": "2024-05-25T23:17:34.586996",
     "exception": false,
     "start_time": "2024-05-25T23:17:14.631587",
     "status": "completed"
    },
    "tags": []
   },
   "outputs": [
    {
     "name": "stderr",
     "output_type": "stream",
     "text": [
      "2024-05-25 23:17:17.228469: E external/local_xla/xla/stream_executor/cuda/cuda_dnn.cc:9261] Unable to register cuDNN factory: Attempting to register factory for plugin cuDNN when one has already been registered\n",
      "2024-05-25 23:17:17.228588: E external/local_xla/xla/stream_executor/cuda/cuda_fft.cc:607] Unable to register cuFFT factory: Attempting to register factory for plugin cuFFT when one has already been registered\n",
      "2024-05-25 23:17:17.358003: E external/local_xla/xla/stream_executor/cuda/cuda_blas.cc:1515] Unable to register cuBLAS factory: Attempting to register factory for plugin cuBLAS when one has already been registered\n"
     ]
    },
    {
     "name": "stdout",
     "output_type": "stream",
     "text": [
      "Found 5117 files belonging to 2 classes.\n",
      "Found 5051 files belonging to 2 classes.\n"
     ]
    }
   ],
   "source": [
    "# Setup feedback system\n",
    "from learntools.core import binder\n",
    "binder.bind(globals())\n",
    "from learntools.computer_vision.ex5 import *\n",
    "\n",
    "# Imports\n",
    "import os, warnings\n",
    "import matplotlib.pyplot as plt\n",
    "from matplotlib import gridspec\n",
    "\n",
    "import numpy as np\n",
    "import tensorflow as tf\n",
    "from tensorflow.keras.preprocessing import image_dataset_from_directory\n",
    "\n",
    "# Reproducability\n",
    "def set_seed(seed=31415):\n",
    "    np.random.seed(seed)\n",
    "    tf.random.set_seed(seed)\n",
    "    os.environ['PYTHONHASHSEED'] = str(seed)\n",
    "    os.environ['TF_DETERMINISTIC_OPS'] = '1'\n",
    "set_seed()\n",
    "\n",
    "# Set Matplotlib defaults\n",
    "plt.rc('figure', autolayout=True)\n",
    "plt.rc('axes', labelweight='bold', labelsize='large',\n",
    "       titleweight='bold', titlesize=18, titlepad=10)\n",
    "plt.rc('image', cmap='magma')\n",
    "warnings.filterwarnings(\"ignore\") # to clean up output cells\n",
    "\n",
    "\n",
    "# Load training and validation sets\n",
    "ds_train_ = image_dataset_from_directory(\n",
    "    '../input/car-or-truck/train',\n",
    "    labels='inferred',\n",
    "    label_mode='binary',\n",
    "    image_size=[128, 128],\n",
    "    interpolation='nearest',\n",
    "    batch_size=64,\n",
    "    shuffle=True,\n",
    ")\n",
    "ds_valid_ = image_dataset_from_directory(\n",
    "    '../input/car-or-truck/valid',\n",
    "    labels='inferred',\n",
    "    label_mode='binary',\n",
    "    image_size=[128, 128],\n",
    "    interpolation='nearest',\n",
    "    batch_size=64,\n",
    "    shuffle=False,\n",
    ")\n",
    "\n",
    "# Data Pipeline\n",
    "def convert_to_float(image, label):\n",
    "    image = tf.image.convert_image_dtype(image, dtype=tf.float32)\n",
    "    return image, label\n",
    "\n",
    "AUTOTUNE = tf.data.experimental.AUTOTUNE\n",
    "ds_train = (\n",
    "    ds_train_\n",
    "    .map(convert_to_float)\n",
    "    .cache()\n",
    "    .prefetch(buffer_size=AUTOTUNE)\n",
    ")\n",
    "ds_valid = (\n",
    "    ds_valid_\n",
    "    .map(convert_to_float)\n",
    "    .cache()\n",
    "    .prefetch(buffer_size=AUTOTUNE)\n",
    ")\n"
   ]
  },
  {
   "cell_type": "markdown",
   "id": "959d654b",
   "metadata": {
    "papermill": {
     "duration": 0.005042,
     "end_time": "2024-05-25T23:17:34.597611",
     "exception": false,
     "start_time": "2024-05-25T23:17:34.592569",
     "status": "completed"
    },
    "tags": []
   },
   "source": [
    "# Design a Convnet #\n",
    "\n",
    "Let's design a convolutional network with a block architecture like we saw in the tutorial. The model from the example had three blocks, each with a single convolutional layer. Its performance on the \"Car or Truck\" problem was okay, but far from what the pretrained VGG16 could achieve. It might be that our simple network lacks the ability to extract sufficiently complex features. We could try improving the model either by adding more blocks or by adding convolutions to the blocks we have.\n",
    "\n",
    "Let's go with the second approach. We'll keep the three block structure, but increase the number of `Conv2D` layer in the second block to two, and in the third block to three.\n",
    "\n",
    "<figure>\n",
    "<!-- <img src=\"./images/2-convmodel-2.png\" width=\"250\" alt=\"Diagram of a convolutional model.\"> -->\n",
    "<img src=\"https://storage.googleapis.com/kaggle-media/learn/images/Vko6nCK.png\" width=\"250\" alt=\"Diagram of a convolutional model.\">\n",
    "</figure>\n",
    "\n",
    "# 1) Define Model #\n",
    "\n",
    "Given the diagram above, complete the model by defining the layers of the third block."
   ]
  },
  {
   "cell_type": "code",
   "execution_count": 2,
   "id": "27f29f0a",
   "metadata": {
    "execution": {
     "iopub.execute_input": "2024-05-25T23:17:34.610461Z",
     "iopub.status.busy": "2024-05-25T23:17:34.609538Z",
     "iopub.status.idle": "2024-05-25T23:17:34.778979Z",
     "shell.execute_reply": "2024-05-25T23:17:34.778145Z"
    },
    "lines_to_next_cell": 0,
    "papermill": {
     "duration": 0.178338,
     "end_time": "2024-05-25T23:17:34.781170",
     "exception": false,
     "start_time": "2024-05-25T23:17:34.602832",
     "status": "completed"
    },
    "tags": []
   },
   "outputs": [
    {
     "data": {
      "application/javascript": [
       "parent.postMessage({\"jupyterEvent\": \"custom.exercise_interaction\", \"data\": {\"outcomeType\": 1, \"valueTowardsCompletion\": 0.3333333333333333, \"interactionType\": 1, \"questionType\": 2, \"questionId\": \"1_Q1\", \"learnToolsVersion\": \"0.3.4\", \"failureMessage\": \"\", \"exceptionClass\": \"\", \"trace\": \"\"}}, \"*\")"
      ],
      "text/plain": [
       "<IPython.core.display.Javascript object>"
      ]
     },
     "metadata": {},
     "output_type": "display_data"
    },
    {
     "data": {
      "text/markdown": [
       "<span style=\"color:#33cc33\">Correct</span>"
      ],
      "text/plain": [
       "Correct"
      ]
     },
     "metadata": {},
     "output_type": "display_data"
    }
   ],
   "source": [
    "from tensorflow import keras\n",
    "from tensorflow.keras import layers\n",
    "\n",
    "model = keras.Sequential([\n",
    "    # Block One\n",
    "    layers.Conv2D(filters=32, kernel_size=3, activation='relu', padding='same',\n",
    "                  input_shape=[128, 128, 3]),\n",
    "    layers.MaxPool2D(),\n",
    "\n",
    "    # Block Two\n",
    "    layers.Conv2D(filters=64, kernel_size=3, activation='relu', padding='same'),\n",
    "    layers.MaxPool2D(),\n",
    "\n",
    "    # Block Three\n",
    "    # YOUR CODE HERE\n",
    "    layers.Conv2D(filters=128, kernel_size=3, activation='relu', padding='same'),\n",
    "    layers.Conv2D(filters=128, kernel_size=3, activation='relu', padding='same'),\n",
    "    layers.MaxPool2D(),\n",
    "\n",
    "\n",
    "    # Head\n",
    "    layers.Flatten(),\n",
    "    layers.Dense(6, activation='relu'),\n",
    "    layers.Dropout(0.2),\n",
    "    layers.Dense(1, activation='sigmoid'),\n",
    "])\n",
    "\n",
    "# Check your answer\n",
    "q_1.check()"
   ]
  },
  {
   "cell_type": "code",
   "execution_count": 3,
   "id": "77bd6518",
   "metadata": {
    "execution": {
     "iopub.execute_input": "2024-05-25T23:17:34.794050Z",
     "iopub.status.busy": "2024-05-25T23:17:34.793713Z",
     "iopub.status.idle": "2024-05-25T23:17:34.801048Z",
     "shell.execute_reply": "2024-05-25T23:17:34.800241Z"
    },
    "papermill": {
     "duration": 0.016204,
     "end_time": "2024-05-25T23:17:34.803192",
     "exception": false,
     "start_time": "2024-05-25T23:17:34.786988",
     "status": "completed"
    },
    "tags": []
   },
   "outputs": [
    {
     "data": {
      "application/javascript": [
       "parent.postMessage({\"jupyterEvent\": \"custom.exercise_interaction\", \"data\": {\"interactionType\": 2, \"questionType\": 2, \"questionId\": \"1_Q1\", \"learnToolsVersion\": \"0.3.4\", \"valueTowardsCompletion\": 0.0, \"failureMessage\": \"\", \"exceptionClass\": \"\", \"trace\": \"\", \"outcomeType\": 4}}, \"*\")"
      ],
      "text/plain": [
       "<IPython.core.display.Javascript object>"
      ]
     },
     "metadata": {},
     "output_type": "display_data"
    },
    {
     "data": {
      "text/markdown": [
       "<span style=\"color:#3366cc\">Hint:</span> You should add two `Conv2D` layers and then a `MaxPool2D` layer. They will be just the same as the other layers in the model, except for some of the parameter values."
      ],
      "text/plain": [
       "Hint: You should add two `Conv2D` layers and then a `MaxPool2D` layer. They will be just the same as the other layers in the model, except for some of the parameter values."
      ]
     },
     "metadata": {},
     "output_type": "display_data"
    }
   ],
   "source": [
    "# Lines below will give you a hint or solution code\n",
    "q_1.hint()\n",
    "#q_1.solution()"
   ]
  },
  {
   "cell_type": "markdown",
   "id": "a792f7fe",
   "metadata": {
    "papermill": {
     "duration": 0.005748,
     "end_time": "2024-05-25T23:17:34.814868",
     "exception": false,
     "start_time": "2024-05-25T23:17:34.809120",
     "status": "completed"
    },
    "tags": []
   },
   "source": [
    "# 2) Compile #\n",
    "\n",
    "To prepare for training, compile the model with an appropriate loss and accuracy metric for the \"Car or Truck\" dataset."
   ]
  },
  {
   "cell_type": "code",
   "execution_count": 4,
   "id": "158651c4",
   "metadata": {
    "execution": {
     "iopub.execute_input": "2024-05-25T23:17:34.827554Z",
     "iopub.status.busy": "2024-05-25T23:17:34.827234Z",
     "iopub.status.idle": "2024-05-25T23:17:35.049340Z",
     "shell.execute_reply": "2024-05-25T23:17:35.048431Z"
    },
    "lines_to_next_cell": 0,
    "papermill": {
     "duration": 0.231261,
     "end_time": "2024-05-25T23:17:35.051717",
     "exception": false,
     "start_time": "2024-05-25T23:17:34.820456",
     "status": "completed"
    },
    "tags": []
   },
   "outputs": [
    {
     "data": {
      "application/javascript": [
       "parent.postMessage({\"jupyterEvent\": \"custom.exercise_interaction\", \"data\": {\"outcomeType\": 1, \"valueTowardsCompletion\": 0.3333333333333333, \"interactionType\": 1, \"questionType\": 2, \"questionId\": \"2_Q2\", \"learnToolsVersion\": \"0.3.4\", \"failureMessage\": \"\", \"exceptionClass\": \"\", \"trace\": \"\"}}, \"*\")"
      ],
      "text/plain": [
       "<IPython.core.display.Javascript object>"
      ]
     },
     "metadata": {},
     "output_type": "display_data"
    },
    {
     "data": {
      "text/markdown": [
       "<span style=\"color:#33cc33\">Correct</span>"
      ],
      "text/plain": [
       "Correct"
      ]
     },
     "metadata": {},
     "output_type": "display_data"
    }
   ],
   "source": [
    "model.compile(\n",
    "    optimizer=tf.keras.optimizers.Adam(epsilon=0.01),\n",
    "    # YOUR CODE HERE: Add loss and metric\n",
    "    loss='binary_crossentropy',\n",
    "    metrics=['binary_accuracy']\n",
    ")\n",
    "\n",
    "# Check your answer\n",
    "q_2.check()"
   ]
  },
  {
   "cell_type": "code",
   "execution_count": 5,
   "id": "726dc004",
   "metadata": {
    "execution": {
     "iopub.execute_input": "2024-05-25T23:17:35.065844Z",
     "iopub.status.busy": "2024-05-25T23:17:35.065067Z",
     "iopub.status.idle": "2024-05-25T23:17:35.079820Z",
     "shell.execute_reply": "2024-05-25T23:17:35.078979Z"
    },
    "lines_to_next_cell": 0,
    "papermill": {
     "duration": 0.023851,
     "end_time": "2024-05-25T23:17:35.081852",
     "exception": false,
     "start_time": "2024-05-25T23:17:35.058001",
     "status": "completed"
    },
    "tags": []
   },
   "outputs": [
    {
     "data": {
      "application/javascript": [
       "parent.postMessage({\"jupyterEvent\": \"custom.exercise_interaction\", \"data\": {\"outcomeType\": 1, \"valueTowardsCompletion\": 0.3333333333333333, \"interactionType\": 1, \"questionType\": 2, \"questionId\": \"2_Q2\", \"learnToolsVersion\": \"0.3.4\", \"failureMessage\": \"\", \"exceptionClass\": \"\", \"trace\": \"\"}}, \"*\")"
      ],
      "text/plain": [
       "<IPython.core.display.Javascript object>"
      ]
     },
     "metadata": {},
     "output_type": "display_data"
    },
    {
     "data": {
      "text/markdown": [
       "<span style=\"color:#33cc33\">Correct</span>"
      ],
      "text/plain": [
       "Correct"
      ]
     },
     "metadata": {},
     "output_type": "display_data"
    }
   ],
   "source": [
    "model.compile(\n",
    "    optimizer=tf.keras.optimizers.Adam(epsilon=0.01),\n",
    "    loss='binary_crossentropy',\n",
    "    metrics=['binary_accuracy'],\n",
    ")\n",
    "q_2.assert_check_passed()"
   ]
  },
  {
   "cell_type": "code",
   "execution_count": 6,
   "id": "0512a2ff",
   "metadata": {
    "execution": {
     "iopub.execute_input": "2024-05-25T23:17:35.097062Z",
     "iopub.status.busy": "2024-05-25T23:17:35.096339Z",
     "iopub.status.idle": "2024-05-25T23:17:35.100180Z",
     "shell.execute_reply": "2024-05-25T23:17:35.099293Z"
    },
    "lines_to_next_cell": 0,
    "papermill": {
     "duration": 0.013753,
     "end_time": "2024-05-25T23:17:35.102298",
     "exception": false,
     "start_time": "2024-05-25T23:17:35.088545",
     "status": "completed"
    },
    "tags": []
   },
   "outputs": [],
   "source": [
    "# Lines below will give you a hint or solution code\n",
    "#q_2.hint()\n",
    "#q_2.solution()"
   ]
  },
  {
   "cell_type": "markdown",
   "id": "6755bf41",
   "metadata": {
    "papermill": {
     "duration": 0.006316,
     "end_time": "2024-05-25T23:17:35.115154",
     "exception": false,
     "start_time": "2024-05-25T23:17:35.108838",
     "status": "completed"
    },
    "tags": []
   },
   "source": [
    "Finally, let's test the performance of this new model. First run this cell to fit the model to the training set."
   ]
  },
  {
   "cell_type": "code",
   "execution_count": 7,
   "id": "3333d76f",
   "metadata": {
    "execution": {
     "iopub.execute_input": "2024-05-25T23:17:35.131535Z",
     "iopub.status.busy": "2024-05-25T23:17:35.130787Z",
     "iopub.status.idle": "2024-05-25T23:20:31.613531Z",
     "shell.execute_reply": "2024-05-25T23:20:31.612542Z"
    },
    "papermill": {
     "duration": 176.492775,
     "end_time": "2024-05-25T23:20:31.615858",
     "exception": false,
     "start_time": "2024-05-25T23:17:35.123083",
     "status": "completed"
    },
    "tags": []
   },
   "outputs": [
    {
     "name": "stdout",
     "output_type": "stream",
     "text": [
      "Epoch 1/50\n"
     ]
    },
    {
     "name": "stderr",
     "output_type": "stream",
     "text": [
      "WARNING: All log messages before absl::InitializeLog() is called are written to STDERR\n",
      "I0000 00:00:1716679059.542559      74 device_compiler.h:186] Compiled cluster using XLA!  This line is logged at most once for the lifetime of the process.\n"
     ]
    },
    {
     "name": "stdout",
     "output_type": "stream",
     "text": [
      "80/80 [==============================] - 16s 131ms/step - loss: 0.6763 - binary_accuracy: 0.5839 - val_loss: 0.6615 - val_binary_accuracy: 0.6112\n",
      "Epoch 2/50\n",
      "80/80 [==============================] - 3s 41ms/step - loss: 0.6610 - binary_accuracy: 0.6041 - val_loss: 0.6532 - val_binary_accuracy: 0.6266\n",
      "Epoch 3/50\n",
      "80/80 [==============================] - 3s 41ms/step - loss: 0.6551 - binary_accuracy: 0.6138 - val_loss: 0.6429 - val_binary_accuracy: 0.6351\n",
      "Epoch 4/50\n",
      "80/80 [==============================] - 3s 41ms/step - loss: 0.6464 - binary_accuracy: 0.6199 - val_loss: 0.6381 - val_binary_accuracy: 0.6320\n",
      "Epoch 5/50\n",
      "80/80 [==============================] - 3s 41ms/step - loss: 0.6388 - binary_accuracy: 0.6334 - val_loss: 0.6289 - val_binary_accuracy: 0.6432\n",
      "Epoch 6/50\n",
      "80/80 [==============================] - 3s 41ms/step - loss: 0.6302 - binary_accuracy: 0.6433 - val_loss: 0.6287 - val_binary_accuracy: 0.6395\n",
      "Epoch 7/50\n",
      "80/80 [==============================] - 3s 41ms/step - loss: 0.6278 - binary_accuracy: 0.6363 - val_loss: 0.6125 - val_binary_accuracy: 0.6622\n",
      "Epoch 8/50\n",
      "80/80 [==============================] - 3s 41ms/step - loss: 0.6165 - binary_accuracy: 0.6490 - val_loss: 0.6099 - val_binary_accuracy: 0.6652\n",
      "Epoch 9/50\n",
      "80/80 [==============================] - 3s 41ms/step - loss: 0.6055 - binary_accuracy: 0.6643 - val_loss: 0.6021 - val_binary_accuracy: 0.6731\n",
      "Epoch 10/50\n",
      "80/80 [==============================] - 3s 41ms/step - loss: 0.5882 - binary_accuracy: 0.6795 - val_loss: 0.5808 - val_binary_accuracy: 0.6945\n",
      "Epoch 11/50\n",
      "80/80 [==============================] - 3s 41ms/step - loss: 0.5779 - binary_accuracy: 0.6871 - val_loss: 0.5839 - val_binary_accuracy: 0.6888\n",
      "Epoch 12/50\n",
      "80/80 [==============================] - 3s 41ms/step - loss: 0.5612 - binary_accuracy: 0.7207 - val_loss: 0.5703 - val_binary_accuracy: 0.7036\n",
      "Epoch 13/50\n",
      "80/80 [==============================] - 3s 41ms/step - loss: 0.5477 - binary_accuracy: 0.7250 - val_loss: 0.5454 - val_binary_accuracy: 0.7246\n",
      "Epoch 14/50\n",
      "80/80 [==============================] - 3s 41ms/step - loss: 0.5263 - binary_accuracy: 0.7399 - val_loss: 0.5316 - val_binary_accuracy: 0.7361\n",
      "Epoch 15/50\n",
      "80/80 [==============================] - 3s 41ms/step - loss: 0.5112 - binary_accuracy: 0.7547 - val_loss: 0.5225 - val_binary_accuracy: 0.7420\n",
      "Epoch 16/50\n",
      "80/80 [==============================] - 3s 41ms/step - loss: 0.4898 - binary_accuracy: 0.7637 - val_loss: 0.5037 - val_binary_accuracy: 0.7598\n",
      "Epoch 17/50\n",
      "80/80 [==============================] - 3s 41ms/step - loss: 0.4724 - binary_accuracy: 0.7807 - val_loss: 0.4866 - val_binary_accuracy: 0.7670\n",
      "Epoch 18/50\n",
      "80/80 [==============================] - 3s 41ms/step - loss: 0.4417 - binary_accuracy: 0.8024 - val_loss: 0.4731 - val_binary_accuracy: 0.7800\n",
      "Epoch 19/50\n",
      "80/80 [==============================] - 3s 41ms/step - loss: 0.4136 - binary_accuracy: 0.8143 - val_loss: 0.4480 - val_binary_accuracy: 0.7935\n",
      "Epoch 20/50\n",
      "80/80 [==============================] - 3s 41ms/step - loss: 0.4001 - binary_accuracy: 0.8239 - val_loss: 0.4403 - val_binary_accuracy: 0.8010\n",
      "Epoch 21/50\n",
      "80/80 [==============================] - 3s 41ms/step - loss: 0.3724 - binary_accuracy: 0.8364 - val_loss: 0.4235 - val_binary_accuracy: 0.8086\n",
      "Epoch 22/50\n",
      "80/80 [==============================] - 3s 41ms/step - loss: 0.3513 - binary_accuracy: 0.8456 - val_loss: 0.4254 - val_binary_accuracy: 0.8099\n",
      "Epoch 23/50\n",
      "80/80 [==============================] - 3s 41ms/step - loss: 0.3229 - binary_accuracy: 0.8599 - val_loss: 0.4178 - val_binary_accuracy: 0.8070\n",
      "Epoch 24/50\n",
      "80/80 [==============================] - 3s 41ms/step - loss: 0.3011 - binary_accuracy: 0.8671 - val_loss: 0.4159 - val_binary_accuracy: 0.8171\n",
      "Epoch 25/50\n",
      "80/80 [==============================] - 3s 41ms/step - loss: 0.2784 - binary_accuracy: 0.8804 - val_loss: 0.4291 - val_binary_accuracy: 0.8143\n",
      "Epoch 26/50\n",
      "80/80 [==============================] - 3s 41ms/step - loss: 0.2836 - binary_accuracy: 0.8847 - val_loss: 0.4739 - val_binary_accuracy: 0.7925\n",
      "Epoch 27/50\n",
      "80/80 [==============================] - 3s 41ms/step - loss: 0.2609 - binary_accuracy: 0.8886 - val_loss: 0.4985 - val_binary_accuracy: 0.7852\n",
      "Epoch 28/50\n",
      "80/80 [==============================] - 3s 41ms/step - loss: 0.2530 - binary_accuracy: 0.8935 - val_loss: 0.4261 - val_binary_accuracy: 0.8341\n",
      "Epoch 29/50\n",
      "80/80 [==============================] - 3s 41ms/step - loss: 0.2299 - binary_accuracy: 0.9072 - val_loss: 0.4584 - val_binary_accuracy: 0.8361\n",
      "Epoch 30/50\n",
      "80/80 [==============================] - 3s 41ms/step - loss: 0.1922 - binary_accuracy: 0.9240 - val_loss: 0.4289 - val_binary_accuracy: 0.8347\n",
      "Epoch 31/50\n",
      "80/80 [==============================] - 3s 41ms/step - loss: 0.1825 - binary_accuracy: 0.9267 - val_loss: 0.4626 - val_binary_accuracy: 0.8305\n",
      "Epoch 32/50\n",
      "80/80 [==============================] - 3s 41ms/step - loss: 0.1788 - binary_accuracy: 0.9252 - val_loss: 0.4486 - val_binary_accuracy: 0.8284\n",
      "Epoch 33/50\n",
      "80/80 [==============================] - 3s 41ms/step - loss: 0.1831 - binary_accuracy: 0.9293 - val_loss: 0.4383 - val_binary_accuracy: 0.8282\n",
      "Epoch 34/50\n",
      "80/80 [==============================] - 3s 41ms/step - loss: 0.1992 - binary_accuracy: 0.9171 - val_loss: 0.4861 - val_binary_accuracy: 0.8159\n",
      "Epoch 35/50\n",
      "80/80 [==============================] - 3s 41ms/step - loss: 0.1749 - binary_accuracy: 0.9298 - val_loss: 0.6899 - val_binary_accuracy: 0.7830\n",
      "Epoch 36/50\n",
      "80/80 [==============================] - 3s 41ms/step - loss: 0.1817 - binary_accuracy: 0.9252 - val_loss: 0.5417 - val_binary_accuracy: 0.8230\n",
      "Epoch 37/50\n",
      "80/80 [==============================] - 3s 41ms/step - loss: 0.1418 - binary_accuracy: 0.9435 - val_loss: 0.5567 - val_binary_accuracy: 0.8428\n",
      "Epoch 38/50\n",
      "80/80 [==============================] - 3s 41ms/step - loss: 0.1188 - binary_accuracy: 0.9547 - val_loss: 0.6620 - val_binary_accuracy: 0.8289\n",
      "Epoch 39/50\n",
      "80/80 [==============================] - 3s 41ms/step - loss: 0.0948 - binary_accuracy: 0.9648 - val_loss: 0.7850 - val_binary_accuracy: 0.8186\n",
      "Epoch 40/50\n",
      "80/80 [==============================] - 3s 41ms/step - loss: 0.0977 - binary_accuracy: 0.9607 - val_loss: 0.7513 - val_binary_accuracy: 0.7983\n",
      "Epoch 41/50\n",
      "80/80 [==============================] - 3s 41ms/step - loss: 0.1048 - binary_accuracy: 0.9595 - val_loss: 0.7715 - val_binary_accuracy: 0.8179\n",
      "Epoch 42/50\n",
      "80/80 [==============================] - 3s 41ms/step - loss: 0.0979 - binary_accuracy: 0.9644 - val_loss: 0.5481 - val_binary_accuracy: 0.8371\n",
      "Epoch 43/50\n",
      "80/80 [==============================] - 3s 41ms/step - loss: 0.0947 - binary_accuracy: 0.9623 - val_loss: 0.6678 - val_binary_accuracy: 0.8426\n",
      "Epoch 44/50\n",
      "80/80 [==============================] - 3s 41ms/step - loss: 0.0973 - binary_accuracy: 0.9599 - val_loss: 0.5051 - val_binary_accuracy: 0.8428\n",
      "Epoch 45/50\n",
      "80/80 [==============================] - 3s 41ms/step - loss: 0.0881 - binary_accuracy: 0.9678 - val_loss: 0.6402 - val_binary_accuracy: 0.8266\n",
      "Epoch 46/50\n",
      "80/80 [==============================] - 3s 41ms/step - loss: 0.0895 - binary_accuracy: 0.9654 - val_loss: 0.6804 - val_binary_accuracy: 0.8242\n",
      "Epoch 47/50\n",
      "80/80 [==============================] - 3s 41ms/step - loss: 0.0835 - binary_accuracy: 0.9658 - val_loss: 0.9001 - val_binary_accuracy: 0.7935\n",
      "Epoch 48/50\n",
      "80/80 [==============================] - 3s 41ms/step - loss: 0.0869 - binary_accuracy: 0.9674 - val_loss: 0.6361 - val_binary_accuracy: 0.8351\n",
      "Epoch 49/50\n",
      "80/80 [==============================] - 3s 41ms/step - loss: 0.0699 - binary_accuracy: 0.9709 - val_loss: 0.6603 - val_binary_accuracy: 0.8505\n",
      "Epoch 50/50\n",
      "80/80 [==============================] - 3s 41ms/step - loss: 0.0666 - binary_accuracy: 0.9738 - val_loss: 0.4954 - val_binary_accuracy: 0.8420\n"
     ]
    }
   ],
   "source": [
    "history = model.fit(\n",
    "    ds_train,\n",
    "    validation_data=ds_valid,\n",
    "    epochs=50,\n",
    ")"
   ]
  },
  {
   "cell_type": "markdown",
   "id": "ba3b4014",
   "metadata": {
    "papermill": {
     "duration": 0.18239,
     "end_time": "2024-05-25T23:20:32.028438",
     "exception": false,
     "start_time": "2024-05-25T23:20:31.846048",
     "status": "completed"
    },
    "tags": []
   },
   "source": [
    "And now run the cell below to plot the loss and metric curves for this training run."
   ]
  },
  {
   "cell_type": "code",
   "execution_count": 8,
   "id": "de199ef4",
   "metadata": {
    "execution": {
     "iopub.execute_input": "2024-05-25T23:20:32.437776Z",
     "iopub.status.busy": "2024-05-25T23:20:32.436945Z",
     "iopub.status.idle": "2024-05-25T23:20:33.180084Z",
     "shell.execute_reply": "2024-05-25T23:20:33.178930Z"
    },
    "papermill": {
     "duration": 0.958484,
     "end_time": "2024-05-25T23:20:33.182301",
     "exception": false,
     "start_time": "2024-05-25T23:20:32.223817",
     "status": "completed"
    },
    "tags": []
   },
   "outputs": [
    {
     "data": {
      "image/png": "[encoded data removed]",
      "text/plain": [
       "<Figure size 640x480 with 1 Axes>"
      ]
     },
     "metadata": {},
     "output_type": "display_data"
    },
    {
     "data": {
      "image/png": "[encoded data removed]",
      "text/plain": [
       "<Figure size 640x480 with 1 Axes>"
      ]
     },
     "metadata": {},
     "output_type": "display_data"
    }
   ],
   "source": [
    "import pandas as pd\n",
    "history_frame = pd.DataFrame(history.history)\n",
    "history_frame.loc[:, ['loss', 'val_loss']].plot()\n",
    "history_frame.loc[:, ['binary_accuracy', 'val_binary_accuracy']].plot();"
   ]
  },
  {
   "cell_type": "markdown",
   "id": "1dffd5a5",
   "metadata": {
    "papermill": {
     "duration": 0.181648,
     "end_time": "2024-05-25T23:20:33.544206",
     "exception": false,
     "start_time": "2024-05-25T23:20:33.362558",
     "status": "completed"
    },
    "tags": []
   },
   "source": [
    "# 3) Train the Model #\n",
    "\n",
    "How would you interpret these training curves? Did this model improve upon the model from the tutorial?"
   ]
  },
  {
   "cell_type": "code",
   "execution_count": 9,
   "id": "dea01dbb",
   "metadata": {
    "execution": {
     "iopub.execute_input": "2024-05-25T23:20:33.917024Z",
     "iopub.status.busy": "2024-05-25T23:20:33.916275Z",
     "iopub.status.idle": "2024-05-25T23:20:33.924670Z",
     "shell.execute_reply": "2024-05-25T23:20:33.923663Z"
    },
    "lines_to_next_cell": 0,
    "papermill": {
     "duration": 0.202576,
     "end_time": "2024-05-25T23:20:33.926809",
     "exception": false,
     "start_time": "2024-05-25T23:20:33.724233",
     "status": "completed"
    },
    "tags": []
   },
   "outputs": [
    {
     "data": {
      "application/javascript": [
       "parent.postMessage({\"jupyterEvent\": \"custom.exercise_interaction\", \"data\": {\"outcomeType\": 1, \"valueTowardsCompletion\": 0.3333333333333333, \"interactionType\": 1, \"questionType\": 4, \"questionId\": \"3_Q3\", \"learnToolsVersion\": \"0.3.4\", \"failureMessage\": \"\", \"exceptionClass\": \"\", \"trace\": \"\"}}, \"*\")"
      ],
      "text/plain": [
       "<IPython.core.display.Javascript object>"
      ]
     },
     "metadata": {},
     "output_type": "display_data"
    },
    {
     "data": {
      "text/markdown": [
       "<span style=\"color:#33cc33\">Correct:</span> \n",
       "\n",
       "\n",
       "The learning curves for the model from the tutorial diverged fairly rapidly. This would indicate that it was prone to overfitting and in need of some regularization. The additional layer in our new model would make it even more prone to overfitting. However, adding some regularization with the `Dropout` layer helped prevent this. These changes improved the validation accuracy of the model by several points.\n"
      ],
      "text/plain": [
       "Correct: \n",
       "\n",
       "\n",
       "The learning curves for the model from the tutorial diverged fairly rapidly. This would indicate that it was prone to overfitting and in need of some regularization. The additional layer in our new model would make it even more prone to overfitting. However, adding some regularization with the `Dropout` layer helped prevent this. These changes improved the validation accuracy of the model by several points."
      ]
     },
     "metadata": {},
     "output_type": "display_data"
    }
   ],
   "source": [
    "# View the solution (Run this code cell to receive credit!)\n",
    "q_3.check()"
   ]
  },
  {
   "cell_type": "markdown",
   "id": "7a0ebe37",
   "metadata": {
    "papermill": {
     "duration": 0.181392,
     "end_time": "2024-05-25T23:20:34.307638",
     "exception": false,
     "start_time": "2024-05-25T23:20:34.126246",
     "status": "completed"
    },
    "tags": []
   },
   "source": [
    "# Conclusion #\n",
    "\n",
    "These exercises showed you how to design a custom convolutional network to solve a specific classification problem. Though most models these days will be built on top of a pretrained base, it certain circumstances a smaller custom convnet might still be preferable -- such as with a smaller or unusual dataset or when computing resources are very limited. As you saw here, for certain problems they can perform just as well as a pretrained model.\n",
    "\n",
    "# Keep Going #\n",
    "\n",
    "Continue on to [**Lesson 6**](https://www.kaggle.com/ryanholbrook/data-augmentation), where you'll learn a widely-used technique that can give a boost to your training data: **data augmentation**."
   ]
  },
  {
   "cell_type": "markdown",
   "id": "3fa08624",
   "metadata": {
    "papermill": {
     "duration": 0.184293,
     "end_time": "2024-05-25T23:20:34.725299",
     "exception": false,
     "start_time": "2024-05-25T23:20:34.541006",
     "status": "completed"
    },
    "tags": []
   },
   "source": [
    "---\n",
    "\n",
    "\n",
    "\n",
    "\n",
    "*Have questions or comments? Visit the [course discussion forum](https://www.kaggle.com/learn/computer-vision/discussion) to chat with other learners.*"
   ]
  }
 ],
 "metadata": {
  "jupytext": {
   "formats": "md,ipynb"
  },
  "kaggle": {
   "accelerator": "gpu",
   "dataSources": [
    {
     "datasetId": 708136,
     "sourceId": 1338830,
     "sourceType": "datasetVersion"
    },
    {
     "datasetId": 701538,
     "sourceId": 1363948,
     "sourceType": "datasetVersion"
    },
    {
     "datasetId": 878523,
     "sourceId": 1495782,
     "sourceType": "datasetVersion"
    }
   ],
   "dockerImageVersionId": 30648,
   "isGpuEnabled": true,
   "isInternetEnabled": false,
   "language": "python",
   "sourceType": "notebook"
  },
  "kernelspec": {
   "display_name": "Python 3",
   "language": "python",
   "name": "python3"
  },
  "language_info": {
   "codemirror_mode": {
    "name": "ipython",
    "version": 3
   },
   "file_extension": ".py",
   "mimetype": "text/x-python",
   "name": "python",
   "nbconvert_exporter": "python",
   "pygments_lexer": "ipython3",
   "version": "3.10.13"
  },
  "papermill": {
   "default_parameters": {},
   "duration": 206.341629,
   "end_time": "2024-05-25T23:20:38.082766",
   "environment_variables": {},
   "exception": null,
   "input_path": "__notebook__.ipynb",
   "output_path": "__notebook__.ipynb",
   "parameters": {},
   "start_time": "2024-05-25T23:17:11.741137",
   "version": "2.5.0"
  }
 },
 "nbformat": 4,
 "nbformat_minor": 5
}
