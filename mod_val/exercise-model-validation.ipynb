{
 "cells": [
  {
   "cell_type": "markdown",
   "id": "7451cf11",
   "metadata": {
    "papermill": {
     "duration": 0.006846,
     "end_time": "2024-05-26T00:01:55.864280",
     "exception": false,
     "start_time": "2024-05-26T00:01:55.857434",
     "status": "completed"
    },
    "tags": []
   },
   "source": [
    "**This notebook is an exercise in the [Introduction to Machine Learning](https://www.kaggle.com/learn/intro-to-machine-learning) course.  You can reference the tutorial at [this link](https://www.kaggle.com/dansbecker/model-validation).**\n",
    "\n",
    "---\n"
   ]
  },
  {
   "cell_type": "markdown",
   "id": "fad2b794",
   "metadata": {
    "papermill": {
     "duration": 0.0061,
     "end_time": "2024-05-26T00:01:55.877586",
     "exception": false,
     "start_time": "2024-05-26T00:01:55.871486",
     "status": "completed"
    },
    "tags": []
   },
   "source": [
    "## Recap\n",
    "You've built a model. In this exercise you will test how good your model is.\n",
    "\n",
    "Run the cell below to set up your coding environment where the previous exercise left off."
   ]
  },
  {
   "cell_type": "code",
   "execution_count": 1,
   "id": "b9e3104c",
   "metadata": {
    "execution": {
     "iopub.execute_input": "2024-05-26T00:01:55.892711Z",
     "iopub.status.busy": "2024-05-26T00:01:55.891752Z",
     "iopub.status.idle": "2024-05-26T00:01:59.483305Z",
     "shell.execute_reply": "2024-05-26T00:01:59.481980Z"
    },
    "papermill": {
     "duration": 3.602444,
     "end_time": "2024-05-26T00:01:59.486199",
     "exception": false,
     "start_time": "2024-05-26T00:01:55.883755",
     "status": "completed"
    },
    "tags": []
   },
   "outputs": [
    {
     "name": "stdout",
     "output_type": "stream",
     "text": [
      "First in-sample predictions: [208500. 181500. 223500. 140000. 250000.]\n",
      "Actual target values for those homes: [208500, 181500, 223500, 140000, 250000]\n",
      "Setup Complete\n"
     ]
    }
   ],
   "source": [
    "# Code you have previously used to load data\n",
    "import pandas as pd\n",
    "from sklearn.tree import DecisionTreeRegressor\n",
    "\n",
    "# Path of the file to read\n",
    "iowa_file_path = '../input/home-data-for-ml-course/train.csv'\n",
    "\n",
    "home_data = pd.read_csv(iowa_file_path)\n",
    "y = home_data.SalePrice\n",
    "feature_columns = ['LotArea', 'YearBuilt', '1stFlrSF', '2ndFlrSF', 'FullBath', 'BedroomAbvGr', 'TotRmsAbvGrd']\n",
    "X = home_data[feature_columns]\n",
    "\n",
    "# Specify Model\n",
    "iowa_model = DecisionTreeRegressor()\n",
    "# Fit Model\n",
    "iowa_model.fit(X, y)\n",
    "\n",
    "print(\"First in-sample predictions:\", iowa_model.predict(X.head()))\n",
    "print(\"Actual target values for those homes:\", y.head().tolist())\n",
    "\n",
    "# Set up code checking\n",
    "from learntools.core import binder\n",
    "binder.bind(globals())\n",
    "from learntools.machine_learning.ex4 import *\n",
    "print(\"Setup Complete\")"
   ]
  },
  {
   "cell_type": "markdown",
   "id": "00358174",
   "metadata": {
    "papermill": {
     "duration": 0.006315,
     "end_time": "2024-05-26T00:01:59.500224",
     "exception": false,
     "start_time": "2024-05-26T00:01:59.493909",
     "status": "completed"
    },
    "tags": []
   },
   "source": [
    "# Exercises\n",
    "\n",
    "## Step 1: Split Your Data\n",
    "Use the `train_test_split` function to split up your data.\n",
    "\n",
    "Give it the argument `random_state=1` so the `check` functions know what to expect when verifying your code.\n",
    "\n",
    "Recall, your features are loaded in the DataFrame **X** and your target is loaded in **y**.\n"
   ]
  },
  {
   "cell_type": "code",
   "execution_count": 2,
   "id": "3bdff51f",
   "metadata": {
    "execution": {
     "iopub.execute_input": "2024-05-26T00:01:59.515895Z",
     "iopub.status.busy": "2024-05-26T00:01:59.515464Z",
     "iopub.status.idle": "2024-05-26T00:01:59.539864Z",
     "shell.execute_reply": "2024-05-26T00:01:59.538282Z"
    },
    "papermill": {
     "duration": 0.036348,
     "end_time": "2024-05-26T00:01:59.543051",
     "exception": false,
     "start_time": "2024-05-26T00:01:59.506703",
     "status": "completed"
    },
    "tags": []
   },
   "outputs": [
    {
     "data": {
      "application/javascript": [
       "parent.postMessage({\"jupyterEvent\": \"custom.exercise_interaction\", \"data\": {\"outcomeType\": 1, \"valueTowardsCompletion\": 0.25, \"interactionType\": 1, \"questionType\": 2, \"questionId\": \"1_SplitData\", \"learnToolsVersion\": \"0.3.4\", \"failureMessage\": \"\", \"exceptionClass\": \"\", \"trace\": \"\"}}, \"*\")"
      ],
      "text/plain": [
       "<IPython.core.display.Javascript object>"
      ]
     },
     "metadata": {},
     "output_type": "display_data"
    },
    {
     "data": {
      "text/markdown": [
       "<span style=\"color:#33cc33\">Correct</span>"
      ],
      "text/plain": [
       "Correct"
      ]
     },
     "metadata": {},
     "output_type": "display_data"
    }
   ],
   "source": [
    "# Import the train_test_split function and uncomment\n",
    "from sklearn.model_selection import train_test_split\n",
    "\n",
    "# fill in and uncomment\n",
    "train_X, val_X, train_y, val_y = train_test_split(X,y,random_state=1)\n",
    "\n",
    "# Check your answer\n",
    "step_1.check()"
   ]
  },
  {
   "cell_type": "code",
   "execution_count": 3,
   "id": "51ae1feb",
   "metadata": {
    "execution": {
     "iopub.execute_input": "2024-05-26T00:01:59.560798Z",
     "iopub.status.busy": "2024-05-26T00:01:59.559797Z",
     "iopub.status.idle": "2024-05-26T00:01:59.572811Z",
     "shell.execute_reply": "2024-05-26T00:01:59.571493Z"
    },
    "papermill": {
     "duration": 0.024969,
     "end_time": "2024-05-26T00:01:59.575619",
     "exception": false,
     "start_time": "2024-05-26T00:01:59.550650",
     "status": "completed"
    },
    "tags": []
   },
   "outputs": [
    {
     "data": {
      "application/javascript": [
       "parent.postMessage({\"jupyterEvent\": \"custom.exercise_interaction\", \"data\": {\"interactionType\": 2, \"questionType\": 2, \"questionId\": \"1_SplitData\", \"learnToolsVersion\": \"0.3.4\", \"valueTowardsCompletion\": 0.0, \"failureMessage\": \"\", \"exceptionClass\": \"\", \"trace\": \"\", \"outcomeType\": 4}}, \"*\")"
      ],
      "text/plain": [
       "<IPython.core.display.Javascript object>"
      ]
     },
     "metadata": {},
     "output_type": "display_data"
    },
    {
     "data": {
      "text/markdown": [
       "<span style=\"color:#3366cc\">Hint:</span> The function you need to import is part of sklearn. When calling the function, the arguments are X and y. Ensure you set the random_state to 1."
      ],
      "text/plain": [
       "Hint: The function you need to import is part of sklearn. When calling the function, the arguments are X and y. Ensure you set the random_state to 1."
      ]
     },
     "metadata": {},
     "output_type": "display_data"
    }
   ],
   "source": [
    "# The lines below will show you a hint or the solution.\n",
    "step_1.hint() \n",
    "# step_1.solution()\n"
   ]
  },
  {
   "cell_type": "markdown",
   "id": "34219cc5",
   "metadata": {
    "papermill": {
     "duration": 0.007142,
     "end_time": "2024-05-26T00:01:59.590042",
     "exception": false,
     "start_time": "2024-05-26T00:01:59.582900",
     "status": "completed"
    },
    "tags": []
   },
   "source": [
    "## Step 2: Specify and Fit the Model\n",
    "\n",
    "Create a `DecisionTreeRegressor` model and fit it to the relevant data.\n",
    "Set `random_state` to 1 again when creating the model."
   ]
  },
  {
   "cell_type": "code",
   "execution_count": 4,
   "id": "81462a03",
   "metadata": {
    "execution": {
     "iopub.execute_input": "2024-05-26T00:01:59.607449Z",
     "iopub.status.busy": "2024-05-26T00:01:59.606811Z",
     "iopub.status.idle": "2024-05-26T00:01:59.641777Z",
     "shell.execute_reply": "2024-05-26T00:01:59.640465Z"
    },
    "papermill": {
     "duration": 0.047282,
     "end_time": "2024-05-26T00:01:59.644672",
     "exception": false,
     "start_time": "2024-05-26T00:01:59.597390",
     "status": "completed"
    },
    "tags": []
   },
   "outputs": [
    {
     "name": "stdout",
     "output_type": "stream",
     "text": [
      "[186500. 184000. 130000.  92000. 164500. 220000. 335000. 144152. 215000.\n",
      " 262000.]\n",
      "[186500. 184000. 130000.  92000. 164500. 220000. 335000. 144152. 215000.\n",
      " 262000.]\n"
     ]
    },
    {
     "data": {
      "application/javascript": [
       "parent.postMessage({\"jupyterEvent\": \"custom.exercise_interaction\", \"data\": {\"outcomeType\": 1, \"valueTowardsCompletion\": 0.25, \"interactionType\": 1, \"questionType\": 2, \"questionId\": \"2_FitModelWithTrain\", \"learnToolsVersion\": \"0.3.4\", \"failureMessage\": \"\", \"exceptionClass\": \"\", \"trace\": \"\"}}, \"*\")"
      ],
      "text/plain": [
       "<IPython.core.display.Javascript object>"
      ]
     },
     "metadata": {},
     "output_type": "display_data"
    },
    {
     "data": {
      "text/markdown": [
       "<span style=\"color:#33cc33\">Correct</span>"
      ],
      "text/plain": [
       "Correct"
      ]
     },
     "metadata": {},
     "output_type": "display_data"
    }
   ],
   "source": [
    "# You imported DecisionTreeRegressor in your last exercise\n",
    "# and that code has been copied to the setup code above. So, no need to\n",
    "# import it again\n",
    "\n",
    "# Specify the model\n",
    "iowa_model = DecisionTreeRegressor(random_state=1)\n",
    "iowa_model.fit(train_X, train_y)\n",
    "\n",
    "# Check your answer\n",
    "step_2.check()"
   ]
  },
  {
   "cell_type": "code",
   "execution_count": 5,
   "id": "d0974b5a",
   "metadata": {
    "execution": {
     "iopub.execute_input": "2024-05-26T00:01:59.662638Z",
     "iopub.status.busy": "2024-05-26T00:01:59.662175Z",
     "iopub.status.idle": "2024-05-26T00:01:59.678966Z",
     "shell.execute_reply": "2024-05-26T00:01:59.677696Z"
    },
    "papermill": {
     "duration": 0.029415,
     "end_time": "2024-05-26T00:01:59.681682",
     "exception": false,
     "start_time": "2024-05-26T00:01:59.652267",
     "status": "completed"
    },
    "tags": []
   },
   "outputs": [
    {
     "data": {
      "application/javascript": [
       "parent.postMessage({\"jupyterEvent\": \"custom.exercise_interaction\", \"data\": {\"interactionType\": 2, \"questionType\": 2, \"questionId\": \"2_FitModelWithTrain\", \"learnToolsVersion\": \"0.3.4\", \"valueTowardsCompletion\": 0.0, \"failureMessage\": \"\", \"exceptionClass\": \"\", \"trace\": \"\", \"outcomeType\": 4}}, \"*\")"
      ],
      "text/plain": [
       "<IPython.core.display.Javascript object>"
      ]
     },
     "metadata": {},
     "output_type": "display_data"
    },
    {
     "data": {
      "text/markdown": [
       "<span style=\"color:#3366cc\">Hint:</span> Remember, you fit with training data. You will test with validation data soon"
      ],
      "text/plain": [
       "Hint: Remember, you fit with training data. You will test with validation data soon"
      ]
     },
     "metadata": {},
     "output_type": "display_data"
    },
    {
     "data": {
      "application/javascript": [
       "parent.postMessage({\"jupyterEvent\": \"custom.exercise_interaction\", \"data\": {\"interactionType\": 3, \"questionType\": 2, \"questionId\": \"2_FitModelWithTrain\", \"learnToolsVersion\": \"0.3.4\", \"valueTowardsCompletion\": 0.0, \"failureMessage\": \"\", \"exceptionClass\": \"\", \"trace\": \"\", \"outcomeType\": 4}}, \"*\")"
      ],
      "text/plain": [
       "<IPython.core.display.Javascript object>"
      ]
     },
     "metadata": {},
     "output_type": "display_data"
    },
    {
     "data": {
      "text/markdown": [
       "<span style=\"color:#33cc99\">Solution:</span> \n",
       "```python\n",
       "iowa_model = DecisionTreeRegressor(random_state=1)\n",
       "iowa_model.fit(train_X, train_y)\n",
       "```"
      ],
      "text/plain": [
       "Solution: \n",
       "```python\n",
       "iowa_model = DecisionTreeRegressor(random_state=1)\n",
       "iowa_model.fit(train_X, train_y)\n",
       "```"
      ]
     },
     "metadata": {},
     "output_type": "display_data"
    }
   ],
   "source": [
    "step_2.hint()\n",
    "step_2.solution()"
   ]
  },
  {
   "cell_type": "markdown",
   "id": "94f316e4",
   "metadata": {
    "papermill": {
     "duration": 0.010651,
     "end_time": "2024-05-26T00:01:59.701085",
     "exception": false,
     "start_time": "2024-05-26T00:01:59.690434",
     "status": "completed"
    },
    "tags": []
   },
   "source": [
    "## Step 3: Make Predictions with Validation data\n"
   ]
  },
  {
   "cell_type": "code",
   "execution_count": 6,
   "id": "15eca453",
   "metadata": {
    "execution": {
     "iopub.execute_input": "2024-05-26T00:01:59.721025Z",
     "iopub.status.busy": "2024-05-26T00:01:59.720024Z",
     "iopub.status.idle": "2024-05-26T00:01:59.736290Z",
     "shell.execute_reply": "2024-05-26T00:01:59.734905Z"
    },
    "papermill": {
     "duration": 0.029034,
     "end_time": "2024-05-26T00:01:59.738967",
     "exception": false,
     "start_time": "2024-05-26T00:01:59.709933",
     "status": "completed"
    },
    "tags": []
   },
   "outputs": [
    {
     "data": {
      "application/javascript": [
       "parent.postMessage({\"jupyterEvent\": \"custom.exercise_interaction\", \"data\": {\"outcomeType\": 1, \"valueTowardsCompletion\": 0.25, \"interactionType\": 1, \"questionType\": 2, \"questionId\": \"3_ValPreds\", \"learnToolsVersion\": \"0.3.4\", \"failureMessage\": \"\", \"exceptionClass\": \"\", \"trace\": \"\"}}, \"*\")"
      ],
      "text/plain": [
       "<IPython.core.display.Javascript object>"
      ]
     },
     "metadata": {},
     "output_type": "display_data"
    },
    {
     "data": {
      "text/markdown": [
       "<span style=\"color:#33cc33\">Correct</span>"
      ],
      "text/plain": [
       "Correct"
      ]
     },
     "metadata": {},
     "output_type": "display_data"
    }
   ],
   "source": [
    "# Predict with all validation observations\n",
    "val_predictions = iowa_model.predict(val_X)\n",
    "\n",
    "# Check your answer\n",
    "step_3.check()"
   ]
  },
  {
   "cell_type": "code",
   "execution_count": 7,
   "id": "75905e8f",
   "metadata": {
    "execution": {
     "iopub.execute_input": "2024-05-26T00:01:59.760325Z",
     "iopub.status.busy": "2024-05-26T00:01:59.759899Z",
     "iopub.status.idle": "2024-05-26T00:01:59.764858Z",
     "shell.execute_reply": "2024-05-26T00:01:59.763824Z"
    },
    "papermill": {
     "duration": 0.019546,
     "end_time": "2024-05-26T00:01:59.767351",
     "exception": false,
     "start_time": "2024-05-26T00:01:59.747805",
     "status": "completed"
    },
    "tags": []
   },
   "outputs": [],
   "source": [
    "# step_3.hint()\n",
    "# step_3.solution()"
   ]
  },
  {
   "cell_type": "markdown",
   "id": "edc16f2c",
   "metadata": {
    "papermill": {
     "duration": 0.009007,
     "end_time": "2024-05-26T00:01:59.786436",
     "exception": false,
     "start_time": "2024-05-26T00:01:59.777429",
     "status": "completed"
    },
    "tags": []
   },
   "source": [
    "Inspect your predictions and actual values from validation data."
   ]
  },
  {
   "cell_type": "code",
   "execution_count": 8,
   "id": "4b40c9af",
   "metadata": {
    "execution": {
     "iopub.execute_input": "2024-05-26T00:01:59.811385Z",
     "iopub.status.busy": "2024-05-26T00:01:59.810918Z",
     "iopub.status.idle": "2024-05-26T00:01:59.819508Z",
     "shell.execute_reply": "2024-05-26T00:01:59.817984Z"
    },
    "papermill": {
     "duration": 0.025993,
     "end_time": "2024-05-26T00:01:59.822840",
     "exception": false,
     "start_time": "2024-05-26T00:01:59.796847",
     "status": "completed"
    },
    "tags": []
   },
   "outputs": [
    {
     "name": "stdout",
     "output_type": "stream",
     "text": [
      "[186500. 184000. 130000.  92000. 164500. 220000. 335000. 144152. 215000.\n",
      " 262000.]\n",
      "258     231500\n",
      "267     179500\n",
      "288     122000\n",
      "649      84500\n",
      "1233    142000\n",
      "167     325624\n",
      "926     285000\n",
      "831     151000\n",
      "1237    195000\n",
      "426     275000\n",
      "Name: SalePrice, dtype: int64\n"
     ]
    }
   ],
   "source": [
    "# print the top few validation predictions\n",
    "print(val_predictions[:10])\n",
    "# print the top few actual prices from validation data\n",
    "print(val_y[:10])"
   ]
  },
  {
   "cell_type": "markdown",
   "id": "5b252ebc",
   "metadata": {
    "papermill": {
     "duration": 0.011014,
     "end_time": "2024-05-26T00:01:59.844402",
     "exception": false,
     "start_time": "2024-05-26T00:01:59.833388",
     "status": "completed"
    },
    "tags": []
   },
   "source": [
    "What do you notice that is different from what you saw with in-sample predictions (which are printed after the top code cell in this page).\n",
    "\n",
    "Do you remember why validation predictions differ from in-sample (or training) predictions? This is an important idea from the last lesson.\n",
    "\n",
    "## Step 4: Calculate the Mean Absolute Error in Validation Data\n"
   ]
  },
  {
   "cell_type": "code",
   "execution_count": 9,
   "id": "27f3b28c",
   "metadata": {
    "execution": {
     "iopub.execute_input": "2024-05-26T00:01:59.869292Z",
     "iopub.status.busy": "2024-05-26T00:01:59.868796Z",
     "iopub.status.idle": "2024-05-26T00:01:59.884764Z",
     "shell.execute_reply": "2024-05-26T00:01:59.883361Z"
    },
    "papermill": {
     "duration": 0.032362,
     "end_time": "2024-05-26T00:01:59.887846",
     "exception": false,
     "start_time": "2024-05-26T00:01:59.855484",
     "status": "completed"
    },
    "tags": []
   },
   "outputs": [
    {
     "name": "stdout",
     "output_type": "stream",
     "text": [
      "29652.931506849316\n"
     ]
    },
    {
     "data": {
      "application/javascript": [
       "parent.postMessage({\"jupyterEvent\": \"custom.exercise_interaction\", \"data\": {\"outcomeType\": 1, \"valueTowardsCompletion\": 0.25, \"interactionType\": 1, \"questionType\": 1, \"questionId\": \"4_MAE\", \"learnToolsVersion\": \"0.3.4\", \"failureMessage\": \"\", \"exceptionClass\": \"\", \"trace\": \"\"}}, \"*\")"
      ],
      "text/plain": [
       "<IPython.core.display.Javascript object>"
      ]
     },
     "metadata": {},
     "output_type": "display_data"
    },
    {
     "data": {
      "text/markdown": [
       "<span style=\"color:#33cc33\">Correct</span>"
      ],
      "text/plain": [
       "Correct"
      ]
     },
     "metadata": {},
     "output_type": "display_data"
    }
   ],
   "source": [
    "from sklearn.metrics import mean_absolute_error\n",
    "val_mae = mean_absolute_error(val_y,val_predictions)\n",
    "\n",
    "# uncomment following line to see the validation_mae\n",
    "print(val_mae)\n",
    "\n",
    "# Check your answer\n",
    "step_4.check()"
   ]
  },
  {
   "cell_type": "code",
   "execution_count": 10,
   "id": "c964b2b4",
   "metadata": {
    "execution": {
     "iopub.execute_input": "2024-05-26T00:01:59.911058Z",
     "iopub.status.busy": "2024-05-26T00:01:59.910557Z",
     "iopub.status.idle": "2024-05-26T00:01:59.916714Z",
     "shell.execute_reply": "2024-05-26T00:01:59.915063Z"
    },
    "papermill": {
     "duration": 0.021606,
     "end_time": "2024-05-26T00:01:59.919332",
     "exception": false,
     "start_time": "2024-05-26T00:01:59.897726",
     "status": "completed"
    },
    "tags": []
   },
   "outputs": [],
   "source": [
    "# step_4.hint()\n",
    "# step_4.solution()"
   ]
  },
  {
   "cell_type": "markdown",
   "id": "34103332",
   "metadata": {
    "papermill": {
     "duration": 0.009773,
     "end_time": "2024-05-26T00:01:59.940404",
     "exception": false,
     "start_time": "2024-05-26T00:01:59.930631",
     "status": "completed"
    },
    "tags": []
   },
   "source": [
    "Is that MAE good?  There isn't a general rule for what values are good that applies across applications. But you'll see how to use (and improve) this number in the next step.\n",
    "\n",
    "# Keep Going\n",
    "\n",
    "You are ready for **[Underfitting and Overfitting](https://www.kaggle.com/dansbecker/underfitting-and-overfitting).**\n"
   ]
  },
  {
   "cell_type": "markdown",
   "id": "842671e4",
   "metadata": {
    "papermill": {
     "duration": 0.010483,
     "end_time": "2024-05-26T00:01:59.961270",
     "exception": false,
     "start_time": "2024-05-26T00:01:59.950787",
     "status": "completed"
    },
    "tags": []
   },
   "source": [
    "---\n",
    "\n",
    "\n",
    "\n",
    "\n",
    "*Have questions or comments? Visit the [course discussion forum](https://www.kaggle.com/learn/intro-to-machine-learning/discussion) to chat with other learners.*"
   ]
  }
 ],
 "metadata": {
  "kaggle": {
   "accelerator": "none",
   "dataSources": [
    {
     "databundleVersionId": 111096,
     "sourceId": 10211,
     "sourceType": "competition"
    },
    {
     "datasetId": 11167,
     "sourceId": 15520,
     "sourceType": "datasetVersion"
    },
    {
     "datasetId": 2709,
     "sourceId": 38454,
     "sourceType": "datasetVersion"
    }
   ],
   "isGpuEnabled": false,
   "isInternetEnabled": false,
   "language": "python",
   "sourceType": "notebook"
  },
  "kernelspec": {
   "display_name": "Python 3",
   "language": "python",
   "name": "python3"
  },
  "language_info": {
   "codemirror_mode": {
    "name": "ipython",
    "version": 3
   },
   "file_extension": ".py",
   "mimetype": "text/x-python",
   "name": "python",
   "nbconvert_exporter": "python",
   "pygments_lexer": "ipython3",
   "version": "3.10.13"
  },
  "papermill": {
   "default_parameters": {},
   "duration": 9.047474,
   "end_time": "2024-05-26T00:02:00.695159",
   "environment_variables": {},
   "exception": null,
   "input_path": "__notebook__.ipynb",
   "output_path": "__notebook__.ipynb",
   "parameters": {},
   "start_time": "2024-05-26T00:01:51.647685",
   "version": "2.5.0"
  }
 },
 "nbformat": 4,
 "nbformat_minor": 5
}
