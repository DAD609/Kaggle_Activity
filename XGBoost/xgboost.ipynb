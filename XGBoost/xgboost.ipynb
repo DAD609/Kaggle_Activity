{
 "cells": [
  {
   "cell_type": "markdown",
   "id": "abc81cd4",
   "metadata": {
    "papermill": {
     "duration": 0.00581,
     "end_time": "2024-05-25T23:27:49.586507",
     "exception": false,
     "start_time": "2024-05-25T23:27:49.580697",
     "status": "completed"
    },
    "tags": []
   },
   "source": [
    "**This notebook is an exercise in the [Intermediate Machine Learning](https://www.kaggle.com/learn/intermediate-machine-learning) course.  You can reference the tutorial at [this link](https://www.kaggle.com/alexisbcook/xgboost).**\n",
    "\n",
    "---\n"
   ]
  },
  {
   "cell_type": "markdown",
   "id": "887ded43",
   "metadata": {
    "papermill": {
     "duration": 0.005212,
     "end_time": "2024-05-25T23:27:49.597523",
     "exception": false,
     "start_time": "2024-05-25T23:27:49.592311",
     "status": "completed"
    },
    "tags": []
   },
   "source": [
    "In this exercise, you will use your new knowledge to train a model with **gradient boosting**.\n",
    "\n",
    "# Setup\n",
    "\n",
    "The questions below will give you feedback on your work. Run the following cell to set up the feedback system."
   ]
  },
  {
   "cell_type": "code",
   "execution_count": 1,
   "id": "c8e7995d",
   "metadata": {
    "execution": {
     "iopub.execute_input": "2024-05-25T23:27:49.611516Z",
     "iopub.status.busy": "2024-05-25T23:27:49.610588Z",
     "iopub.status.idle": "2024-05-25T23:27:53.007192Z",
     "shell.execute_reply": "2024-05-25T23:27:53.005707Z"
    },
    "papermill": {
     "duration": 3.40782,
     "end_time": "2024-05-25T23:27:53.010562",
     "exception": false,
     "start_time": "2024-05-25T23:27:49.602742",
     "status": "completed"
    },
    "tags": []
   },
   "outputs": [
    {
     "name": "stdout",
     "output_type": "stream",
     "text": [
      "Setup Complete\n"
     ]
    }
   ],
   "source": [
    "# Set up code checking\n",
    "import os\n",
    "if not os.path.exists(\"../input/train.csv\"):\n",
    "    os.symlink(\"../input/home-data-for-ml-course/train.csv\", \"../input/train.csv\")  \n",
    "    os.symlink(\"../input/home-data-for-ml-course/test.csv\", \"../input/test.csv\") \n",
    "from learntools.core import binder\n",
    "binder.bind(globals())\n",
    "from learntools.ml_intermediate.ex6 import *\n",
    "print(\"Setup Complete\")"
   ]
  },
  {
   "cell_type": "markdown",
   "id": "02511cf5",
   "metadata": {
    "papermill": {
     "duration": 0.004584,
     "end_time": "2024-05-25T23:27:53.020263",
     "exception": false,
     "start_time": "2024-05-25T23:27:53.015679",
     "status": "completed"
    },
    "tags": []
   },
   "source": [
    "You will work with the [Housing Prices Competition for Kaggle Learn Users](https://www.kaggle.com/c/home-data-for-ml-course) dataset from the previous exercise. \n",
    "\n",
    "![Ames Housing dataset image](https://storage.googleapis.com/kaggle-media/learn/images/lTJVG4e.png)\n",
    "\n",
    "Run the next code cell without changes to load the training and validation sets in `X_train`, `X_valid`, `y_train`, and `y_valid`.  The test set is loaded in `X_test`."
   ]
  },
  {
   "cell_type": "code",
   "execution_count": 2,
   "id": "b6b6ed6a",
   "metadata": {
    "execution": {
     "iopub.execute_input": "2024-05-25T23:27:53.031865Z",
     "iopub.status.busy": "2024-05-25T23:27:53.031528Z",
     "iopub.status.idle": "2024-05-25T23:27:53.191964Z",
     "shell.execute_reply": "2024-05-25T23:27:53.190900Z"
    },
    "papermill": {
     "duration": 0.169719,
     "end_time": "2024-05-25T23:27:53.194868",
     "exception": false,
     "start_time": "2024-05-25T23:27:53.025149",
     "status": "completed"
    },
    "tags": []
   },
   "outputs": [],
   "source": [
    "import pandas as pd\n",
    "from sklearn.model_selection import train_test_split\n",
    "\n",
    "# Read the data\n",
    "X = pd.read_csv('../input/train.csv', index_col='Id')\n",
    "X_test_full = pd.read_csv('../input/test.csv', index_col='Id')\n",
    "\n",
    "# Remove rows with missing target, separate target from predictors\n",
    "X.dropna(axis=0, subset=['SalePrice'], inplace=True)\n",
    "y = X.SalePrice              \n",
    "X.drop(['SalePrice'], axis=1, inplace=True)\n",
    "\n",
    "# Break off validation set from training data\n",
    "X_train_full, X_valid_full, y_train, y_valid = train_test_split(X, y, train_size=0.8, test_size=0.2,\n",
    "                                                                random_state=0)\n",
    "\n",
    "# \"Cardinality\" means the number of unique values in a column\n",
    "# Select categorical columns with relatively low cardinality (convenient but arbitrary)\n",
    "low_cardinality_cols = [cname for cname in X_train_full.columns if X_train_full[cname].nunique() < 10 and \n",
    "                        X_train_full[cname].dtype == \"object\"]\n",
    "\n",
    "# Select numeric columns\n",
    "numeric_cols = [cname for cname in X_train_full.columns if X_train_full[cname].dtype in ['int64', 'float64']]\n",
    "\n",
    "# Keep selected columns only\n",
    "my_cols = low_cardinality_cols + numeric_cols\n",
    "X_train = X_train_full[my_cols].copy()\n",
    "X_valid = X_valid_full[my_cols].copy()\n",
    "X_test = X_test_full[my_cols].copy()\n",
    "\n",
    "# One-hot encode the data (to shorten the code, we use pandas)\n",
    "X_train = pd.get_dummies(X_train)\n",
    "X_valid = pd.get_dummies(X_valid)\n",
    "X_test = pd.get_dummies(X_test)\n",
    "X_train, X_valid = X_train.align(X_valid, join='left', axis=1)\n",
    "X_train, X_test = X_train.align(X_test, join='left', axis=1)"
   ]
  },
  {
   "cell_type": "markdown",
   "id": "a6236583",
   "metadata": {
    "papermill": {
     "duration": 0.004917,
     "end_time": "2024-05-25T23:27:53.205212",
     "exception": false,
     "start_time": "2024-05-25T23:27:53.200295",
     "status": "completed"
    },
    "tags": []
   },
   "source": [
    "# Step 1: Build model\n",
    "\n",
    "### Part A\n",
    "\n",
    "In this step, you'll build and train your first model with gradient boosting.\n",
    "\n",
    "- Begin by setting `my_model_1` to an XGBoost model.  Use the [XGBRegressor](https://xgboost.readthedocs.io/en/latest/python/python_api.html#xgboost.XGBRegressor) class, and set the random seed to 0 (`random_state=0`).  **Leave all other parameters as default.**\n",
    "- Then, fit the model to the training data in `X_train` and `y_train`."
   ]
  },
  {
   "cell_type": "code",
   "execution_count": 3,
   "id": "ff3881d6",
   "metadata": {
    "execution": {
     "iopub.execute_input": "2024-05-25T23:27:53.217909Z",
     "iopub.status.busy": "2024-05-25T23:27:53.217539Z",
     "iopub.status.idle": "2024-05-25T23:27:53.739629Z",
     "shell.execute_reply": "2024-05-25T23:27:53.738534Z"
    },
    "papermill": {
     "duration": 0.5319,
     "end_time": "2024-05-25T23:27:53.742481",
     "exception": false,
     "start_time": "2024-05-25T23:27:53.210581",
     "status": "completed"
    },
    "tags": []
   },
   "outputs": [
    {
     "data": {
      "application/javascript": [
       "parent.postMessage({\"jupyterEvent\": \"custom.exercise_interaction\", \"data\": {\"outcomeType\": 1, \"valueTowardsCompletion\": 0.5, \"interactionType\": 1, \"questionType\": 2, \"questionId\": \"1.1_Model1A\", \"learnToolsVersion\": \"0.3.4\", \"failureMessage\": \"\", \"exceptionClass\": \"\", \"trace\": \"\"}}, \"*\")"
      ],
      "text/plain": [
       "<IPython.core.display.Javascript object>"
      ]
     },
     "metadata": {},
     "output_type": "display_data"
    },
    {
     "data": {
      "text/markdown": [
       "<span style=\"color:#33cc33\">Correct</span>"
      ],
      "text/plain": [
       "Correct"
      ]
     },
     "metadata": {},
     "output_type": "display_data"
    }
   ],
   "source": [
    "from xgboost import XGBRegressor\n",
    "\n",
    "# Define the model\n",
    "my_model_1 = XGBRegressor(random_state=0) # Your code here\n",
    "\n",
    "# Fit the model\n",
    "my_model_1.fit(X_train,y_train)  # Your code here\n",
    "\n",
    "# Check your answer\n",
    "step_1.a.check()"
   ]
  },
  {
   "cell_type": "code",
   "execution_count": 4,
   "id": "cdd57f05",
   "metadata": {
    "execution": {
     "iopub.execute_input": "2024-05-25T23:27:53.756329Z",
     "iopub.status.busy": "2024-05-25T23:27:53.755769Z",
     "iopub.status.idle": "2024-05-25T23:27:53.759176Z",
     "shell.execute_reply": "2024-05-25T23:27:53.758508Z"
    },
    "papermill": {
     "duration": 0.012771,
     "end_time": "2024-05-25T23:27:53.761362",
     "exception": false,
     "start_time": "2024-05-25T23:27:53.748591",
     "status": "completed"
    },
    "tags": []
   },
   "outputs": [],
   "source": [
    "# Lines below will give you a hint or solution code\n",
    "#step_1.a.hint()\n",
    "#step_1.a.solution()"
   ]
  },
  {
   "cell_type": "markdown",
   "id": "ea9fb290",
   "metadata": {
    "papermill": {
     "duration": 0.005881,
     "end_time": "2024-05-25T23:27:53.772964",
     "exception": false,
     "start_time": "2024-05-25T23:27:53.767083",
     "status": "completed"
    },
    "tags": []
   },
   "source": [
    "### Part B\n",
    "\n",
    "Set `predictions_1` to the model's predictions for the validation data.  Recall that the validation features are stored in `X_valid`."
   ]
  },
  {
   "cell_type": "code",
   "execution_count": 5,
   "id": "cee221f8",
   "metadata": {
    "execution": {
     "iopub.execute_input": "2024-05-25T23:27:53.787794Z",
     "iopub.status.busy": "2024-05-25T23:27:53.787131Z",
     "iopub.status.idle": "2024-05-25T23:27:53.826674Z",
     "shell.execute_reply": "2024-05-25T23:27:53.825070Z"
    },
    "papermill": {
     "duration": 0.049863,
     "end_time": "2024-05-25T23:27:53.829374",
     "exception": false,
     "start_time": "2024-05-25T23:27:53.779511",
     "status": "completed"
    },
    "tags": []
   },
   "outputs": [
    {
     "data": {
      "application/javascript": [
       "parent.postMessage({\"jupyterEvent\": \"custom.exercise_interaction\", \"data\": {\"outcomeType\": 1, \"valueTowardsCompletion\": 0.5, \"interactionType\": 1, \"questionType\": 2, \"questionId\": \"1.2_Model1B\", \"learnToolsVersion\": \"0.3.4\", \"failureMessage\": \"\", \"exceptionClass\": \"\", \"trace\": \"\"}}, \"*\")"
      ],
      "text/plain": [
       "<IPython.core.display.Javascript object>"
      ]
     },
     "metadata": {},
     "output_type": "display_data"
    },
    {
     "data": {
      "text/markdown": [
       "<span style=\"color:#33cc33\">Correct</span>"
      ],
      "text/plain": [
       "Correct"
      ]
     },
     "metadata": {},
     "output_type": "display_data"
    }
   ],
   "source": [
    "from sklearn.metrics import mean_absolute_error\n",
    "\n",
    "# Get predictions\n",
    "predictions_1 = my_model_1.predict(X_valid ) # Your code here\n",
    "\n",
    "# Check your answer\n",
    "step_1.b.check()"
   ]
  },
  {
   "cell_type": "code",
   "execution_count": 6,
   "id": "303f860f",
   "metadata": {
    "execution": {
     "iopub.execute_input": "2024-05-25T23:27:53.843376Z",
     "iopub.status.busy": "2024-05-25T23:27:53.842921Z",
     "iopub.status.idle": "2024-05-25T23:27:53.847168Z",
     "shell.execute_reply": "2024-05-25T23:27:53.846324Z"
    },
    "papermill": {
     "duration": 0.014602,
     "end_time": "2024-05-25T23:27:53.849497",
     "exception": false,
     "start_time": "2024-05-25T23:27:53.834895",
     "status": "completed"
    },
    "tags": []
   },
   "outputs": [],
   "source": [
    "# Lines below will give you a hint or solution code\n",
    "#step_1.b.hint()\n",
    "#step_1.b.solution()"
   ]
  },
  {
   "cell_type": "markdown",
   "id": "5158c2ad",
   "metadata": {
    "papermill": {
     "duration": 0.005709,
     "end_time": "2024-05-25T23:27:53.861423",
     "exception": false,
     "start_time": "2024-05-25T23:27:53.855714",
     "status": "completed"
    },
    "tags": []
   },
   "source": [
    "### Part C\n",
    "\n",
    "Finally, use the `mean_absolute_error()` function to calculate the mean absolute error (MAE) corresponding to the predictions for the validation set.  Recall that the labels for the validation data are stored in `y_valid`."
   ]
  },
  {
   "cell_type": "code",
   "execution_count": 7,
   "id": "b3237c00",
   "metadata": {
    "execution": {
     "iopub.execute_input": "2024-05-25T23:27:53.875793Z",
     "iopub.status.busy": "2024-05-25T23:27:53.875132Z",
     "iopub.status.idle": "2024-05-25T23:27:53.884354Z",
     "shell.execute_reply": "2024-05-25T23:27:53.883437Z"
    },
    "papermill": {
     "duration": 0.019221,
     "end_time": "2024-05-25T23:27:53.886580",
     "exception": false,
     "start_time": "2024-05-25T23:27:53.867359",
     "status": "completed"
    },
    "tags": []
   },
   "outputs": [
    {
     "name": "stdout",
     "output_type": "stream",
     "text": [
      "Mean Absolute Error: 18161.82412510702\n"
     ]
    },
    {
     "data": {
      "application/javascript": [
       "parent.postMessage({\"jupyterEvent\": \"custom.exercise_interaction\", \"data\": {\"outcomeType\": 1, \"valueTowardsCompletion\": 0.5, \"interactionType\": 1, \"questionType\": 2, \"questionId\": \"1.3_Model1C\", \"learnToolsVersion\": \"0.3.4\", \"failureMessage\": \"\", \"exceptionClass\": \"\", \"trace\": \"\"}}, \"*\")"
      ],
      "text/plain": [
       "<IPython.core.display.Javascript object>"
      ]
     },
     "metadata": {},
     "output_type": "display_data"
    },
    {
     "data": {
      "text/markdown": [
       "<span style=\"color:#33cc33\">Correct</span>"
      ],
      "text/plain": [
       "Correct"
      ]
     },
     "metadata": {},
     "output_type": "display_data"
    }
   ],
   "source": [
    "# Calculate MAE\n",
    "mae_1 = mean_absolute_error(predictions_1,y_valid) # Your code here\n",
    "\n",
    "# Uncomment to print MAE\n",
    "print(\"Mean Absolute Error:\" , mae_1)\n",
    "\n",
    "# Check your answer\n",
    "step_1.c.check()"
   ]
  },
  {
   "cell_type": "code",
   "execution_count": 8,
   "id": "79402ae9",
   "metadata": {
    "execution": {
     "iopub.execute_input": "2024-05-25T23:27:53.901739Z",
     "iopub.status.busy": "2024-05-25T23:27:53.901367Z",
     "iopub.status.idle": "2024-05-25T23:27:53.905608Z",
     "shell.execute_reply": "2024-05-25T23:27:53.904641Z"
    },
    "papermill": {
     "duration": 0.01497,
     "end_time": "2024-05-25T23:27:53.908160",
     "exception": false,
     "start_time": "2024-05-25T23:27:53.893190",
     "status": "completed"
    },
    "tags": []
   },
   "outputs": [],
   "source": [
    "# Lines below will give you a hint or solution code\n",
    "#step_1.c.hint()\n",
    "#step_1.c.solution()"
   ]
  },
  {
   "cell_type": "markdown",
   "id": "6eb7b4f1",
   "metadata": {
    "papermill": {
     "duration": 0.006663,
     "end_time": "2024-05-25T23:27:53.922388",
     "exception": false,
     "start_time": "2024-05-25T23:27:53.915725",
     "status": "completed"
    },
    "tags": []
   },
   "source": [
    "# Step 2: Improve the model\n",
    "\n",
    "Now that you've trained a default model as baseline, it's time to tinker with the parameters, to see if you can get better performance!\n",
    "- Begin by setting `my_model_2` to an XGBoost model, using the [XGBRegressor](https://xgboost.readthedocs.io/en/latest/python/python_api.html#xgboost.XGBRegressor) class.  Use what you learned in the previous tutorial to figure out how to change the default parameters (like `n_estimators` and `learning_rate`) to get better results.\n",
    "- Then, fit the model to the training data in `X_train` and `y_train`.\n",
    "- Set `predictions_2` to the model's predictions for the validation data.  Recall that the validation features are stored in `X_valid`.\n",
    "- Finally, use the `mean_absolute_error()` function to calculate the mean absolute error (MAE) corresponding to the predictions on the validation set.  Recall that the labels for the validation data are stored in `y_valid`.\n",
    "\n",
    "In order for this step to be marked correct, your model in `my_model_2` must attain lower MAE than the model in `my_model_1`. "
   ]
  },
  {
   "cell_type": "code",
   "execution_count": 9,
   "id": "60241598",
   "metadata": {
    "execution": {
     "iopub.execute_input": "2024-05-25T23:27:53.938410Z",
     "iopub.status.busy": "2024-05-25T23:27:53.937713Z",
     "iopub.status.idle": "2024-05-25T23:27:54.896262Z",
     "shell.execute_reply": "2024-05-25T23:27:54.895448Z"
    },
    "papermill": {
     "duration": 0.969819,
     "end_time": "2024-05-25T23:27:54.899620",
     "exception": false,
     "start_time": "2024-05-25T23:27:53.929801",
     "status": "completed"
    },
    "tags": []
   },
   "outputs": [
    {
     "name": "stdout",
     "output_type": "stream",
     "text": [
      "Mean Absolute Error: 17117.83480040668\n"
     ]
    },
    {
     "data": {
      "application/javascript": [
       "parent.postMessage({\"jupyterEvent\": \"custom.exercise_interaction\", \"data\": {\"outcomeType\": 1, \"valueTowardsCompletion\": 0.5, \"interactionType\": 1, \"questionType\": 2, \"questionId\": \"2_Model2\", \"learnToolsVersion\": \"0.3.4\", \"failureMessage\": \"\", \"exceptionClass\": \"\", \"trace\": \"\"}}, \"*\")"
      ],
      "text/plain": [
       "<IPython.core.display.Javascript object>"
      ]
     },
     "metadata": {},
     "output_type": "display_data"
    },
    {
     "data": {
      "text/markdown": [
       "<span style=\"color:#33cc33\">Correct</span>"
      ],
      "text/plain": [
       "Correct"
      ]
     },
     "metadata": {},
     "output_type": "display_data"
    }
   ],
   "source": [
    "# Define the model\n",
    "my_model_2 = XGBRegressor(n_estimators = 200, learning_rate = 0.07) # Your code here\n",
    "\n",
    "# Fit the model\n",
    "my_model_2.fit(X_train,y_train) # Your code here\n",
    "\n",
    "# Get predictions\n",
    "predictions_2 = my_model_2.predict(X_valid) # Your code here\n",
    "\n",
    "# Calculate MAE\n",
    "mae_2 = mean_absolute_error(predictions_2,y_valid) # Your code here\n",
    "\n",
    "# Uncomment to print MAE\n",
    "print(\"Mean Absolute Error:\" , mae_2)\n",
    "\n",
    "# Check your answer\n",
    "step_2.check()"
   ]
  },
  {
   "cell_type": "code",
   "execution_count": 10,
   "id": "bea83e52",
   "metadata": {
    "execution": {
     "iopub.execute_input": "2024-05-25T23:27:54.914896Z",
     "iopub.status.busy": "2024-05-25T23:27:54.914358Z",
     "iopub.status.idle": "2024-05-25T23:27:54.918191Z",
     "shell.execute_reply": "2024-05-25T23:27:54.917274Z"
    },
    "papermill": {
     "duration": 0.014468,
     "end_time": "2024-05-25T23:27:54.920566",
     "exception": false,
     "start_time": "2024-05-25T23:27:54.906098",
     "status": "completed"
    },
    "tags": []
   },
   "outputs": [],
   "source": [
    "# Lines below will give you a hint or solution code\n",
    "#step_2.hint()\n",
    "#step_2.solution()"
   ]
  },
  {
   "cell_type": "markdown",
   "id": "7dca11bf",
   "metadata": {
    "papermill": {
     "duration": 0.006752,
     "end_time": "2024-05-25T23:27:54.934128",
     "exception": false,
     "start_time": "2024-05-25T23:27:54.927376",
     "status": "completed"
    },
    "tags": []
   },
   "source": [
    "# Step 3: Break the model\n",
    "\n",
    "In this step, you will create a model that performs worse than the original model in Step 1.  This will help you to develop your intuition for how to set parameters.  You might even find that you accidentally get better performance, which is ultimately a nice problem to have and a valuable learning experience!\n",
    "- Begin by setting `my_model_3` to an XGBoost model, using the [XGBRegressor](https://xgboost.readthedocs.io/en/latest/python/python_api.html#xgboost.XGBRegressor) class.  Use what you learned in the previous tutorial to figure out how to change the default parameters (like `n_estimators` and `learning_rate`) to design a model to get high MAE.\n",
    "- Then, fit the model to the training data in `X_train` and `y_train`.\n",
    "- Set `predictions_3` to the model's predictions for the validation data.  Recall that the validation features are stored in `X_valid`.\n",
    "- Finally, use the `mean_absolute_error()` function to calculate the mean absolute error (MAE) corresponding to the predictions on the validation set.  Recall that the labels for the validation data are stored in `y_valid`.\n",
    "\n",
    "In order for this step to be marked correct, your model in `my_model_3` must attain higher MAE than the model in `my_model_1`. "
   ]
  },
  {
   "cell_type": "code",
   "execution_count": 11,
   "id": "f0f0dbf4",
   "metadata": {
    "execution": {
     "iopub.execute_input": "2024-05-25T23:27:54.949758Z",
     "iopub.status.busy": "2024-05-25T23:27:54.949388Z",
     "iopub.status.idle": "2024-05-25T23:27:55.300013Z",
     "shell.execute_reply": "2024-05-25T23:27:55.298565Z"
    },
    "papermill": {
     "duration": 0.362672,
     "end_time": "2024-05-25T23:27:55.304135",
     "exception": false,
     "start_time": "2024-05-25T23:27:54.941463",
     "status": "completed"
    },
    "tags": []
   },
   "outputs": [
    {
     "name": "stdout",
     "output_type": "stream",
     "text": [
      "Mean Absolute Error: 20701.341796875\n"
     ]
    },
    {
     "data": {
      "application/javascript": [
       "parent.postMessage({\"jupyterEvent\": \"custom.exercise_interaction\", \"data\": {\"outcomeType\": 1, \"valueTowardsCompletion\": 0.5, \"interactionType\": 1, \"questionType\": 2, \"questionId\": \"3_Model3\", \"learnToolsVersion\": \"0.3.4\", \"failureMessage\": \"\", \"exceptionClass\": \"\", \"trace\": \"\"}}, \"*\")"
      ],
      "text/plain": [
       "<IPython.core.display.Javascript object>"
      ]
     },
     "metadata": {},
     "output_type": "display_data"
    },
    {
     "data": {
      "text/markdown": [
       "<span style=\"color:#33cc33\">Correct</span>"
      ],
      "text/plain": [
       "Correct"
      ]
     },
     "metadata": {},
     "output_type": "display_data"
    }
   ],
   "source": [
    "# Define the model\n",
    "my_model_3 = XGBRegressor(n_estimators = 50,learning_rate=0.5)\n",
    "\n",
    "# Fit the model\n",
    "my_model_3.fit(X_train,y_train) # Your code here\n",
    "\n",
    "# Get predictions\n",
    "predictions_3 = my_model_3.predict(X_valid)\n",
    "\n",
    "# Calculate MAE\n",
    "mae_3 = mean_absolute_error(predictions_3,y_valid)\n",
    "\n",
    "# Uncomment to print MAE\n",
    "print(\"Mean Absolute Error:\" , mae_3)\n",
    "\n",
    "# Check your answer\n",
    "step_3.check()"
   ]
  },
  {
   "cell_type": "code",
   "execution_count": 12,
   "id": "065dac05",
   "metadata": {
    "execution": {
     "iopub.execute_input": "2024-05-25T23:27:55.320952Z",
     "iopub.status.busy": "2024-05-25T23:27:55.320374Z",
     "iopub.status.idle": "2024-05-25T23:27:55.324753Z",
     "shell.execute_reply": "2024-05-25T23:27:55.323667Z"
    },
    "papermill": {
     "duration": 0.016085,
     "end_time": "2024-05-25T23:27:55.328050",
     "exception": false,
     "start_time": "2024-05-25T23:27:55.311965",
     "status": "completed"
    },
    "tags": []
   },
   "outputs": [],
   "source": [
    "# Lines below will give you a hint or solution code\n",
    "#step_3.hint()\n",
    "#step_3.solution()"
   ]
  },
  {
   "cell_type": "markdown",
   "id": "1b1412ae",
   "metadata": {
    "papermill": {
     "duration": 0.00662,
     "end_time": "2024-05-25T23:27:55.341995",
     "exception": false,
     "start_time": "2024-05-25T23:27:55.335375",
     "status": "completed"
    },
    "tags": []
   },
   "source": [
    "# Keep going\n",
    "\n",
    "Continue to learn about **[data leakage](https://www.kaggle.com/alexisbcook/data-leakage)**.  This is an important issue for a data scientist to understand, and it has the potential to ruin your models in subtle and dangerous ways!"
   ]
  },
  {
   "cell_type": "markdown",
   "id": "0e2c15de",
   "metadata": {
    "papermill": {
     "duration": 0.007181,
     "end_time": "2024-05-25T23:27:55.356127",
     "exception": false,
     "start_time": "2024-05-25T23:27:55.348946",
     "status": "completed"
    },
    "tags": []
   },
   "source": [
    "---\n",
    "\n",
    "\n",
    "\n",
    "\n",
    "*Have questions or comments? Visit the [course discussion forum](https://www.kaggle.com/learn/intermediate-machine-learning/discussion) to chat with other learners.*"
   ]
  }
 ],
 "metadata": {
  "kaggle": {
   "accelerator": "none",
   "dataSources": [
    {
     "databundleVersionId": 111096,
     "sourceId": 10211,
     "sourceType": "competition"
    }
   ],
   "isGpuEnabled": false,
   "isInternetEnabled": false,
   "language": "python",
   "sourceType": "notebook"
  },
  "kernelspec": {
   "display_name": "Python 3",
   "language": "python",
   "name": "python3"
  },
  "language_info": {
   "codemirror_mode": {
    "name": "ipython",
    "version": 3
   },
   "file_extension": ".py",
   "mimetype": "text/x-python",
   "name": "python",
   "nbconvert_exporter": "python",
   "pygments_lexer": "ipython3",
   "version": "3.10.13"
  },
  "papermill": {
   "default_parameters": {},
   "duration": 9.165718,
   "end_time": "2024-05-25T23:27:56.087362",
   "environment_variables": {},
   "exception": null,
   "input_path": "__notebook__.ipynb",
   "output_path": "__notebook__.ipynb",
   "parameters": {},
   "start_time": "2024-05-25T23:27:46.921644",
   "version": "2.5.0"
  }
 },
 "nbformat": 4,
 "nbformat_minor": 5
}
