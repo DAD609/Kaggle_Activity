{
 "cells": [
  {
   "cell_type": "markdown",
   "id": "b59a3f62",
   "metadata": {
    "papermill": {
     "duration": 0.006443,
     "end_time": "2024-05-25T23:20:57.516282",
     "exception": false,
     "start_time": "2024-05-25T23:20:57.509839",
     "status": "completed"
    },
    "tags": []
   },
   "source": [
    "**This notebook is an exercise in the [Computer Vision](https://www.kaggle.com/learn/computer-vision) course.  You can reference the tutorial at [this link](https://www.kaggle.com/ryanholbrook/the-convolutional-classifier).**\n",
    "\n",
    "---\n"
   ]
  },
  {
   "cell_type": "markdown",
   "id": "537855cd",
   "metadata": {
    "papermill": {
     "duration": 0.005524,
     "end_time": "2024-05-25T23:20:57.527823",
     "exception": false,
     "start_time": "2024-05-25T23:20:57.522299",
     "status": "completed"
    },
    "tags": []
   },
   "source": [
    "<blockquote style=\"margin-right:auto; margin-left:auto; background-color: #ebf9ff; padding: 1em; margin:24px;\">\n",
    "    <strong>Accelerate Training with a Kaggle GPU!</strong><br>\n",
    "Did you know Kaggle offers free time with a GPU accelerator? You can speed up training neural networks in this course by switching to <strong>GPU</strong> in the <em>Accelerator</em> option on the right. (It may already be turned on.) Two things to be aware of:\n",
    "<ul>\n",
    "<li>Changing the <em>Accelerator</em> option will cause the notebook session to restart. You'll need to rerun any setup code.\n",
    "<li>You can have only one GPU session at a time, so be sure to shut the notebook down after you've finished the exercise.\n",
    "</ul>\n",
    "</blockquote>"
   ]
  },
  {
   "cell_type": "markdown",
   "id": "b6ca3898",
   "metadata": {
    "papermill": {
     "duration": 0.00571,
     "end_time": "2024-05-25T23:20:57.539307",
     "exception": false,
     "start_time": "2024-05-25T23:20:57.533597",
     "status": "completed"
    },
    "tags": []
   },
   "source": [
    "# Introduction #\n",
    "\n",
    "In the tutorial, we saw how to build an image classifier by attaching a head of dense layers to a pretrained base. The base we used was from a model called **VGG16**. We saw that the VGG16 architecture was prone to overfitting this dataset. Over this course, you'll learn a number of ways you can improve upon this initial attempt.\n",
    "\n",
    "The first way you'll see is to use a base more appropriate to the dataset. The base this model comes from is called **InceptionV1** (also known as GoogLeNet). InceptionV1 was one of the early winners of the ImageNet competition. One of its successors, InceptionV4, is among the state of the art today.\n",
    "\n",
    "To get started, run the code cell below to set everything up."
   ]
  },
  {
   "cell_type": "code",
   "execution_count": 1,
   "id": "26fd5a11",
   "metadata": {
    "execution": {
     "iopub.execute_input": "2024-05-25T23:20:57.553213Z",
     "iopub.status.busy": "2024-05-25T23:20:57.552864Z",
     "iopub.status.idle": "2024-05-25T23:21:21.207145Z",
     "shell.execute_reply": "2024-05-25T23:21:21.206305Z"
    },
    "lines_to_next_cell": 2,
    "papermill": {
     "duration": 23.664525,
     "end_time": "2024-05-25T23:21:21.209559",
     "exception": false,
     "start_time": "2024-05-25T23:20:57.545034",
     "status": "completed"
    },
    "tags": []
   },
   "outputs": [
    {
     "name": "stderr",
     "output_type": "stream",
     "text": [
      "2024-05-25 23:21:00.159197: E external/local_xla/xla/stream_executor/cuda/cuda_dnn.cc:9261] Unable to register cuDNN factory: Attempting to register factory for plugin cuDNN when one has already been registered\n",
      "2024-05-25 23:21:00.159330: E external/local_xla/xla/stream_executor/cuda/cuda_fft.cc:607] Unable to register cuFFT factory: Attempting to register factory for plugin cuFFT when one has already been registered\n",
      "2024-05-25 23:21:00.307212: E external/local_xla/xla/stream_executor/cuda/cuda_blas.cc:1515] Unable to register cuBLAS factory: Attempting to register factory for plugin cuBLAS when one has already been registered\n"
     ]
    },
    {
     "name": "stdout",
     "output_type": "stream",
     "text": [
      "Found 5117 files belonging to 2 classes.\n",
      "Found 5051 files belonging to 2 classes.\n"
     ]
    }
   ],
   "source": [
    "# Setup feedback system\n",
    "from learntools.core import binder\n",
    "binder.bind(globals())\n",
    "from learntools.computer_vision.ex1 import *\n",
    "\n",
    "# Imports\n",
    "import os, warnings\n",
    "import matplotlib.pyplot as plt\n",
    "from matplotlib import gridspec\n",
    "\n",
    "import numpy as np\n",
    "import tensorflow as tf\n",
    "from tensorflow.keras.preprocessing import image_dataset_from_directory\n",
    "\n",
    "# Reproducability\n",
    "def set_seed(seed=31415):\n",
    "    np.random.seed(seed)\n",
    "    tf.random.set_seed(seed)\n",
    "    os.environ['PYTHONHASHSEED'] = str(seed)\n",
    "    os.environ['TF_DETERMINISTIC_OPS'] = '1'\n",
    "set_seed()\n",
    "\n",
    "# Set Matplotlib defaults\n",
    "plt.rc('figure', autolayout=True)\n",
    "plt.rc('axes', labelweight='bold', labelsize='large',\n",
    "       titleweight='bold', titlesize=18, titlepad=10)\n",
    "plt.rc('image', cmap='magma')\n",
    "warnings.filterwarnings(\"ignore\") # to clean up output cells\n",
    "\n",
    "\n",
    "# Load training and validation sets\n",
    "ds_train_ = image_dataset_from_directory(\n",
    "    '../input/car-or-truck/train',\n",
    "    labels='inferred',\n",
    "    label_mode='binary',\n",
    "    image_size=[128, 128],\n",
    "    interpolation='nearest',\n",
    "    batch_size=64,\n",
    "    shuffle=True,\n",
    ")\n",
    "ds_valid_ = image_dataset_from_directory(\n",
    "    '../input/car-or-truck/valid',\n",
    "    labels='inferred',\n",
    "    label_mode='binary',\n",
    "    image_size=[128, 128],\n",
    "    interpolation='nearest',\n",
    "    batch_size=64,\n",
    "    shuffle=False,\n",
    ")\n",
    "\n",
    "# Data Pipeline\n",
    "def convert_to_float(image, label):\n",
    "    image = tf.image.convert_image_dtype(image, dtype=tf.float32)\n",
    "    return image, label\n",
    "\n",
    "AUTOTUNE = tf.data.experimental.AUTOTUNE\n",
    "ds_train = (\n",
    "    ds_train_\n",
    "    .map(convert_to_float)\n",
    "    .cache()\n",
    "    .prefetch(buffer_size=AUTOTUNE)\n",
    ")\n",
    "ds_valid = (\n",
    "    ds_valid_\n",
    "    .map(convert_to_float)\n",
    "    .cache()\n",
    "    .prefetch(buffer_size=AUTOTUNE)\n",
    ")\n"
   ]
  },
  {
   "cell_type": "markdown",
   "id": "6a21d2f8",
   "metadata": {
    "papermill": {
     "duration": 0.006072,
     "end_time": "2024-05-25T23:21:21.222347",
     "exception": false,
     "start_time": "2024-05-25T23:21:21.216275",
     "status": "completed"
    },
    "tags": []
   },
   "source": [
    "The **InceptionV1** model pretrained on ImageNet is available in the [TensorFlow Hub](https://www.tensorflow.org/hub/) repository, but we'll load it from a local copy. Run this cell to load InceptionV1 for your base."
   ]
  },
  {
   "cell_type": "code",
   "execution_count": 2,
   "id": "a5d06615",
   "metadata": {
    "execution": {
     "iopub.execute_input": "2024-05-25T23:21:21.236219Z",
     "iopub.status.busy": "2024-05-25T23:21:21.235668Z",
     "iopub.status.idle": "2024-05-25T23:21:25.341613Z",
     "shell.execute_reply": "2024-05-25T23:21:25.340483Z"
    },
    "lines_to_next_cell": 0,
    "papermill": {
     "duration": 4.115617,
     "end_time": "2024-05-25T23:21:25.344020",
     "exception": false,
     "start_time": "2024-05-25T23:21:21.228403",
     "status": "completed"
    },
    "tags": []
   },
   "outputs": [],
   "source": [
    "import tensorflow_hub as hub\n",
    "\n",
    "pretrained_base = tf.keras.models.load_model(\n",
    "    '../input/cv-course-models/cv-course-models/inceptionv1'\n",
    ")"
   ]
  },
  {
   "cell_type": "markdown",
   "id": "ab2bfd4c",
   "metadata": {
    "papermill": {
     "duration": 0.006011,
     "end_time": "2024-05-25T23:21:25.356638",
     "exception": false,
     "start_time": "2024-05-25T23:21:25.350627",
     "status": "completed"
    },
    "tags": []
   },
   "source": [
    "# 1) Define Pretrained Base #\n",
    "\n",
    "Now that you have a pretrained base to do our feature extraction, decide whether this base should be trainable or not."
   ]
  },
  {
   "cell_type": "code",
   "execution_count": 3,
   "id": "b0f4bb88",
   "metadata": {
    "execution": {
     "iopub.execute_input": "2024-05-25T23:21:25.370862Z",
     "iopub.status.busy": "2024-05-25T23:21:25.370063Z",
     "iopub.status.idle": "2024-05-25T23:21:25.379095Z",
     "shell.execute_reply": "2024-05-25T23:21:25.378238Z"
    },
    "lines_to_next_cell": 0,
    "papermill": {
     "duration": 0.018399,
     "end_time": "2024-05-25T23:21:25.381129",
     "exception": false,
     "start_time": "2024-05-25T23:21:25.362730",
     "status": "completed"
    },
    "tags": []
   },
   "outputs": [
    {
     "data": {
      "application/javascript": [
       "parent.postMessage({\"jupyterEvent\": \"custom.exercise_interaction\", \"data\": {\"outcomeType\": 1, \"valueTowardsCompletion\": 0.25, \"interactionType\": 1, \"questionType\": 2, \"questionId\": \"1_Q1\", \"learnToolsVersion\": \"0.3.4\", \"failureMessage\": \"\", \"exceptionClass\": \"\", \"trace\": \"\"}}, \"*\")"
      ],
      "text/plain": [
       "<IPython.core.display.Javascript object>"
      ]
     },
     "metadata": {},
     "output_type": "display_data"
    },
    {
     "data": {
      "text/markdown": [
       "<span style=\"color:#33cc33\">Correct:</span> When doing transfer learning, it's generally not a good idea to retrain the entire base -- at least not without some care. The reason is that the random weights in the head will initially create large gradient updates, which propogate back into the base layers and destroy much of the pretraining. Using techniques known as **fine tuning** it's possible to further train the base on new data, but this requires some care to do well."
      ],
      "text/plain": [
       "Correct: When doing transfer learning, it's generally not a good idea to retrain the entire base -- at least not without some care. The reason is that the random weights in the head will initially create large gradient updates, which propogate back into the base layers and destroy much of the pretraining. Using techniques known as **fine tuning** it's possible to further train the base on new data, but this requires some care to do well."
      ]
     },
     "metadata": {},
     "output_type": "display_data"
    }
   ],
   "source": [
    "# YOUR_CODE_HERE\n",
    "pretrained_base.trainable = False\n",
    "\n",
    "# Check your answer\n",
    "q_1.check()"
   ]
  },
  {
   "cell_type": "code",
   "execution_count": 4,
   "id": "ebc3d118",
   "metadata": {
    "execution": {
     "iopub.execute_input": "2024-05-25T23:21:25.395410Z",
     "iopub.status.busy": "2024-05-25T23:21:25.394729Z",
     "iopub.status.idle": "2024-05-25T23:21:25.401862Z",
     "shell.execute_reply": "2024-05-25T23:21:25.401017Z"
    },
    "papermill": {
     "duration": 0.016355,
     "end_time": "2024-05-25T23:21:25.403841",
     "exception": false,
     "start_time": "2024-05-25T23:21:25.387486",
     "status": "completed"
    },
    "tags": []
   },
   "outputs": [
    {
     "data": {
      "application/javascript": [
       "parent.postMessage({\"jupyterEvent\": \"custom.exercise_interaction\", \"data\": {\"interactionType\": 2, \"questionType\": 2, \"questionId\": \"1_Q1\", \"learnToolsVersion\": \"0.3.4\", \"valueTowardsCompletion\": 0.0, \"failureMessage\": \"\", \"exceptionClass\": \"\", \"trace\": \"\", \"outcomeType\": 4}}, \"*\")"
      ],
      "text/plain": [
       "<IPython.core.display.Javascript object>"
      ]
     },
     "metadata": {},
     "output_type": "display_data"
    },
    {
     "data": {
      "text/markdown": [
       "<span style=\"color:#3366cc\">Hint:</span> `True` or `False`?"
      ],
      "text/plain": [
       "Hint: `True` or `False`?"
      ]
     },
     "metadata": {},
     "output_type": "display_data"
    }
   ],
   "source": [
    "# Lines below will give you a hint or solution code\n",
    "q_1.hint()\n",
    "#q_1.solution()"
   ]
  },
  {
   "cell_type": "markdown",
   "id": "16a537fa",
   "metadata": {
    "papermill": {
     "duration": 0.006402,
     "end_time": "2024-05-25T23:21:25.417815",
     "exception": false,
     "start_time": "2024-05-25T23:21:25.411413",
     "status": "completed"
    },
    "tags": []
   },
   "source": [
    "# 2) Attach Head #\n",
    "\n",
    "Now that the base is defined to do the feature extraction, create a head of `Dense` layers to perform the classification, following this diagram:\n",
    "\n",
    "<figure>\n",
    "<img src=\"https://storage.googleapis.com/kaggle-media/learn/images/i5VU7Ry.png\" alt=\"Diagram of the dense head.\">\n",
    "</figure>\n"
   ]
  },
  {
   "cell_type": "code",
   "execution_count": 5,
   "id": "54a86b3b",
   "metadata": {
    "execution": {
     "iopub.execute_input": "2024-05-25T23:21:25.432828Z",
     "iopub.status.busy": "2024-05-25T23:21:25.432488Z",
     "iopub.status.idle": "2024-05-25T23:21:25.452510Z",
     "shell.execute_reply": "2024-05-25T23:21:25.451620Z"
    },
    "lines_to_next_cell": 0,
    "papermill": {
     "duration": 0.029687,
     "end_time": "2024-05-25T23:21:25.454406",
     "exception": false,
     "start_time": "2024-05-25T23:21:25.424719",
     "status": "completed"
    },
    "tags": []
   },
   "outputs": [
    {
     "data": {
      "application/javascript": [
       "parent.postMessage({\"jupyterEvent\": \"custom.exercise_interaction\", \"data\": {\"outcomeType\": 1, \"valueTowardsCompletion\": 0.25, \"interactionType\": 1, \"questionType\": 2, \"questionId\": \"2_Q2\", \"learnToolsVersion\": \"0.3.4\", \"failureMessage\": \"\", \"exceptionClass\": \"\", \"trace\": \"\"}}, \"*\")"
      ],
      "text/plain": [
       "<IPython.core.display.Javascript object>"
      ]
     },
     "metadata": {},
     "output_type": "display_data"
    },
    {
     "data": {
      "text/markdown": [
       "<span style=\"color:#33cc33\">Correct</span>"
      ],
      "text/plain": [
       "Correct"
      ]
     },
     "metadata": {},
     "output_type": "display_data"
    }
   ],
   "source": [
    "from tensorflow import keras\n",
    "from tensorflow.keras import layers\n",
    "\n",
    "model = keras.Sequential([\n",
    "    pretrained_base,\n",
    "    layers.Flatten(),\n",
    "    # YOUR CODE HERE. Attach a head of dense layers.\n",
    "    layers.Dense(units=6,activation='relu'),\n",
    "    layers.Dense(units=1,activation='sigmoid'),\n",
    "])\n",
    "\n",
    "# Check your answer\n",
    "q_2.check()"
   ]
  },
  {
   "cell_type": "code",
   "execution_count": 6,
   "id": "7d457770",
   "metadata": {
    "execution": {
     "iopub.execute_input": "2024-05-25T23:21:25.470075Z",
     "iopub.status.busy": "2024-05-25T23:21:25.469461Z",
     "iopub.status.idle": "2024-05-25T23:21:25.476449Z",
     "shell.execute_reply": "2024-05-25T23:21:25.475644Z"
    },
    "papermill": {
     "duration": 0.017079,
     "end_time": "2024-05-25T23:21:25.478629",
     "exception": false,
     "start_time": "2024-05-25T23:21:25.461550",
     "status": "completed"
    },
    "tags": []
   },
   "outputs": [
    {
     "data": {
      "application/javascript": [
       "parent.postMessage({\"jupyterEvent\": \"custom.exercise_interaction\", \"data\": {\"interactionType\": 2, \"questionType\": 2, \"questionId\": \"2_Q2\", \"learnToolsVersion\": \"0.3.4\", \"valueTowardsCompletion\": 0.0, \"failureMessage\": \"\", \"exceptionClass\": \"\", \"trace\": \"\", \"outcomeType\": 4}}, \"*\")"
      ],
      "text/plain": [
       "<IPython.core.display.Javascript object>"
      ]
     },
     "metadata": {},
     "output_type": "display_data"
    },
    {
     "data": {
      "text/markdown": [
       "<span style=\"color:#3366cc\">Hint:</span> You need to add two new `Dense` layers. The first should have 6 units and `'relu'` activation. The second should have 1 unit and `'sigmoid'` activation."
      ],
      "text/plain": [
       "Hint: You need to add two new `Dense` layers. The first should have 6 units and `'relu'` activation. The second should have 1 unit and `'sigmoid'` activation."
      ]
     },
     "metadata": {},
     "output_type": "display_data"
    }
   ],
   "source": [
    "# Lines below will give you a hint or solution code\n",
    "q_2.hint()\n",
    "#q_2.solution()"
   ]
  },
  {
   "cell_type": "markdown",
   "id": "66ca805a",
   "metadata": {
    "papermill": {
     "duration": 0.007156,
     "end_time": "2024-05-25T23:21:25.493034",
     "exception": false,
     "start_time": "2024-05-25T23:21:25.485878",
     "status": "completed"
    },
    "tags": []
   },
   "source": [
    "# 3) Train #\n",
    "\n",
    "Before training a model in Keras, you need to specify an *optimizer* to perform the gradient descent, a *loss function* to be minimized, and (optionally) any *performance metrics*. The optimization algorithm we'll use for this course is called [\"Adam\"](https://keras.io/api/optimizers/adam/), which generally performs well regardless of what kind of problem you're trying to solve.\n",
    "\n",
    "The loss and the metrics, however, need to match the kind of problem you're trying to solve. Our problem is a **binary classification** problem: `Car` coded as 0, and `Truck` coded as 1. Choose an appropriate loss and an appropriate accuracy metric for binary classification."
   ]
  },
  {
   "cell_type": "code",
   "execution_count": 7,
   "id": "5dcddaba",
   "metadata": {
    "execution": {
     "iopub.execute_input": "2024-05-25T23:21:25.508767Z",
     "iopub.status.busy": "2024-05-25T23:21:25.508451Z",
     "iopub.status.idle": "2024-05-25T23:21:25.538559Z",
     "shell.execute_reply": "2024-05-25T23:21:25.537735Z"
    },
    "lines_to_next_cell": 0,
    "papermill": {
     "duration": 0.040458,
     "end_time": "2024-05-25T23:21:25.540688",
     "exception": false,
     "start_time": "2024-05-25T23:21:25.500230",
     "status": "completed"
    },
    "tags": []
   },
   "outputs": [
    {
     "data": {
      "application/javascript": [
       "parent.postMessage({\"jupyterEvent\": \"custom.exercise_interaction\", \"data\": {\"outcomeType\": 1, \"valueTowardsCompletion\": 0.25, \"interactionType\": 1, \"questionType\": 2, \"questionId\": \"3_Q3\", \"learnToolsVersion\": \"0.3.4\", \"failureMessage\": \"\", \"exceptionClass\": \"\", \"trace\": \"\"}}, \"*\")"
      ],
      "text/plain": [
       "<IPython.core.display.Javascript object>"
      ]
     },
     "metadata": {},
     "output_type": "display_data"
    },
    {
     "data": {
      "text/markdown": [
       "<span style=\"color:#33cc33\">Correct</span>"
      ],
      "text/plain": [
       "Correct"
      ]
     },
     "metadata": {},
     "output_type": "display_data"
    }
   ],
   "source": [
    "# YOUR CODE HERE: what loss function should you use for a binary\n",
    "# classification problem? (Your answer for each should be a string.)\n",
    "optimizer = tf.keras.optimizers.Adam(epsilon=0.01)\n",
    "model.compile(\n",
    "    optimizer=optimizer,\n",
    "    loss ='binary_crossentropy',\n",
    "    metrics=['binary_accuracy'],\n",
    ")\n",
    "\n",
    "# Check your answer\n",
    "q_3.check()"
   ]
  },
  {
   "cell_type": "code",
   "execution_count": 8,
   "id": "39e4cd84",
   "metadata": {
    "execution": {
     "iopub.execute_input": "2024-05-25T23:21:25.557183Z",
     "iopub.status.busy": "2024-05-25T23:21:25.556897Z",
     "iopub.status.idle": "2024-05-25T23:21:25.560521Z",
     "shell.execute_reply": "2024-05-25T23:21:25.559698Z"
    },
    "lines_to_next_cell": 0,
    "papermill": {
     "duration": 0.014022,
     "end_time": "2024-05-25T23:21:25.562356",
     "exception": false,
     "start_time": "2024-05-25T23:21:25.548334",
     "status": "completed"
    },
    "tags": []
   },
   "outputs": [],
   "source": [
    "# Lines below will give you a hint or solution code\n",
    "#q_3.hint()\n",
    "#q_3.solution()"
   ]
  },
  {
   "cell_type": "code",
   "execution_count": 9,
   "id": "d1a7b092",
   "metadata": {
    "execution": {
     "iopub.execute_input": "2024-05-25T23:21:25.578468Z",
     "iopub.status.busy": "2024-05-25T23:21:25.578182Z",
     "iopub.status.idle": "2024-05-25T23:23:23.797071Z",
     "shell.execute_reply": "2024-05-25T23:23:23.795891Z"
    },
    "papermill": {
     "duration": 118.229389,
     "end_time": "2024-05-25T23:23:23.799190",
     "exception": false,
     "start_time": "2024-05-25T23:21:25.569801",
     "status": "completed"
    },
    "tags": []
   },
   "outputs": [
    {
     "name": "stdout",
     "output_type": "stream",
     "text": [
      "Epoch 1/30\n"
     ]
    },
    {
     "name": "stderr",
     "output_type": "stream",
     "text": [
      "WARNING: All log messages before absl::InitializeLog() is called are written to STDERR\n",
      "I0000 00:00:1716679293.383207      76 device_compiler.h:186] Compiled cluster using XLA!  This line is logged at most once for the lifetime of the process.\n"
     ]
    },
    {
     "name": "stdout",
     "output_type": "stream",
     "text": [
      "80/80 [==============================] - 19s 135ms/step - loss: 0.5737 - binary_accuracy: 0.6979 - val_loss: 0.4524 - val_binary_accuracy: 0.7961\n",
      "Epoch 2/30\n",
      "80/80 [==============================] - 3s 43ms/step - loss: 0.4134 - binary_accuracy: 0.8095 - val_loss: 0.4080 - val_binary_accuracy: 0.8226\n",
      "Epoch 3/30\n",
      "80/80 [==============================] - 3s 43ms/step - loss: 0.3822 - binary_accuracy: 0.8298 - val_loss: 0.3922 - val_binary_accuracy: 0.8317\n",
      "Epoch 4/30\n",
      "80/80 [==============================] - 3s 43ms/step - loss: 0.3645 - binary_accuracy: 0.8372 - val_loss: 0.3790 - val_binary_accuracy: 0.8379\n",
      "Epoch 5/30\n",
      "80/80 [==============================] - 3s 43ms/step - loss: 0.3507 - binary_accuracy: 0.8448 - val_loss: 0.3719 - val_binary_accuracy: 0.8394\n",
      "Epoch 6/30\n",
      "80/80 [==============================] - 3s 43ms/step - loss: 0.3400 - binary_accuracy: 0.8530 - val_loss: 0.3656 - val_binary_accuracy: 0.8426\n",
      "Epoch 7/30\n",
      "80/80 [==============================] - 3s 44ms/step - loss: 0.3307 - binary_accuracy: 0.8593 - val_loss: 0.3626 - val_binary_accuracy: 0.8452\n",
      "Epoch 8/30\n",
      "80/80 [==============================] - 3s 43ms/step - loss: 0.3230 - binary_accuracy: 0.8652 - val_loss: 0.3586 - val_binary_accuracy: 0.8460\n",
      "Epoch 9/30\n",
      "80/80 [==============================] - 3s 43ms/step - loss: 0.3159 - binary_accuracy: 0.8702 - val_loss: 0.3554 - val_binary_accuracy: 0.8470\n",
      "Epoch 10/30\n",
      "80/80 [==============================] - 3s 43ms/step - loss: 0.3096 - binary_accuracy: 0.8732 - val_loss: 0.3532 - val_binary_accuracy: 0.8481\n",
      "Epoch 11/30\n",
      "80/80 [==============================] - 3s 43ms/step - loss: 0.3039 - binary_accuracy: 0.8773 - val_loss: 0.3504 - val_binary_accuracy: 0.8480\n",
      "Epoch 12/30\n",
      "80/80 [==============================] - 3s 43ms/step - loss: 0.2986 - binary_accuracy: 0.8808 - val_loss: 0.3460 - val_binary_accuracy: 0.8519\n",
      "Epoch 13/30\n",
      "80/80 [==============================] - 3s 43ms/step - loss: 0.2933 - binary_accuracy: 0.8816 - val_loss: 0.3452 - val_binary_accuracy: 0.8527\n",
      "Epoch 14/30\n",
      "80/80 [==============================] - 3s 43ms/step - loss: 0.2890 - binary_accuracy: 0.8822 - val_loss: 0.3423 - val_binary_accuracy: 0.8541\n",
      "Epoch 15/30\n",
      "80/80 [==============================] - 3s 43ms/step - loss: 0.2850 - binary_accuracy: 0.8841 - val_loss: 0.3409 - val_binary_accuracy: 0.8549\n",
      "Epoch 16/30\n",
      "80/80 [==============================] - 3s 43ms/step - loss: 0.2811 - binary_accuracy: 0.8867 - val_loss: 0.3396 - val_binary_accuracy: 0.8559\n",
      "Epoch 17/30\n",
      "80/80 [==============================] - 3s 43ms/step - loss: 0.2773 - binary_accuracy: 0.8880 - val_loss: 0.3390 - val_binary_accuracy: 0.8563\n",
      "Epoch 18/30\n",
      "80/80 [==============================] - 3s 43ms/step - loss: 0.2739 - binary_accuracy: 0.8908 - val_loss: 0.3375 - val_binary_accuracy: 0.8567\n",
      "Epoch 19/30\n",
      "80/80 [==============================] - 3s 43ms/step - loss: 0.2707 - binary_accuracy: 0.8913 - val_loss: 0.3368 - val_binary_accuracy: 0.8586\n",
      "Epoch 20/30\n",
      "80/80 [==============================] - 3s 43ms/step - loss: 0.2676 - binary_accuracy: 0.8923 - val_loss: 0.3364 - val_binary_accuracy: 0.8588\n",
      "Epoch 21/30\n",
      "80/80 [==============================] - 3s 43ms/step - loss: 0.2644 - binary_accuracy: 0.8943 - val_loss: 0.3356 - val_binary_accuracy: 0.8594\n",
      "Epoch 22/30\n",
      "80/80 [==============================] - 3s 43ms/step - loss: 0.2613 - binary_accuracy: 0.8951 - val_loss: 0.3358 - val_binary_accuracy: 0.8592\n",
      "Epoch 23/30\n",
      "80/80 [==============================] - 3s 43ms/step - loss: 0.2580 - binary_accuracy: 0.8956 - val_loss: 0.3351 - val_binary_accuracy: 0.8592\n",
      "Epoch 24/30\n",
      "80/80 [==============================] - 3s 43ms/step - loss: 0.2560 - binary_accuracy: 0.8974 - val_loss: 0.3332 - val_binary_accuracy: 0.8602\n",
      "Epoch 25/30\n",
      "80/80 [==============================] - 3s 43ms/step - loss: 0.2530 - binary_accuracy: 0.8984 - val_loss: 0.3324 - val_binary_accuracy: 0.8612\n",
      "Epoch 26/30\n",
      "80/80 [==============================] - 3s 43ms/step - loss: 0.2501 - binary_accuracy: 0.8990 - val_loss: 0.3327 - val_binary_accuracy: 0.8610\n",
      "Epoch 27/30\n",
      "80/80 [==============================] - 3s 43ms/step - loss: 0.2474 - binary_accuracy: 0.8997 - val_loss: 0.3323 - val_binary_accuracy: 0.8614\n",
      "Epoch 28/30\n",
      "80/80 [==============================] - 3s 43ms/step - loss: 0.2453 - binary_accuracy: 0.9009 - val_loss: 0.3316 - val_binary_accuracy: 0.8630\n",
      "Epoch 29/30\n",
      "80/80 [==============================] - 3s 43ms/step - loss: 0.2428 - binary_accuracy: 0.9013 - val_loss: 0.3324 - val_binary_accuracy: 0.8636\n",
      "Epoch 30/30\n",
      "80/80 [==============================] - 3s 43ms/step - loss: 0.2400 - binary_accuracy: 0.9021 - val_loss: 0.3319 - val_binary_accuracy: 0.8638\n"
     ]
    }
   ],
   "source": [
    "history = model.fit(\n",
    "    ds_train,\n",
    "    validation_data=ds_valid,\n",
    "    epochs=30,\n",
    ")"
   ]
  },
  {
   "cell_type": "markdown",
   "id": "71410455",
   "metadata": {
    "papermill": {
     "duration": 0.078005,
     "end_time": "2024-05-25T23:23:23.955480",
     "exception": false,
     "start_time": "2024-05-25T23:23:23.877475",
     "status": "completed"
    },
    "tags": []
   },
   "source": [
    "Run the cell below to plot the loss and metric curves for this training run."
   ]
  },
  {
   "cell_type": "code",
   "execution_count": 10,
   "id": "fb4bf79b",
   "metadata": {
    "execution": {
     "iopub.execute_input": "2024-05-25T23:23:24.115257Z",
     "iopub.status.busy": "2024-05-25T23:23:24.114878Z",
     "iopub.status.idle": "2024-05-25T23:23:24.793846Z",
     "shell.execute_reply": "2024-05-25T23:23:24.792886Z"
    },
    "papermill": {
     "duration": 0.760704,
     "end_time": "2024-05-25T23:23:24.795909",
     "exception": false,
     "start_time": "2024-05-25T23:23:24.035205",
     "status": "completed"
    },
    "tags": []
   },
   "outputs": [
    {
     "data": {
      "image/png": "[encoded data removed]",
      "text/plain": [
       "<Figure size 640x480 with 1 Axes>"
      ]
     },
     "metadata": {},
     "output_type": "display_data"
    },
    {
     "data": {
      "image/png": "[encoded data removed]",
      "text/plain": [
       "<Figure size 640x480 with 1 Axes>"
      ]
     },
     "metadata": {},
     "output_type": "display_data"
    }
   ],
   "source": [
    "import pandas as pd\n",
    "history_frame = pd.DataFrame(history.history)\n",
    "history_frame.loc[:, ['loss', 'val_loss']].plot()\n",
    "history_frame.loc[:, ['binary_accuracy', 'val_binary_accuracy']].plot();"
   ]
  },
  {
   "cell_type": "markdown",
   "id": "1fe07097",
   "metadata": {
    "papermill": {
     "duration": 0.079283,
     "end_time": "2024-05-25T23:23:25.003106",
     "exception": false,
     "start_time": "2024-05-25T23:23:24.923823",
     "status": "completed"
    },
    "tags": []
   },
   "source": [
    "# 4) Examine Loss and Accuracy #\n",
    "\n",
    "Do you notice a difference between these learning curves and the curves for VGG16 from the tutorial? What does this difference tell you about what this model (InceptionV2) learned compared to VGG16? Are there ways in which one is better than the other? Worse?\n",
    "\n",
    "After you've thought about it, run the cell below to see the answer."
   ]
  },
  {
   "cell_type": "code",
   "execution_count": 11,
   "id": "5f79b707",
   "metadata": {
    "execution": {
     "iopub.execute_input": "2024-05-25T23:23:25.164516Z",
     "iopub.status.busy": "2024-05-25T23:23:25.164155Z",
     "iopub.status.idle": "2024-05-25T23:23:25.171745Z",
     "shell.execute_reply": "2024-05-25T23:23:25.170775Z"
    },
    "papermill": {
     "duration": 0.09025,
     "end_time": "2024-05-25T23:23:25.173701",
     "exception": false,
     "start_time": "2024-05-25T23:23:25.083451",
     "status": "completed"
    },
    "tags": []
   },
   "outputs": [
    {
     "data": {
      "application/javascript": [
       "parent.postMessage({\"jupyterEvent\": \"custom.exercise_interaction\", \"data\": {\"outcomeType\": 1, \"valueTowardsCompletion\": 0.25, \"interactionType\": 1, \"questionType\": 4, \"questionId\": \"4_Q4\", \"learnToolsVersion\": \"0.3.4\", \"failureMessage\": \"\", \"exceptionClass\": \"\", \"trace\": \"\"}}, \"*\")"
      ],
      "text/plain": [
       "<IPython.core.display.Javascript object>"
      ]
     },
     "metadata": {},
     "output_type": "display_data"
    },
    {
     "data": {
      "text/markdown": [
       "<span style=\"color:#33cc33\">Correct:</span> \n",
       "\n",
       "That the training loss and validation loss stay fairly close is evidence that the model isn't just memorizing the training data, but rather learning general properties of the two classes. But, because this model converges at a loss greater than the VGG16 model, it's likely that it is underfitting some, and could benefit from some extra capacity.\n"
      ],
      "text/plain": [
       "Correct: \n",
       "\n",
       "That the training loss and validation loss stay fairly close is evidence that the model isn't just memorizing the training data, but rather learning general properties of the two classes. But, because this model converges at a loss greater than the VGG16 model, it's likely that it is underfitting some, and could benefit from some extra capacity."
      ]
     },
     "metadata": {},
     "output_type": "display_data"
    }
   ],
   "source": [
    "# View the solution (Run this code cell to receive credit!)\n",
    "q_4.check()"
   ]
  },
  {
   "cell_type": "markdown",
   "id": "427f3e1a",
   "metadata": {
    "papermill": {
     "duration": 0.079582,
     "end_time": "2024-05-25T23:23:25.333565",
     "exception": false,
     "start_time": "2024-05-25T23:23:25.253983",
     "status": "completed"
    },
    "tags": []
   },
   "source": [
    "# Conclusion #\n",
    "\n",
    "In this first lesson, you learned the basics of **convolutional image classifiers**, that they consist of a **base** for extracting features from images, and a **head** which uses the features to decide the image's class. You also saw how to build a classifier with **transfer learning** on pretrained base. "
   ]
  },
  {
   "cell_type": "markdown",
   "id": "b57980a1",
   "metadata": {
    "papermill": {
     "duration": 0.080026,
     "end_time": "2024-05-25T23:23:25.494567",
     "exception": false,
     "start_time": "2024-05-25T23:23:25.414541",
     "status": "completed"
    },
    "tags": []
   },
   "source": [
    "# Keep Going #\n",
    "\n",
    "Move on to [**Lesson 2**](https://www.kaggle.com/ryanholbrook/convolution-and-relu) for a detailed look at how the base does this feature extraction. (It's really cool!)"
   ]
  },
  {
   "cell_type": "markdown",
   "id": "7f4c668c",
   "metadata": {
    "papermill": {
     "duration": 0.079186,
     "end_time": "2024-05-25T23:23:25.653239",
     "exception": false,
     "start_time": "2024-05-25T23:23:25.574053",
     "status": "completed"
    },
    "tags": []
   },
   "source": [
    "---\n",
    "\n",
    "\n",
    "\n",
    "\n",
    "*Have questions or comments? Visit the [course discussion forum](https://www.kaggle.com/learn/computer-vision/discussion) to chat with other learners.*"
   ]
  }
 ],
 "metadata": {
  "jupytext": {
   "formats": "ipynb,md",
   "split_at_heading": true
  },
  "kaggle": {
   "accelerator": "gpu",
   "dataSources": [
    {
     "datasetId": 708136,
     "sourceId": 1338830,
     "sourceType": "datasetVersion"
    },
    {
     "datasetId": 701538,
     "sourceId": 1363948,
     "sourceType": "datasetVersion"
    },
    {
     "datasetId": 878523,
     "sourceId": 1495782,
     "sourceType": "datasetVersion"
    }
   ],
   "dockerImageVersionId": 30648,
   "isGpuEnabled": true,
   "isInternetEnabled": false,
   "language": "python",
   "sourceType": "notebook"
  },
  "kernelspec": {
   "display_name": "Python 3",
   "language": "python",
   "name": "python3"
  },
  "language_info": {
   "codemirror_mode": {
    "name": "ipython",
    "version": 3
   },
   "file_extension": ".py",
   "mimetype": "text/x-python",
   "name": "python",
   "nbconvert_exporter": "python",
   "pygments_lexer": "ipython3",
   "version": "3.10.13"
  },
  "papermill": {
   "default_parameters": {},
   "duration": 154.275918,
   "end_time": "2024-05-25T23:23:29.020714",
   "environment_variables": {},
   "exception": null,
   "input_path": "__notebook__.ipynb",
   "output_path": "__notebook__.ipynb",
   "parameters": {},
   "start_time": "2024-05-25T23:20:54.744796",
   "version": "2.5.0"
  }
 },
 "nbformat": 4,
 "nbformat_minor": 5
}
