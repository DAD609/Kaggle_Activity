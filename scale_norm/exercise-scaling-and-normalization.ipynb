{
 "cells": [
  {
   "cell_type": "markdown",
   "id": "3e6281ae",
   "metadata": {
    "papermill": {
     "duration": 0.005834,
     "end_time": "2024-05-25T23:38:33.052054",
     "exception": false,
     "start_time": "2024-05-25T23:38:33.046220",
     "status": "completed"
    },
    "tags": []
   },
   "source": [
    "**This notebook is an exercise in the [Data Cleaning](https://www.kaggle.com/learn/data-cleaning) course.  You can reference the tutorial at [this link](https://www.kaggle.com/alexisbcook/scaling-and-normalization).**\n",
    "\n",
    "---\n"
   ]
  },
  {
   "cell_type": "markdown",
   "id": "4630f671",
   "metadata": {
    "papermill": {
     "duration": 0.004816,
     "end_time": "2024-05-25T23:38:33.062262",
     "exception": false,
     "start_time": "2024-05-25T23:38:33.057446",
     "status": "completed"
    },
    "tags": []
   },
   "source": [
    "In this exercise, you'll apply what you learned in the **Scaling and normalization** tutorial.\n",
    "\n",
    "# Setup\n",
    "\n",
    "The questions below will give you feedback on your work. Run the following cell to set up the feedback system."
   ]
  },
  {
   "cell_type": "code",
   "execution_count": 1,
   "id": "5d6d0a59",
   "metadata": {
    "execution": {
     "iopub.execute_input": "2024-05-25T23:38:33.075182Z",
     "iopub.status.busy": "2024-05-25T23:38:33.074623Z",
     "iopub.status.idle": "2024-05-25T23:38:37.686838Z",
     "shell.execute_reply": "2024-05-25T23:38:37.685716Z"
    },
    "papermill": {
     "duration": 4.621197,
     "end_time": "2024-05-25T23:38:37.688936",
     "exception": false,
     "start_time": "2024-05-25T23:38:33.067739",
     "status": "completed"
    },
    "tags": []
   },
   "outputs": [
    {
     "name": "stdout",
     "output_type": "stream",
     "text": [
      "Setup Complete\n"
     ]
    }
   ],
   "source": [
    "from learntools.core import binder\n",
    "binder.bind(globals())\n",
    "from learntools.data_cleaning.ex2 import *\n",
    "print(\"Setup Complete\")"
   ]
  },
  {
   "cell_type": "markdown",
   "id": "88cc7a12",
   "metadata": {
    "papermill": {
     "duration": 0.005075,
     "end_time": "2024-05-25T23:38:37.699533",
     "exception": false,
     "start_time": "2024-05-25T23:38:37.694458",
     "status": "completed"
    },
    "tags": []
   },
   "source": [
    "# Get our environment set up\n",
    "\n",
    "To practice scaling and normalization, we're going to use a [dataset of Kickstarter campaigns](https://www.kaggle.com/kemical/kickstarter-projects). (Kickstarter is a website where people can ask people to invest in various projects and concept products.)\n",
    "\n",
    "The next code cell loads in the libraries and dataset we'll be using. "
   ]
  },
  {
   "cell_type": "code",
   "execution_count": 2,
   "id": "ebc50a42",
   "metadata": {
    "execution": {
     "iopub.execute_input": "2024-05-25T23:38:37.712289Z",
     "iopub.status.busy": "2024-05-25T23:38:37.711612Z",
     "iopub.status.idle": "2024-05-25T23:38:39.455763Z",
     "shell.execute_reply": "2024-05-25T23:38:39.454357Z"
    },
    "papermill": {
     "duration": 1.754049,
     "end_time": "2024-05-25T23:38:39.458893",
     "exception": false,
     "start_time": "2024-05-25T23:38:37.704844",
     "status": "completed"
    },
    "tags": []
   },
   "outputs": [],
   "source": [
    "# modules we'll use\n",
    "import pandas as pd\n",
    "import numpy as np\n",
    "\n",
    "# for Box-Cox Transformation\n",
    "from scipy import stats\n",
    "\n",
    "# for min_max scaling\n",
    "from mlxtend.preprocessing import minmax_scaling\n",
    "\n",
    "# plotting modules\n",
    "import seaborn as sns\n",
    "import matplotlib.pyplot as plt\n",
    "\n",
    "# read in all our data\n",
    "kickstarters_2017 = pd.read_csv(\"../input/kickstarter-projects/ks-projects-201801.csv\")\n",
    "\n",
    "# set seed for reproducibility\n",
    "np.random.seed(0)"
   ]
  },
  {
   "cell_type": "markdown",
   "id": "4a4ca270",
   "metadata": {
    "papermill": {
     "duration": 0.005059,
     "end_time": "2024-05-25T23:38:39.469403",
     "exception": false,
     "start_time": "2024-05-25T23:38:39.464344",
     "status": "completed"
    },
    "tags": []
   },
   "source": [
    "Let's start by scaling the goals of each campaign, which is how much money they were asking for.  After scaling, all values lie between 0 and 1."
   ]
  },
  {
   "cell_type": "code",
   "execution_count": 3,
   "id": "f2cdfcdb",
   "metadata": {
    "execution": {
     "iopub.execute_input": "2024-05-25T23:38:39.482034Z",
     "iopub.status.busy": "2024-05-25T23:38:39.481643Z",
     "iopub.status.idle": "2024-05-25T23:38:39.520319Z",
     "shell.execute_reply": "2024-05-25T23:38:39.519182Z"
    },
    "papermill": {
     "duration": 0.048839,
     "end_time": "2024-05-25T23:38:39.523588",
     "exception": false,
     "start_time": "2024-05-25T23:38:39.474749",
     "status": "completed"
    },
    "tags": []
   },
   "outputs": [
    {
     "name": "stdout",
     "output_type": "stream",
     "text": [
      "Original data\n",
      "Preview:\n",
      "    usd_goal_real\n",
      "0        1533.95\n",
      "1       30000.00\n",
      "2       45000.00\n",
      "3        5000.00\n",
      "4       19500.00\n",
      "Minimum value: 0.01 \n",
      "Maximum value: 166361390.71\n",
      "______________________________\n",
      "\n",
      "Scaled data\n",
      "Preview:\n",
      "    usd_goal_real\n",
      "0       0.000009\n",
      "1       0.000180\n",
      "2       0.000270\n",
      "3       0.000030\n",
      "4       0.000117\n",
      "Minimum value: 0.0 \n",
      "Maximum value: 1.0\n"
     ]
    },
    {
     "name": "stderr",
     "output_type": "stream",
     "text": [
      "/tmp/ipykernel_19/93515903.py:8: FutureWarning: Calling float on a single element Series is deprecated and will raise a TypeError in the future. Use float(ser.iloc[0]) instead\n",
      "  print('Minimum value:', float(original_data.min()),\n",
      "/tmp/ipykernel_19/93515903.py:9: FutureWarning: Calling float on a single element Series is deprecated and will raise a TypeError in the future. Use float(ser.iloc[0]) instead\n",
      "  '\\nMaximum value:', float(original_data.max()))\n",
      "/tmp/ipykernel_19/93515903.py:13: FutureWarning: Calling float on a single element Series is deprecated and will raise a TypeError in the future. Use float(ser.iloc[0]) instead\n",
      "  print('Minimum value:', float(scaled_data.min()),\n",
      "/tmp/ipykernel_19/93515903.py:14: FutureWarning: Calling float on a single element Series is deprecated and will raise a TypeError in the future. Use float(ser.iloc[0]) instead\n",
      "  '\\nMaximum value:', float(scaled_data.max()))\n"
     ]
    }
   ],
   "source": [
    "# select the usd_goal_real column\n",
    "original_data = pd.DataFrame(kickstarters_2017.usd_goal_real)\n",
    "\n",
    "# scale the goals from 0 to 1\n",
    "scaled_data = minmax_scaling(original_data, columns=['usd_goal_real'])\n",
    "\n",
    "print('Original data\\nPreview:\\n', original_data.head())\n",
    "print('Minimum value:', float(original_data.min()),\n",
    "      '\\nMaximum value:', float(original_data.max()))\n",
    "print('_'*30)\n",
    "\n",
    "print('\\nScaled data\\nPreview:\\n', scaled_data.head())\n",
    "print('Minimum value:', float(scaled_data.min()),\n",
    "      '\\nMaximum value:', float(scaled_data.max()))"
   ]
  },
  {
   "cell_type": "markdown",
   "id": "62260f58",
   "metadata": {
    "papermill": {
     "duration": 0.004969,
     "end_time": "2024-05-25T23:38:39.533888",
     "exception": false,
     "start_time": "2024-05-25T23:38:39.528919",
     "status": "completed"
    },
    "tags": []
   },
   "source": [
    "# 1) Practice scaling\n",
    "\n",
    "We just scaled the \"usd_goal_real\" column. What about the \"goal\" column?\n",
    "\n",
    "Begin by running the code cell below to create a DataFrame `original_goal_data` containing the \"goal\" column."
   ]
  },
  {
   "cell_type": "code",
   "execution_count": 4,
   "id": "70bd2ce9",
   "metadata": {
    "execution": {
     "iopub.execute_input": "2024-05-25T23:38:39.546832Z",
     "iopub.status.busy": "2024-05-25T23:38:39.545600Z",
     "iopub.status.idle": "2024-05-25T23:38:39.552660Z",
     "shell.execute_reply": "2024-05-25T23:38:39.551553Z"
    },
    "papermill": {
     "duration": 0.015908,
     "end_time": "2024-05-25T23:38:39.555078",
     "exception": false,
     "start_time": "2024-05-25T23:38:39.539170",
     "status": "completed"
    },
    "tags": []
   },
   "outputs": [],
   "source": [
    "# select the usd_goal_real column\n",
    "original_goal_data = pd.DataFrame(kickstarters_2017.goal)"
   ]
  },
  {
   "cell_type": "markdown",
   "id": "b8d10710",
   "metadata": {
    "papermill": {
     "duration": 0.006079,
     "end_time": "2024-05-25T23:38:39.566519",
     "exception": false,
     "start_time": "2024-05-25T23:38:39.560440",
     "status": "completed"
    },
    "tags": []
   },
   "source": [
    "Use `original_goal_data` to create a new DataFrame `scaled_goal_data` with values scaled between 0 and 1. You must use the `minmax_scaling()` function."
   ]
  },
  {
   "cell_type": "code",
   "execution_count": 5,
   "id": "ea99b410",
   "metadata": {
    "execution": {
     "iopub.execute_input": "2024-05-25T23:38:39.579997Z",
     "iopub.status.busy": "2024-05-25T23:38:39.578834Z",
     "iopub.status.idle": "2024-05-25T23:38:39.608436Z",
     "shell.execute_reply": "2024-05-25T23:38:39.607300Z"
    },
    "papermill": {
     "duration": 0.038512,
     "end_time": "2024-05-25T23:38:39.610743",
     "exception": false,
     "start_time": "2024-05-25T23:38:39.572231",
     "status": "completed"
    },
    "tags": []
   },
   "outputs": [
    {
     "data": {
      "application/javascript": [
       "parent.postMessage({\"jupyterEvent\": \"custom.exercise_interaction\", \"data\": {\"outcomeType\": 1, \"valueTowardsCompletion\": 0.3333333333333333, \"interactionType\": 1, \"questionType\": 1, \"questionId\": \"1_TryScaling\", \"learnToolsVersion\": \"0.3.4\", \"failureMessage\": \"\", \"exceptionClass\": \"\", \"trace\": \"\"}}, \"*\")"
      ],
      "text/plain": [
       "<IPython.core.display.Javascript object>"
      ]
     },
     "metadata": {},
     "output_type": "display_data"
    },
    {
     "data": {
      "text/markdown": [
       "<span style=\"color:#33cc33\">Correct</span>"
      ],
      "text/plain": [
       "Correct"
      ]
     },
     "metadata": {},
     "output_type": "display_data"
    }
   ],
   "source": [
    "# TODO: Your code here\n",
    "scaled_goal_data = minmax_scaling(original_goal_data,columns=['goal'])\n",
    "\n",
    "# Check your answer\n",
    "q1.check()"
   ]
  },
  {
   "cell_type": "code",
   "execution_count": 6,
   "id": "461b01dd",
   "metadata": {
    "execution": {
     "iopub.execute_input": "2024-05-25T23:38:39.624508Z",
     "iopub.status.busy": "2024-05-25T23:38:39.623410Z",
     "iopub.status.idle": "2024-05-25T23:38:39.637139Z",
     "shell.execute_reply": "2024-05-25T23:38:39.636025Z"
    },
    "papermill": {
     "duration": 0.02311,
     "end_time": "2024-05-25T23:38:39.639355",
     "exception": false,
     "start_time": "2024-05-25T23:38:39.616245",
     "status": "completed"
    },
    "tags": []
   },
   "outputs": [
    {
     "data": {
      "application/javascript": [
       "parent.postMessage({\"jupyterEvent\": \"custom.exercise_interaction\", \"data\": {\"interactionType\": 2, \"questionType\": 1, \"questionId\": \"1_TryScaling\", \"learnToolsVersion\": \"0.3.4\", \"valueTowardsCompletion\": 0.0, \"failureMessage\": \"\", \"exceptionClass\": \"\", \"trace\": \"\", \"outcomeType\": 4}}, \"*\")"
      ],
      "text/plain": [
       "<IPython.core.display.Javascript object>"
      ]
     },
     "metadata": {},
     "output_type": "display_data"
    },
    {
     "data": {
      "text/markdown": [
       "<span style=\"color:#3366cc\">Hint:</span> Use the `minimax_scaling()` function."
      ],
      "text/plain": [
       "Hint: Use the `minimax_scaling()` function."
      ]
     },
     "metadata": {},
     "output_type": "display_data"
    },
    {
     "data": {
      "application/javascript": [
       "parent.postMessage({\"jupyterEvent\": \"custom.exercise_interaction\", \"data\": {\"interactionType\": 3, \"questionType\": 1, \"questionId\": \"1_TryScaling\", \"learnToolsVersion\": \"0.3.4\", \"valueTowardsCompletion\": 0.0, \"failureMessage\": \"\", \"exceptionClass\": \"\", \"trace\": \"\", \"outcomeType\": 4}}, \"*\")"
      ],
      "text/plain": [
       "<IPython.core.display.Javascript object>"
      ]
     },
     "metadata": {},
     "output_type": "display_data"
    },
    {
     "data": {
      "text/markdown": [
       "<span style=\"color:#33cc99\">Solution:</span> \n",
       "```python\n",
       "scaled_goal_data = minmax_scaling(original_goal_data, columns=['goal'])\n",
       "\n",
       "```"
      ],
      "text/plain": [
       "Solution: \n",
       "```python\n",
       "scaled_goal_data = minmax_scaling(original_goal_data, columns=['goal'])\n",
       "\n",
       "```"
      ]
     },
     "metadata": {},
     "output_type": "display_data"
    }
   ],
   "source": [
    "# Lines below will give you a hint or solution code\n",
    "q1.hint()\n",
    "q1.solution()"
   ]
  },
  {
   "cell_type": "markdown",
   "id": "060992c3",
   "metadata": {
    "papermill": {
     "duration": 0.005822,
     "end_time": "2024-05-25T23:38:39.651179",
     "exception": false,
     "start_time": "2024-05-25T23:38:39.645357",
     "status": "completed"
    },
    "tags": []
   },
   "source": [
    "# 2) Practice normalization\n",
    "\n",
    "Now you'll practice normalization. We begin by normalizing the amount of money pledged to each campaign."
   ]
  },
  {
   "cell_type": "code",
   "execution_count": 7,
   "id": "68c45d26",
   "metadata": {
    "execution": {
     "iopub.execute_input": "2024-05-25T23:38:39.666087Z",
     "iopub.status.busy": "2024-05-25T23:38:39.665375Z",
     "iopub.status.idle": "2024-05-25T23:38:39.885337Z",
     "shell.execute_reply": "2024-05-25T23:38:39.884130Z"
    },
    "papermill": {
     "duration": 0.229983,
     "end_time": "2024-05-25T23:38:39.887412",
     "exception": false,
     "start_time": "2024-05-25T23:38:39.657429",
     "status": "completed"
    },
    "tags": []
   },
   "outputs": [
    {
     "name": "stdout",
     "output_type": "stream",
     "text": [
      "Original data\n",
      "Preview:\n",
      " 1     2421.0\n",
      "2      220.0\n",
      "3        1.0\n",
      "4     1283.0\n",
      "5    52375.0\n",
      "Name: usd_pledged_real, dtype: float64\n",
      "Minimum value: 0.45 \n",
      "Maximum value: 20338986.27\n",
      "______________________________\n",
      "\n",
      "Normalized data\n",
      "Preview:\n",
      " 1    10.165142\n",
      "2     6.468598\n",
      "3     0.000000\n",
      "4     9.129277\n",
      "5    15.836853\n",
      "Name: usd_pledged_real, dtype: float64\n",
      "Minimum value: -0.7779954122762203 \n",
      "Maximum value: 30.69054020451361\n"
     ]
    }
   ],
   "source": [
    "# get the index of all positive pledges (Box-Cox only takes positive values)\n",
    "index_of_positive_pledges = kickstarters_2017.usd_pledged_real > 0\n",
    "\n",
    "# get only positive pledges (using their indexes)\n",
    "positive_pledges = kickstarters_2017.usd_pledged_real.loc[index_of_positive_pledges]\n",
    "\n",
    "# normalize the pledges (w/ Box-Cox)\n",
    "normalized_pledges = pd.Series(stats.boxcox(positive_pledges)[0], \n",
    "                               name='usd_pledged_real', index=positive_pledges.index)\n",
    "\n",
    "print('Original data\\nPreview:\\n', positive_pledges.head())\n",
    "print('Minimum value:', float(positive_pledges.min()),\n",
    "      '\\nMaximum value:', float(positive_pledges.max()))\n",
    "print('_'*30)\n",
    "\n",
    "print('\\nNormalized data\\nPreview:\\n', normalized_pledges.head())\n",
    "print('Minimum value:', float(normalized_pledges.min()),\n",
    "      '\\nMaximum value:', float(normalized_pledges.max()))"
   ]
  },
  {
   "cell_type": "markdown",
   "id": "f9c360f2",
   "metadata": {
    "papermill": {
     "duration": 0.006045,
     "end_time": "2024-05-25T23:38:39.899572",
     "exception": false,
     "start_time": "2024-05-25T23:38:39.893527",
     "status": "completed"
    },
    "tags": []
   },
   "source": [
    "The values have changed significantly with normalization!\n",
    "\n",
    "In the next code cell, you'll take a look at the distribution of the normalized data, where it should now resemble a normal distribution."
   ]
  },
  {
   "cell_type": "code",
   "execution_count": 8,
   "id": "0293039a",
   "metadata": {
    "execution": {
     "iopub.execute_input": "2024-05-25T23:38:39.914752Z",
     "iopub.status.busy": "2024-05-25T23:38:39.913707Z",
     "iopub.status.idle": "2024-05-25T23:38:42.088733Z",
     "shell.execute_reply": "2024-05-25T23:38:42.087514Z"
    },
    "papermill": {
     "duration": 2.185379,
     "end_time": "2024-05-25T23:38:42.091332",
     "exception": false,
     "start_time": "2024-05-25T23:38:39.905953",
     "status": "completed"
    },
    "tags": []
   },
   "outputs": [
    {
     "name": "stderr",
     "output_type": "stream",
     "text": [
      "/opt/conda/lib/python3.10/site-packages/seaborn/_oldcore.py:1119: FutureWarning: use_inf_as_na option is deprecated and will be removed in a future version. Convert inf values to NaN before operating instead.\n",
      "  with pd.option_context('mode.use_inf_as_na', True):\n"
     ]
    },
    {
     "data": {
      "image/png": "[encoded data removed]",
      "text/plain": [
       "<Figure size 640x480 with 1 Axes>"
      ]
     },
     "metadata": {},
     "output_type": "display_data"
    }
   ],
   "source": [
    "# plot normalized data\n",
    "ax = sns.histplot(normalized_pledges, kde=True)\n",
    "ax.set_title(\"Normalized data\")\n",
    "plt.show()"
   ]
  },
  {
   "cell_type": "markdown",
   "id": "fa7a31fd",
   "metadata": {
    "papermill": {
     "duration": 0.006453,
     "end_time": "2024-05-25T23:38:42.104701",
     "exception": false,
     "start_time": "2024-05-25T23:38:42.098248",
     "status": "completed"
    },
    "tags": []
   },
   "source": [
    "We used the \"usd_pledged_real\" column. Follow the same process to normalize the \"pledged\" column. "
   ]
  },
  {
   "cell_type": "code",
   "execution_count": 9,
   "id": "8fe1124e",
   "metadata": {
    "execution": {
     "iopub.execute_input": "2024-05-25T23:38:42.119782Z",
     "iopub.status.busy": "2024-05-25T23:38:42.119370Z",
     "iopub.status.idle": "2024-05-25T23:38:44.488881Z",
     "shell.execute_reply": "2024-05-25T23:38:44.487639Z"
    },
    "papermill": {
     "duration": 2.379867,
     "end_time": "2024-05-25T23:38:44.491258",
     "exception": false,
     "start_time": "2024-05-25T23:38:42.111391",
     "status": "completed"
    },
    "tags": []
   },
   "outputs": [
    {
     "name": "stderr",
     "output_type": "stream",
     "text": [
      "/opt/conda/lib/python3.10/site-packages/seaborn/_oldcore.py:1119: FutureWarning: use_inf_as_na option is deprecated and will be removed in a future version. Convert inf values to NaN before operating instead.\n",
      "  with pd.option_context('mode.use_inf_as_na', True):\n"
     ]
    },
    {
     "data": {
      "image/png": "[encoded data removed]",
      "text/plain": [
       "<Figure size 640x480 with 1 Axes>"
      ]
     },
     "metadata": {},
     "output_type": "display_data"
    }
   ],
   "source": [
    "# TODO: Your code here!\n",
    "index = kickstarters_2017.pledged  > 0 \n",
    "pleged = kickstarters_2017.pledged.loc[index]\n",
    "npleged = pd.Series(stats.boxcox(pleged)[0], \n",
    "                               name='pleged', index=pleged.index)\n",
    "ax = sns.histplot(npleged, kde=True)\n",
    "ax.set_title(\"Normalized data\")\n",
    "plt.show()"
   ]
  },
  {
   "cell_type": "markdown",
   "id": "86027abe",
   "metadata": {
    "papermill": {
     "duration": 0.007266,
     "end_time": "2024-05-25T23:38:44.506446",
     "exception": false,
     "start_time": "2024-05-25T23:38:44.499180",
     "status": "completed"
    },
    "tags": []
   },
   "source": [
    "How does the normalized \"usd_pledged_real\" column look different from when we normalized the \"pledged\" column?  Or, do they look mostly the same?\n",
    "\n",
    "Once you have an answer, run the code cell below."
   ]
  },
  {
   "cell_type": "code",
   "execution_count": 10,
   "id": "2d6f448f",
   "metadata": {
    "execution": {
     "iopub.execute_input": "2024-05-25T23:38:44.524519Z",
     "iopub.status.busy": "2024-05-25T23:38:44.523512Z",
     "iopub.status.idle": "2024-05-25T23:38:44.533319Z",
     "shell.execute_reply": "2024-05-25T23:38:44.532302Z"
    },
    "papermill": {
     "duration": 0.021215,
     "end_time": "2024-05-25T23:38:44.535501",
     "exception": false,
     "start_time": "2024-05-25T23:38:44.514286",
     "status": "completed"
    },
    "tags": []
   },
   "outputs": [
    {
     "data": {
      "application/javascript": [
       "parent.postMessage({\"jupyterEvent\": \"custom.exercise_interaction\", \"data\": {\"outcomeType\": 1, \"valueTowardsCompletion\": 0.3333333333333333, \"interactionType\": 1, \"questionType\": 4, \"questionId\": \"2_TryNormalization\", \"learnToolsVersion\": \"0.3.4\", \"failureMessage\": \"\", \"exceptionClass\": \"\", \"trace\": \"\"}}, \"*\")"
      ],
      "text/plain": [
       "<IPython.core.display.Javascript object>"
      ]
     },
     "metadata": {},
     "output_type": "display_data"
    },
    {
     "data": {
      "text/markdown": [
       "<span style=\"color:#33cc33\">Correct:</span> \n",
       "\n",
       "The distributions in the normalized data look mostly the same."
      ],
      "text/plain": [
       "Correct: \n",
       "\n",
       "The distributions in the normalized data look mostly the same."
      ]
     },
     "metadata": {},
     "output_type": "display_data"
    }
   ],
   "source": [
    "# Check your answer (Run this code cell to receive credit!)\n",
    "q2.check()"
   ]
  },
  {
   "cell_type": "code",
   "execution_count": 11,
   "id": "819ac47b",
   "metadata": {
    "execution": {
     "iopub.execute_input": "2024-05-25T23:38:44.553735Z",
     "iopub.status.busy": "2024-05-25T23:38:44.553319Z",
     "iopub.status.idle": "2024-05-25T23:38:44.561071Z",
     "shell.execute_reply": "2024-05-25T23:38:44.560034Z"
    },
    "papermill": {
     "duration": 0.019728,
     "end_time": "2024-05-25T23:38:44.563458",
     "exception": false,
     "start_time": "2024-05-25T23:38:44.543730",
     "status": "completed"
    },
    "tags": []
   },
   "outputs": [
    {
     "data": {
      "application/javascript": [
       "parent.postMessage({\"jupyterEvent\": \"custom.exercise_interaction\", \"data\": {\"interactionType\": 2, \"questionType\": 4, \"questionId\": \"2_TryNormalization\", \"learnToolsVersion\": \"0.3.4\", \"valueTowardsCompletion\": 0.0, \"failureMessage\": \"\", \"exceptionClass\": \"\", \"trace\": \"\", \"outcomeType\": 4}}, \"*\")"
      ],
      "text/plain": [
       "<IPython.core.display.Javascript object>"
      ]
     },
     "metadata": {},
     "output_type": "display_data"
    },
    {
     "data": {
      "text/markdown": [
       "<span style=\"color:#3366cc\">Hint:</span> \n",
       "Try running this code:\n",
       "\n",
       "```python\n",
       "# get the index of all positive pledges (Box-Cox only takes positive values)\n",
       "index_positive_pledges = kickstarters_2017.pledged > 0\n",
       "\n",
       "# get only positive pledges (using their indexes)\n",
       "positive_pledges_only = kickstarters_2017.pledged.loc[index_positive_pledges]\n",
       "\n",
       "# normalize the pledges (w/ Box-Cox)\n",
       "normalized_values = pd.Series(stats.boxcox(positive_pledges_only)[0], \n",
       "                              name='pledged', index=positive_pledges_only.index)\n",
       "\n",
       "# plot normalized data\n",
       "ax = sns.histplot(normalized_values, kde=True)\n",
       "ax.set_title(\"Normalized data\")\n",
       "```\n",
       "\n"
      ],
      "text/plain": [
       "Hint: \n",
       "Try running this code:\n",
       "\n",
       "```python\n",
       "# get the index of all positive pledges (Box-Cox only takes positive values)\n",
       "index_positive_pledges = kickstarters_2017.pledged > 0\n",
       "\n",
       "# get only positive pledges (using their indexes)\n",
       "positive_pledges_only = kickstarters_2017.pledged.loc[index_positive_pledges]\n",
       "\n",
       "# normalize the pledges (w/ Box-Cox)\n",
       "normalized_values = pd.Series(stats.boxcox(positive_pledges_only)[0], \n",
       "                              name='pledged', index=positive_pledges_only.index)\n",
       "\n",
       "# plot normalized data\n",
       "ax = sns.histplot(normalized_values, kde=True)\n",
       "ax.set_title(\"Normalized data\")\n",
       "```\n"
      ]
     },
     "metadata": {},
     "output_type": "display_data"
    }
   ],
   "source": [
    "# Line below will give you a hint\n",
    "q2.hint()"
   ]
  },
  {
   "cell_type": "markdown",
   "id": "9861e6a7",
   "metadata": {
    "papermill": {
     "duration": 0.007875,
     "end_time": "2024-05-25T23:38:44.579760",
     "exception": false,
     "start_time": "2024-05-25T23:38:44.571885",
     "status": "completed"
    },
    "tags": []
   },
   "source": [
    "# (Optional) More practice\n",
    "\n",
    "Try finding a new dataset and pretend you're preparing to perform a [regression analysis](https://www.kaggle.com/rtatman/the-5-day-regression-challenge). \n",
    "\n",
    "[These datasets are a good start!](https://www.kaggle.com/rtatman/datasets-for-regression-analysis)\n",
    "\n",
    "Pick three or four variables and decide if you need to normalize or scale any of them and, if you think you should, practice applying the correct technique.\n",
    "\n",
    "# Keep going\n",
    "\n",
    "In the next lesson, learn how to [**parse dates**](https://www.kaggle.com/alexisbcook/parsing-dates) in a dataset."
   ]
  },
  {
   "cell_type": "markdown",
   "id": "54ba967c",
   "metadata": {
    "papermill": {
     "duration": 0.007801,
     "end_time": "2024-05-25T23:38:44.595821",
     "exception": false,
     "start_time": "2024-05-25T23:38:44.588020",
     "status": "completed"
    },
    "tags": []
   },
   "source": [
    "---\n",
    "\n",
    "\n",
    "\n",
    "\n",
    "*Have questions or comments? Visit the [course discussion forum](https://www.kaggle.com/learn/data-cleaning/discussion) to chat with other learners.*"
   ]
  }
 ],
 "metadata": {
  "kaggle": {
   "accelerator": "none",
   "dataSources": [
    {
     "datasetId": 4104,
     "sourceId": 16930,
     "sourceType": "datasetVersion"
    }
   ],
   "isGpuEnabled": false,
   "isInternetEnabled": false,
   "language": "python",
   "sourceType": "notebook"
  },
  "kernelspec": {
   "display_name": "Python 3",
   "language": "python",
   "name": "python3"
  },
  "language_info": {
   "codemirror_mode": {
    "name": "ipython",
    "version": 3
   },
   "file_extension": ".py",
   "mimetype": "text/x-python",
   "name": "python",
   "nbconvert_exporter": "python",
   "pygments_lexer": "ipython3",
   "version": "3.10.13"
  },
  "papermill": {
   "default_parameters": {},
   "duration": 15.429553,
   "end_time": "2024-05-25T23:38:45.327281",
   "environment_variables": {},
   "exception": null,
   "input_path": "__notebook__.ipynb",
   "output_path": "__notebook__.ipynb",
   "parameters": {},
   "start_time": "2024-05-25T23:38:29.897728",
   "version": "2.5.0"
  }
 },
 "nbformat": 4,
 "nbformat_minor": 5
}
