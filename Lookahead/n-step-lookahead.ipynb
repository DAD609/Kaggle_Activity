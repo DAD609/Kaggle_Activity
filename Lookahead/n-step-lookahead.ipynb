{
 "cells": [
  {
   "cell_type": "markdown",
   "id": "f0ca54d7",
   "metadata": {
    "papermill": {
     "duration": 0.005222,
     "end_time": "2024-05-25T23:22:32.504880",
     "exception": false,
     "start_time": "2024-05-25T23:22:32.499658",
     "status": "completed"
    },
    "tags": []
   },
   "source": [
    "**This notebook is an exercise in the [Intro to Game AI and Reinforcement Learning](https://www.kaggle.com/learn/intro-to-game-ai-and-reinforcement-learning) course.  You can reference the tutorial at [this link](https://www.kaggle.com/alexisbcook/n-step-lookahead).**\n",
    "\n",
    "---\n"
   ]
  },
  {
   "cell_type": "markdown",
   "id": "53442e2d",
   "metadata": {
    "papermill": {
     "duration": 0.004544,
     "end_time": "2024-05-25T23:22:32.514510",
     "exception": false,
     "start_time": "2024-05-25T23:22:32.509966",
     "status": "completed"
    },
    "tags": []
   },
   "source": [
    "# Introduction\n",
    "\n",
    "In the tutorial, you learned how to build a reasonably intelligent agent with the minimax algorithm.  In this exercise, you will check your understanding and submit your own agent to the competition."
   ]
  },
  {
   "cell_type": "code",
   "execution_count": 1,
   "id": "fc27137f",
   "metadata": {
    "execution": {
     "iopub.execute_input": "2024-05-25T23:22:32.526176Z",
     "iopub.status.busy": "2024-05-25T23:22:32.525775Z",
     "iopub.status.idle": "2024-05-25T23:22:33.386251Z",
     "shell.execute_reply": "2024-05-25T23:22:33.385122Z"
    },
    "papermill": {
     "duration": 0.869231,
     "end_time": "2024-05-25T23:22:33.388907",
     "exception": false,
     "start_time": "2024-05-25T23:22:32.519676",
     "status": "completed"
    },
    "tags": []
   },
   "outputs": [],
   "source": [
    "from learntools.core import binder\n",
    "binder.bind(globals())\n",
    "from learntools.game_ai.ex3 import *"
   ]
  },
  {
   "cell_type": "markdown",
   "id": "3ccf816e",
   "metadata": {
    "papermill": {
     "duration": 0.004407,
     "end_time": "2024-05-25T23:22:33.398105",
     "exception": false,
     "start_time": "2024-05-25T23:22:33.393698",
     "status": "completed"
    },
    "tags": []
   },
   "source": [
    "### 1) A closer look\n",
    "\n",
    "The heuristic from the tutorial looks at all groups of four adjacent grid locations on the same row, column, or diagonal and assigns points for each occurrence of the following patterns:\n",
    "\n",
    "<center>\n",
    "<img src=\"https://storage.googleapis.com/kaggle-media/learn/images/3NvBEGL.png\" width=70%><br/>\n",
    "</center>\n",
    "\n",
    "Is it really necessary to use so many numbers to define the heuristic?  Consider simplifying it, as in the image below.\n",
    "\n",
    "<center>\n",
    "<img src=\"https://storage.googleapis.com/kaggle-media/learn/images/grViegG.png\" width=70%><br/>\n",
    "</center>\n",
    "\n",
    "How would each heuristic score the potential moves in the example below (where, in this case, the agent looks only one step ahead)?  Which heuristic would lead to the agent selecting the better move?\n",
    "\n",
    "<center>\n",
    "<img src=\"https://storage.googleapis.com/kaggle-media/learn/images/LWPLy7N.png\" width=100%><br/>\n",
    "</center>"
   ]
  },
  {
   "cell_type": "code",
   "execution_count": 2,
   "id": "1e037e45",
   "metadata": {
    "execution": {
     "iopub.execute_input": "2024-05-25T23:22:33.409321Z",
     "iopub.status.busy": "2024-05-25T23:22:33.408852Z",
     "iopub.status.idle": "2024-05-25T23:22:33.419133Z",
     "shell.execute_reply": "2024-05-25T23:22:33.418100Z"
    },
    "papermill": {
     "duration": 0.018833,
     "end_time": "2024-05-25T23:22:33.421754",
     "exception": false,
     "start_time": "2024-05-25T23:22:33.402921",
     "status": "completed"
    },
    "tags": []
   },
   "outputs": [
    {
     "data": {
      "application/javascript": [
       "parent.postMessage({\"jupyterEvent\": \"custom.exercise_interaction\", \"data\": {\"interactionType\": 2, \"questionType\": 4, \"questionId\": \"1_WorseHeuristic\", \"learnToolsVersion\": \"0.3.4\", \"valueTowardsCompletion\": 0.0, \"failureMessage\": \"\", \"exceptionClass\": \"\", \"trace\": \"\", \"outcomeType\": 4}}, \"*\")"
      ],
      "text/plain": [
       "<IPython.core.display.Javascript object>"
      ]
     },
     "metadata": {},
     "output_type": "display_data"
    },
    {
     "data": {
      "text/markdown": [
       "<span style=\"color:#3366cc\">Hint:</span> The first heuristic assigns a score of 0 to column 2, and a score of -99 to column 3.  What scores do you get with the second heuristic?"
      ],
      "text/plain": [
       "Hint: The first heuristic assigns a score of 0 to column 2, and a score of -99 to column 3.  What scores do you get with the second heuristic?"
      ]
     },
     "metadata": {},
     "output_type": "display_data"
    }
   ],
   "source": [
    "q_1.hint()"
   ]
  },
  {
   "cell_type": "code",
   "execution_count": 3,
   "id": "5431823e",
   "metadata": {
    "execution": {
     "iopub.execute_input": "2024-05-25T23:22:33.433713Z",
     "iopub.status.busy": "2024-05-25T23:22:33.433219Z",
     "iopub.status.idle": "2024-05-25T23:22:33.441460Z",
     "shell.execute_reply": "2024-05-25T23:22:33.440479Z"
    },
    "papermill": {
     "duration": 0.01678,
     "end_time": "2024-05-25T23:22:33.443664",
     "exception": false,
     "start_time": "2024-05-25T23:22:33.426884",
     "status": "completed"
    },
    "tags": []
   },
   "outputs": [
    {
     "data": {
      "application/javascript": [
       "parent.postMessage({\"jupyterEvent\": \"custom.exercise_interaction\", \"data\": {\"interactionType\": 3, \"questionType\": 4, \"questionId\": \"1_WorseHeuristic\", \"learnToolsVersion\": \"0.3.4\", \"valueTowardsCompletion\": 0.0, \"failureMessage\": \"\", \"exceptionClass\": \"\", \"trace\": \"\", \"outcomeType\": 4}}, \"*\")"
      ],
      "text/plain": [
       "<IPython.core.display.Javascript object>"
      ]
     },
     "metadata": {},
     "output_type": "display_data"
    },
    {
     "data": {
      "text/markdown": [
       "<span style=\"color:#33cc99\">Solution:</span> The first heuristic is guaranteed to select column 2 to block the opponent from winning.  The second heuristic selects either column 2 or column 3 (where it selects each with 50% probability). Thus, for this game board, the first heuristic is better. In general, we can expect that the first heuristic is a better heuristic, since we cannot trust the second heuristic to block the opponent from winning."
      ],
      "text/plain": [
       "Solution: The first heuristic is guaranteed to select column 2 to block the opponent from winning.  The second heuristic selects either column 2 or column 3 (where it selects each with 50% probability). Thus, for this game board, the first heuristic is better. In general, we can expect that the first heuristic is a better heuristic, since we cannot trust the second heuristic to block the opponent from winning."
      ]
     },
     "metadata": {},
     "output_type": "display_data"
    }
   ],
   "source": [
    "# Check your answer (Run this code cell to receive credit!)\n",
    "q_1.solution()"
   ]
  },
  {
   "cell_type": "markdown",
   "id": "028099a4",
   "metadata": {
    "papermill": {
     "duration": 0.005005,
     "end_time": "2024-05-25T23:22:33.453958",
     "exception": false,
     "start_time": "2024-05-25T23:22:33.448953",
     "status": "completed"
    },
    "tags": []
   },
   "source": [
    "### 2) Count the leaves\n",
    "\n",
    "In the tutorial, we worked with a small game tree.\n",
    "\n",
    "<center>\n",
    "<img src=\"https://storage.googleapis.com/kaggle-media/learn/images/BrRe7Bu.png\" width=90%><br/>\n",
    "</center>\n",
    "\n",
    "The game tree above has 8 leaf nodes that appear at the bottom of the tree.  By definition, \"leaf nodes\" in a game tree are nodes that don't have nodes below them.\n",
    "\n",
    "In the ConnectX competition, the game trees will be much larger!  \n",
    "\n",
    "To see this, consider a minimax agent that is trying to plan its first move, where all columns in the game board are  empty.  Say the agent builds a game tree of depth 3.  How many leaf nodes are in the game tree?  \n",
    "\n",
    "Use your answer to fill in the blank below."
   ]
  },
  {
   "cell_type": "code",
   "execution_count": 4,
   "id": "d5c9bcbc",
   "metadata": {
    "execution": {
     "iopub.execute_input": "2024-05-25T23:22:33.466439Z",
     "iopub.status.busy": "2024-05-25T23:22:33.465533Z",
     "iopub.status.idle": "2024-05-25T23:22:33.474116Z",
     "shell.execute_reply": "2024-05-25T23:22:33.473123Z"
    },
    "papermill": {
     "duration": 0.017185,
     "end_time": "2024-05-25T23:22:33.476393",
     "exception": false,
     "start_time": "2024-05-25T23:22:33.459208",
     "status": "completed"
    },
    "tags": []
   },
   "outputs": [
    {
     "data": {
      "application/javascript": [
       "parent.postMessage({\"jupyterEvent\": \"custom.exercise_interaction\", \"data\": {\"outcomeType\": 1, \"valueTowardsCompletion\": 0.2, \"interactionType\": 1, \"questionType\": 1, \"questionId\": \"2_NumLeaves\", \"learnToolsVersion\": \"0.3.4\", \"failureMessage\": \"\", \"exceptionClass\": \"\", \"trace\": \"\"}}, \"*\")"
      ],
      "text/plain": [
       "<IPython.core.display.Javascript object>"
      ]
     },
     "metadata": {},
     "output_type": "display_data"
    },
    {
     "data": {
      "text/markdown": [
       "<span style=\"color:#33cc33\">Correct</span>"
      ],
      "text/plain": [
       "Correct"
      ]
     },
     "metadata": {},
     "output_type": "display_data"
    }
   ],
   "source": [
    "# Fill in the blank\n",
    "num_leaves = 7*7*7\n",
    "\n",
    "# Check your answer\n",
    "q_2.check()"
   ]
  },
  {
   "cell_type": "code",
   "execution_count": 5,
   "id": "2fa56695",
   "metadata": {
    "execution": {
     "iopub.execute_input": "2024-05-25T23:22:33.489115Z",
     "iopub.status.busy": "2024-05-25T23:22:33.488768Z",
     "iopub.status.idle": "2024-05-25T23:22:33.502138Z",
     "shell.execute_reply": "2024-05-25T23:22:33.500895Z"
    },
    "papermill": {
     "duration": 0.022358,
     "end_time": "2024-05-25T23:22:33.504378",
     "exception": false,
     "start_time": "2024-05-25T23:22:33.482020",
     "status": "completed"
    },
    "tags": []
   },
   "outputs": [
    {
     "data": {
      "application/javascript": [
       "parent.postMessage({\"jupyterEvent\": \"custom.exercise_interaction\", \"data\": {\"interactionType\": 2, \"questionType\": 1, \"questionId\": \"2_NumLeaves\", \"learnToolsVersion\": \"0.3.4\", \"valueTowardsCompletion\": 0.0, \"failureMessage\": \"\", \"exceptionClass\": \"\", \"trace\": \"\", \"outcomeType\": 4}}, \"*\")"
      ],
      "text/plain": [
       "<IPython.core.display.Javascript object>"
      ]
     },
     "metadata": {},
     "output_type": "display_data"
    },
    {
     "data": {
      "text/markdown": [
       "<span style=\"color:#3366cc\">Hint:</span> Try drawing the game tree.  How many moves (columns) are possible at each turn?"
      ],
      "text/plain": [
       "Hint: Try drawing the game tree.  How many moves (columns) are possible at each turn?"
      ]
     },
     "metadata": {},
     "output_type": "display_data"
    },
    {
     "data": {
      "application/javascript": [
       "parent.postMessage({\"jupyterEvent\": \"custom.exercise_interaction\", \"data\": {\"interactionType\": 3, \"questionType\": 1, \"questionId\": \"2_NumLeaves\", \"learnToolsVersion\": \"0.3.4\", \"valueTowardsCompletion\": 0.0, \"failureMessage\": \"\", \"exceptionClass\": \"\", \"trace\": \"\", \"outcomeType\": 4}}, \"*\")"
      ],
      "text/plain": [
       "<IPython.core.display.Javascript object>"
      ]
     },
     "metadata": {},
     "output_type": "display_data"
    },
    {
     "data": {
      "text/markdown": [
       "<span style=\"color:#33cc99\">Solution:</span> \n",
       "```python\n",
       "num_leaves = 7*7*7\n",
       "```"
      ],
      "text/plain": [
       "Solution: \n",
       "```python\n",
       "num_leaves = 7*7*7\n",
       "```"
      ]
     },
     "metadata": {},
     "output_type": "display_data"
    }
   ],
   "source": [
    "# Lines below will give you a hint or solution code\n",
    "q_2.hint()\n",
    "q_2.solution()"
   ]
  },
  {
   "cell_type": "markdown",
   "id": "4a7679ae",
   "metadata": {
    "papermill": {
     "duration": 0.005949,
     "end_time": "2024-05-25T23:22:33.516261",
     "exception": false,
     "start_time": "2024-05-25T23:22:33.510312",
     "status": "completed"
    },
    "tags": []
   },
   "source": [
    "### 3) Which move will the agent select?\n",
    "\n",
    "In this question, you'll check your understanding of the minimax algorithm.  Remember that with this algorithm, \n",
    "> The agent chooses moves to get a score that is as high as possible, and it assumes the opponent will counteract this by choosing moves to force the score to be as low as possible.\n",
    "\n",
    "Consider the toy example below of a game tree that the agent will use to select its next move.  \n",
    "<center>\n",
    "<img src=\"https://storage.googleapis.com/kaggle-media/learn/images/QlfWGM9.png\" width=80%><br/>\n",
    "</center>\n",
    "\n",
    "Which move will the agent select?  Use your answer to set the value of the `selected_move` variable below.  Your answer should be one of `1`, `2`, or `3`."
   ]
  },
  {
   "cell_type": "code",
   "execution_count": 6,
   "id": "e8945046",
   "metadata": {
    "execution": {
     "iopub.execute_input": "2024-05-25T23:22:33.530788Z",
     "iopub.status.busy": "2024-05-25T23:22:33.530379Z",
     "iopub.status.idle": "2024-05-25T23:22:33.539519Z",
     "shell.execute_reply": "2024-05-25T23:22:33.538435Z"
    },
    "papermill": {
     "duration": 0.018574,
     "end_time": "2024-05-25T23:22:33.541833",
     "exception": false,
     "start_time": "2024-05-25T23:22:33.523259",
     "status": "completed"
    },
    "tags": []
   },
   "outputs": [
    {
     "data": {
      "application/javascript": [
       "parent.postMessage({\"jupyterEvent\": \"custom.exercise_interaction\", \"data\": {\"outcomeType\": 1, \"valueTowardsCompletion\": 0.2, \"interactionType\": 1, \"questionType\": 2, \"questionId\": \"3_WhichMove\", \"learnToolsVersion\": \"0.3.4\", \"failureMessage\": \"\", \"exceptionClass\": \"\", \"trace\": \"\"}}, \"*\")"
      ],
      "text/plain": [
       "<IPython.core.display.Javascript object>"
      ]
     },
     "metadata": {},
     "output_type": "display_data"
    },
    {
     "data": {
      "text/markdown": [
       "<span style=\"color:#33cc33\">Correct</span>"
      ],
      "text/plain": [
       "Correct"
      ]
     },
     "metadata": {},
     "output_type": "display_data"
    }
   ],
   "source": [
    "# Fill in the blank\n",
    "selected_move = 3\n",
    "\n",
    "# Check your answer\n",
    "q_3.check()"
   ]
  },
  {
   "cell_type": "code",
   "execution_count": 7,
   "id": "50e45dbf",
   "metadata": {
    "execution": {
     "iopub.execute_input": "2024-05-25T23:22:33.556526Z",
     "iopub.status.busy": "2024-05-25T23:22:33.555590Z",
     "iopub.status.idle": "2024-05-25T23:22:33.563552Z",
     "shell.execute_reply": "2024-05-25T23:22:33.562609Z"
    },
    "papermill": {
     "duration": 0.017671,
     "end_time": "2024-05-25T23:22:33.565804",
     "exception": false,
     "start_time": "2024-05-25T23:22:33.548133",
     "status": "completed"
    },
    "tags": []
   },
   "outputs": [
    {
     "data": {
      "application/javascript": [
       "parent.postMessage({\"jupyterEvent\": \"custom.exercise_interaction\", \"data\": {\"interactionType\": 3, \"questionType\": 2, \"questionId\": \"3_WhichMove\", \"learnToolsVersion\": \"0.3.4\", \"valueTowardsCompletion\": 0.0, \"failureMessage\": \"\", \"exceptionClass\": \"\", \"trace\": \"\", \"outcomeType\": 4}}, \"*\")"
      ],
      "text/plain": [
       "<IPython.core.display.Javascript object>"
      ]
     },
     "metadata": {},
     "output_type": "display_data"
    },
    {
     "data": {
      "text/markdown": [
       "<span style=\"color:#33cc99\">Solution:</span> \n",
       "```python\n",
       "selected_move = 3\n",
       "```"
      ],
      "text/plain": [
       "Solution: \n",
       "```python\n",
       "selected_move = 3\n",
       "```"
      ]
     },
     "metadata": {},
     "output_type": "display_data"
    }
   ],
   "source": [
    "# Lines below will give you a hint or solution code\n",
    "#q_3.hint()\n",
    "q_3.solution()"
   ]
  },
  {
   "cell_type": "markdown",
   "id": "28545bd9",
   "metadata": {
    "papermill": {
     "duration": 0.006144,
     "end_time": "2024-05-25T23:22:33.578362",
     "exception": false,
     "start_time": "2024-05-25T23:22:33.572218",
     "status": "completed"
    },
    "tags": []
   },
   "source": [
    "### 4) Examine the assumptions\n",
    "\n",
    "The minimax agent assumes that its opponent plays optimally (with respect to the heuristic, and using a game tree of limited depth).  But this is almost never the case, in practice: it's far more likely for the agent to encounter a suboptimal (that is: worse than optimal) opponent.  \n",
    "\n",
    "Say the minimax agent encounters a suboptimal opponent. Should we expect the minimax agent to still play the game well, despite the contradiction with its assumptions?  If so, why?"
   ]
  },
  {
   "cell_type": "code",
   "execution_count": 8,
   "id": "514ff5f2",
   "metadata": {
    "execution": {
     "iopub.execute_input": "2024-05-25T23:22:33.592873Z",
     "iopub.status.busy": "2024-05-25T23:22:33.592339Z",
     "iopub.status.idle": "2024-05-25T23:22:33.596814Z",
     "shell.execute_reply": "2024-05-25T23:22:33.595808Z"
    },
    "papermill": {
     "duration": 0.014207,
     "end_time": "2024-05-25T23:22:33.599002",
     "exception": false,
     "start_time": "2024-05-25T23:22:33.584795",
     "status": "completed"
    },
    "tags": []
   },
   "outputs": [],
   "source": [
    "#q_4.hint()"
   ]
  },
  {
   "cell_type": "code",
   "execution_count": 9,
   "id": "00e60e0a",
   "metadata": {
    "execution": {
     "iopub.execute_input": "2024-05-25T23:22:33.614548Z",
     "iopub.status.busy": "2024-05-25T23:22:33.613585Z",
     "iopub.status.idle": "2024-05-25T23:22:33.621675Z",
     "shell.execute_reply": "2024-05-25T23:22:33.620659Z"
    },
    "papermill": {
     "duration": 0.018085,
     "end_time": "2024-05-25T23:22:33.623821",
     "exception": false,
     "start_time": "2024-05-25T23:22:33.605736",
     "status": "completed"
    },
    "tags": []
   },
   "outputs": [
    {
     "data": {
      "application/javascript": [
       "parent.postMessage({\"jupyterEvent\": \"custom.exercise_interaction\", \"data\": {\"interactionType\": 3, \"questionType\": 4, \"questionId\": \"4_Assumptions\", \"learnToolsVersion\": \"0.3.4\", \"valueTowardsCompletion\": 0.0, \"failureMessage\": \"\", \"exceptionClass\": \"\", \"trace\": \"\", \"outcomeType\": 4}}, \"*\")"
      ],
      "text/plain": [
       "<IPython.core.display.Javascript object>"
      ]
     },
     "metadata": {},
     "output_type": "display_data"
    },
    {
     "data": {
      "text/markdown": [
       "<span style=\"color:#33cc99\">Solution:</span> We can still expect the minimax agent to perform well. On a high level, assuming an optimal opponent simply overestimates the opponent, but does not break the algorithm.  The effect of overestimating the opponent is merely that the minimax agent will take longer to win, than if it had a more accurate understanding of its opponent.  For instance, the minimax agent is highly unlikely to select the same column three times in its first three moves (since it assumes an optimal opponent that will certainly block the winning play in the next move), but this is not a bad initial strategy for playing against an agent that selects columns completely at random."
      ],
      "text/plain": [
       "Solution: We can still expect the minimax agent to perform well. On a high level, assuming an optimal opponent simply overestimates the opponent, but does not break the algorithm.  The effect of overestimating the opponent is merely that the minimax agent will take longer to win, than if it had a more accurate understanding of its opponent.  For instance, the minimax agent is highly unlikely to select the same column three times in its first three moves (since it assumes an optimal opponent that will certainly block the winning play in the next move), but this is not a bad initial strategy for playing against an agent that selects columns completely at random."
      ]
     },
     "metadata": {},
     "output_type": "display_data"
    }
   ],
   "source": [
    "# Check your answer (Run this code cell to receive credit!)\n",
    "q_4.solution()"
   ]
  },
  {
   "cell_type": "markdown",
   "id": "eb18a436",
   "metadata": {
    "papermill": {
     "duration": 0.00647,
     "end_time": "2024-05-25T23:22:33.636940",
     "exception": false,
     "start_time": "2024-05-25T23:22:33.630470",
     "status": "completed"
    },
    "tags": []
   },
   "source": [
    "### 5) Submit to the competition\n",
    "\n",
    "Now, it's time to submit an agent to the competition!  Use the next code cell to define an agent.  (You can see an example of how to write a valid agent in **[this notebook](https://www.kaggle.com/alexisbcook/create-a-connectx-agent)**.)\n",
    "\n",
    "If you decide to use the minimax code from the tutorial, you might like to add [**alpha-beta pruning**](https://en.wikipedia.org/wiki/Alpha%E2%80%93beta_pruning) to decrease the computation time (i.e., get the minimax algorithm to run much faster!).  In this case, \"alpha\" and \"beta\" to refer to two values that are maintained while the algorithm is running, that help to identify early stopping conditions.  \n",
    "\n",
    "Without alpha-beta pruning, minimax evaluates each leaf node.  With alpha-beta pruning, minimax only evaluates nodes that could provide information that affects the agent's choice of action.  Put another way, it identifies nodes that could not possibly affect the final result and avoids evaluating them."
   ]
  },
  {
   "cell_type": "code",
   "execution_count": 10,
   "id": "0e0c65a9",
   "metadata": {
    "execution": {
     "iopub.execute_input": "2024-05-25T23:22:33.652840Z",
     "iopub.status.busy": "2024-05-25T23:22:33.651840Z",
     "iopub.status.idle": "2024-05-25T23:22:33.657704Z",
     "shell.execute_reply": "2024-05-25T23:22:33.656531Z"
    },
    "papermill": {
     "duration": 0.016169,
     "end_time": "2024-05-25T23:22:33.660008",
     "exception": false,
     "start_time": "2024-05-25T23:22:33.643839",
     "status": "completed"
    },
    "tags": []
   },
   "outputs": [],
   "source": [
    "def my_agent(obs, config):\n",
    "    # Your code here: Amend the agent!\n",
    "    import random\n",
    "    valid_moves = [col for col in range(config.columns) if obs.board[col] == 0]\n",
    "    return random.choice(valid_moves)"
   ]
  },
  {
   "cell_type": "code",
   "execution_count": 11,
   "id": "a6a351f9",
   "metadata": {
    "execution": {
     "iopub.execute_input": "2024-05-25T23:22:33.675402Z",
     "iopub.status.busy": "2024-05-25T23:22:33.675028Z",
     "iopub.status.idle": "2024-05-25T23:22:33.683515Z",
     "shell.execute_reply": "2024-05-25T23:22:33.682539Z"
    },
    "papermill": {
     "duration": 0.018925,
     "end_time": "2024-05-25T23:22:33.685921",
     "exception": false,
     "start_time": "2024-05-25T23:22:33.666996",
     "status": "completed"
    },
    "tags": []
   },
   "outputs": [
    {
     "data": {
      "application/javascript": [
       "parent.postMessage({\"jupyterEvent\": \"custom.exercise_interaction\", \"data\": {\"outcomeType\": 1, \"valueTowardsCompletion\": 0.2, \"interactionType\": 1, \"questionType\": 2, \"questionId\": \"5_JustSubmitEx3\", \"learnToolsVersion\": \"0.3.4\", \"failureMessage\": \"\", \"exceptionClass\": \"\", \"trace\": \"\"}}, \"*\")"
      ],
      "text/plain": [
       "<IPython.core.display.Javascript object>"
      ]
     },
     "metadata": {},
     "output_type": "display_data"
    },
    {
     "data": {
      "text/markdown": [
       "<span style=\"color:#33cc33\">Thank you for creating an agent!</span>"
      ],
      "text/plain": [
       "Thank you for creating an agent!"
      ]
     },
     "metadata": {},
     "output_type": "display_data"
    }
   ],
   "source": [
    "# Run this code cell to get credit for creating an agent\n",
    "q_5.check()"
   ]
  },
  {
   "cell_type": "code",
   "execution_count": 12,
   "id": "ad89e10f",
   "metadata": {
    "execution": {
     "iopub.execute_input": "2024-05-25T23:22:33.701991Z",
     "iopub.status.busy": "2024-05-25T23:22:33.701592Z",
     "iopub.status.idle": "2024-05-25T23:22:33.710123Z",
     "shell.execute_reply": "2024-05-25T23:22:33.708767Z"
    },
    "papermill": {
     "duration": 0.01926,
     "end_time": "2024-05-25T23:22:33.712463",
     "exception": false,
     "start_time": "2024-05-25T23:22:33.693203",
     "status": "completed"
    },
    "tags": []
   },
   "outputs": [
    {
     "name": "stdout",
     "output_type": "stream",
     "text": [
      "<function my_agent at 0x7e8d672e6b90> written to submission.py\n"
     ]
    }
   ],
   "source": [
    "import inspect\n",
    "import os\n",
    "\n",
    "def write_agent_to_file(function, file):\n",
    "    with open(file, \"a\" if os.path.exists(file) else \"w\") as f:\n",
    "        f.write(inspect.getsource(function))\n",
    "        print(function, \"written to\", file)\n",
    "\n",
    "write_agent_to_file(my_agent, \"submission.py\")"
   ]
  },
  {
   "cell_type": "markdown",
   "id": "1c4db0c7",
   "metadata": {
    "papermill": {
     "duration": 0.006901,
     "end_time": "2024-05-25T23:22:33.726687",
     "exception": false,
     "start_time": "2024-05-25T23:22:33.719786",
     "status": "completed"
    },
    "tags": []
   },
   "source": [
    "Then, follow these steps to submit your agent to the competition:\n",
    "1. Begin by clicking on the **Save Version** button in the top right corner of the window.  This will generate a pop-up window.  \n",
    "2. Ensure that the **Save and Run All** option is selected, and then click on the **Save** button.\n",
    "3. This generates a window in the bottom left corner of the notebook.  After it has finished running, click on the number to the right of the **Save Version** button.  This pulls up a list of versions on the right of the screen.  Click on the ellipsis **(...)** to the right of the most recent version, and select **Open in Viewer**.  This brings you into view mode of the same page. You will need to scroll down to get back to these instructions.\n",
    "4. Click on the **Data** tab near the top of the screen.  Then, click on the file you would like to submit, and click on the **Submit** button to submit your results to the leaderboard.\n",
    "\n",
    "You have now successfully submitted to the competition!\n",
    "\n",
    "If you want to keep working to improve your performance, select the **Edit** button in the top right of the screen. Then you can change your code and repeat the process. There's a lot of room to improve, and you will climb up the leaderboard as you work.\n",
    "\n",
    "\n",
    "Go to **\"My Submissions\"** to view your score and episodes being played.\n",
    "\n",
    "# Keep going\n",
    "\n",
    "Move on to learn how to **[use deep reinforcement learning](https://www.kaggle.com/alexisbcook/deep-reinforcement-learning)** to develop an agent without a heuristic!"
   ]
  },
  {
   "cell_type": "markdown",
   "id": "71cac038",
   "metadata": {
    "papermill": {
     "duration": 0.006872,
     "end_time": "2024-05-25T23:22:33.740798",
     "exception": false,
     "start_time": "2024-05-25T23:22:33.733926",
     "status": "completed"
    },
    "tags": []
   },
   "source": [
    "---\n",
    "\n",
    "\n",
    "\n",
    "\n",
    "*Have questions or comments? Visit the [course discussion forum](https://www.kaggle.com/learn/intro-to-game-ai-and-reinforcement-learning/discussion) to chat with other learners.*"
   ]
  }
 ],
 "metadata": {
  "kaggle": {
   "accelerator": "none",
   "dataSources": [
    {
     "databundleVersionId": 899221,
     "sourceId": 17592,
     "sourceType": "competition"
    }
   ],
   "isGpuEnabled": false,
   "isInternetEnabled": false,
   "language": "python",
   "sourceType": "notebook"
  },
  "kernelspec": {
   "display_name": "Python 3",
   "language": "python",
   "name": "python3"
  },
  "language_info": {
   "codemirror_mode": {
    "name": "ipython",
    "version": 3
   },
   "file_extension": ".py",
   "mimetype": "text/x-python",
   "name": "python",
   "nbconvert_exporter": "python",
   "pygments_lexer": "ipython3",
   "version": "3.10.13"
  },
  "papermill": {
   "default_parameters": {},
   "duration": 4.412659,
   "end_time": "2024-05-25T23:22:34.168915",
   "environment_variables": {},
   "exception": null,
   "input_path": "__notebook__.ipynb",
   "output_path": "__notebook__.ipynb",
   "parameters": {},
   "start_time": "2024-05-25T23:22:29.756256",
   "version": "2.5.0"
  }
 },
 "nbformat": 4,
 "nbformat_minor": 5
}
