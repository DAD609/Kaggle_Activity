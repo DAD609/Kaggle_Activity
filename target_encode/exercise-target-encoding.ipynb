{
 "cells": [
  {
   "cell_type": "markdown",
   "id": "8f949f39",
   "metadata": {
    "papermill": {
     "duration": 0.006516,
     "end_time": "2024-05-25T23:35:08.357913",
     "exception": false,
     "start_time": "2024-05-25T23:35:08.351397",
     "status": "completed"
    },
    "tags": []
   },
   "source": [
    "**This notebook is an exercise in the [Feature Engineering](https://www.kaggle.com/learn/feature-engineering) course.  You can reference the tutorial at [this link](https://www.kaggle.com/ryanholbrook/target-encoding).**\n",
    "\n",
    "---\n"
   ]
  },
  {
   "cell_type": "markdown",
   "id": "eb784ce6",
   "metadata": {
    "papermill": {
     "duration": 0.006147,
     "end_time": "2024-05-25T23:35:08.370024",
     "exception": false,
     "start_time": "2024-05-25T23:35:08.363877",
     "status": "completed"
    },
    "tags": []
   },
   "source": [
    "# Introduction #\n",
    "\n",
    "In this exercise, you'll apply target encoding to features in the [*Ames*](https://www.kaggle.com/c/house-prices-advanced-regression-techniques/data) dataset.\n",
    "\n",
    "Run this cell to set everything up!"
   ]
  },
  {
   "cell_type": "code",
   "execution_count": 1,
   "id": "faf17494",
   "metadata": {
    "execution": {
     "iopub.execute_input": "2024-05-25T23:35:08.385609Z",
     "iopub.status.busy": "2024-05-25T23:35:08.384880Z",
     "iopub.status.idle": "2024-05-25T23:35:11.560470Z",
     "shell.execute_reply": "2024-05-25T23:35:11.559413Z"
    },
    "papermill": {
     "duration": 3.185133,
     "end_time": "2024-05-25T23:35:11.562856",
     "exception": false,
     "start_time": "2024-05-25T23:35:08.377723",
     "status": "completed"
    },
    "tags": []
   },
   "outputs": [
    {
     "name": "stderr",
     "output_type": "stream",
     "text": [
      "/tmp/ipykernel_18/3788892820.py:16: MatplotlibDeprecationWarning: The seaborn styles shipped by Matplotlib are deprecated since 3.6, as they no longer correspond to the styles shipped by seaborn. However, they will remain available as 'seaborn-v0_8-<style>'. Alternatively, directly use the seaborn API instead.\n",
      "  plt.style.use(\"seaborn-whitegrid\")\n"
     ]
    }
   ],
   "source": [
    "# Setup feedback system\n",
    "from learntools.core import binder\n",
    "binder.bind(globals())\n",
    "from learntools.feature_engineering_new.ex6 import *\n",
    "\n",
    "import matplotlib.pyplot as plt\n",
    "import numpy as np\n",
    "import pandas as pd\n",
    "import seaborn as sns\n",
    "import warnings\n",
    "from category_encoders import MEstimateEncoder\n",
    "from sklearn.model_selection import cross_val_score\n",
    "from xgboost import XGBRegressor\n",
    "\n",
    "# Set Matplotlib defaults\n",
    "plt.style.use(\"seaborn-whitegrid\")\n",
    "plt.rc(\"figure\", autolayout=True)\n",
    "plt.rc(\n",
    "    \"axes\",\n",
    "    labelweight=\"bold\",\n",
    "    labelsize=\"large\",\n",
    "    titleweight=\"bold\",\n",
    "    titlesize=14,\n",
    "    titlepad=10,\n",
    ")\n",
    "warnings.filterwarnings('ignore')\n",
    "\n",
    "\n",
    "def score_dataset(X, y, model=XGBRegressor()):\n",
    "    # Label encoding for categoricals\n",
    "    for colname in X.select_dtypes([\"category\", \"object\"]):\n",
    "        X[colname], _ = X[colname].factorize()\n",
    "    # Metric for Housing competition is RMSLE (Root Mean Squared Log Error)\n",
    "    score = cross_val_score(\n",
    "        model, X, y, cv=5, scoring=\"neg_mean_squared_log_error\",\n",
    "    )\n",
    "    score = -1 * score.mean()\n",
    "    score = np.sqrt(score)\n",
    "    return score\n",
    "\n",
    "\n",
    "df = pd.read_csv(\"../input/fe-course-data/ames.csv\")"
   ]
  },
  {
   "cell_type": "markdown",
   "id": "17341cc2",
   "metadata": {
    "papermill": {
     "duration": 0.006315,
     "end_time": "2024-05-25T23:35:11.575497",
     "exception": false,
     "start_time": "2024-05-25T23:35:11.569182",
     "status": "completed"
    },
    "tags": []
   },
   "source": [
    "-------------------------------------------------------------------------------\n",
    "\n",
    "First you'll need to choose which features you want to apply a target encoding to. Categorical features with a large number of categories are often good candidates. Run this cell to see how many categories each categorical feature in the *Ames* dataset has."
   ]
  },
  {
   "cell_type": "code",
   "execution_count": 2,
   "id": "e1e09ea9",
   "metadata": {
    "execution": {
     "iopub.execute_input": "2024-05-25T23:35:11.589207Z",
     "iopub.status.busy": "2024-05-25T23:35:11.588720Z",
     "iopub.status.idle": "2024-05-25T23:35:11.619194Z",
     "shell.execute_reply": "2024-05-25T23:35:11.618410Z"
    },
    "papermill": {
     "duration": 0.040017,
     "end_time": "2024-05-25T23:35:11.621326",
     "exception": false,
     "start_time": "2024-05-25T23:35:11.581309",
     "status": "completed"
    },
    "tags": []
   },
   "outputs": [
    {
     "data": {
      "text/plain": [
       "MSSubClass       16\n",
       "MSZoning          7\n",
       "Street            2\n",
       "Alley             3\n",
       "LotShape          4\n",
       "LandContour       4\n",
       "Utilities         3\n",
       "LotConfig         5\n",
       "LandSlope         3\n",
       "Neighborhood     28\n",
       "Condition1        9\n",
       "Condition2        8\n",
       "BldgType          5\n",
       "HouseStyle        8\n",
       "OverallQual      10\n",
       "OverallCond       9\n",
       "RoofStyle         6\n",
       "RoofMatl          8\n",
       "Exterior1st      16\n",
       "Exterior2nd      17\n",
       "MasVnrType        4\n",
       "ExterQual         4\n",
       "ExterCond         5\n",
       "Foundation        6\n",
       "BsmtQual          6\n",
       "BsmtCond          6\n",
       "BsmtExposure      5\n",
       "BsmtFinType1      7\n",
       "BsmtFinType2      7\n",
       "Heating           6\n",
       "HeatingQC         5\n",
       "CentralAir        2\n",
       "Electrical        6\n",
       "KitchenQual       5\n",
       "Functional        8\n",
       "FireplaceQu       6\n",
       "GarageType        7\n",
       "GarageFinish      4\n",
       "GarageQual        6\n",
       "GarageCond        6\n",
       "PavedDrive        3\n",
       "PoolQC            5\n",
       "Fence             5\n",
       "MiscFeature       5\n",
       "SaleType         10\n",
       "SaleCondition     6\n",
       "dtype: int64"
      ]
     },
     "execution_count": 2,
     "metadata": {},
     "output_type": "execute_result"
    }
   ],
   "source": [
    "df.select_dtypes([\"object\"]).nunique()"
   ]
  },
  {
   "cell_type": "markdown",
   "id": "877bdfcb",
   "metadata": {
    "papermill": {
     "duration": 0.005952,
     "end_time": "2024-05-25T23:35:11.633725",
     "exception": false,
     "start_time": "2024-05-25T23:35:11.627773",
     "status": "completed"
    },
    "tags": []
   },
   "source": [
    "We talked about how the M-estimate encoding uses smoothing to improve estimates for rare categories. To see how many times a category occurs in the dataset, you can use the `value_counts` method. This cell shows the counts for `SaleType`, but you might want to consider others as well."
   ]
  },
  {
   "cell_type": "code",
   "execution_count": 3,
   "id": "7face811",
   "metadata": {
    "execution": {
     "iopub.execute_input": "2024-05-25T23:35:11.647954Z",
     "iopub.status.busy": "2024-05-25T23:35:11.647529Z",
     "iopub.status.idle": "2024-05-25T23:35:11.657554Z",
     "shell.execute_reply": "2024-05-25T23:35:11.656855Z"
    },
    "papermill": {
     "duration": 0.019278,
     "end_time": "2024-05-25T23:35:11.659379",
     "exception": false,
     "start_time": "2024-05-25T23:35:11.640101",
     "status": "completed"
    },
    "tags": []
   },
   "outputs": [
    {
     "data": {
      "text/plain": [
       "SaleType\n",
       "WD       2536\n",
       "New       239\n",
       "COD        87\n",
       "ConLD      26\n",
       "CWD        12\n",
       "ConLI       9\n",
       "ConLw       8\n",
       "Oth         7\n",
       "Con         5\n",
       "VWD         1\n",
       "Name: count, dtype: int64"
      ]
     },
     "execution_count": 3,
     "metadata": {},
     "output_type": "execute_result"
    }
   ],
   "source": [
    "df[\"SaleType\"].value_counts()"
   ]
  },
  {
   "cell_type": "markdown",
   "id": "7693d04b",
   "metadata": {
    "papermill": {
     "duration": 0.006137,
     "end_time": "2024-05-25T23:35:11.671804",
     "exception": false,
     "start_time": "2024-05-25T23:35:11.665667",
     "status": "completed"
    },
    "tags": []
   },
   "source": [
    "# 1) Choose Features for Encoding\n",
    "\n",
    "Which features did you identify for target encoding? After you've thought about your answer, run the next cell for some discussion."
   ]
  },
  {
   "cell_type": "code",
   "execution_count": 4,
   "id": "1a4e7e02",
   "metadata": {
    "execution": {
     "iopub.execute_input": "2024-05-25T23:35:11.686028Z",
     "iopub.status.busy": "2024-05-25T23:35:11.685443Z",
     "iopub.status.idle": "2024-05-25T23:35:11.693580Z",
     "shell.execute_reply": "2024-05-25T23:35:11.692457Z"
    },
    "papermill": {
     "duration": 0.01759,
     "end_time": "2024-05-25T23:35:11.695509",
     "exception": false,
     "start_time": "2024-05-25T23:35:11.677919",
     "status": "completed"
    },
    "tags": []
   },
   "outputs": [
    {
     "data": {
      "application/javascript": [
       "parent.postMessage({\"jupyterEvent\": \"custom.exercise_interaction\", \"data\": {\"outcomeType\": 1, \"valueTowardsCompletion\": 0.3333333333333333, \"interactionType\": 1, \"questionType\": 4, \"questionId\": \"1_Q1\", \"learnToolsVersion\": \"0.3.4\", \"failureMessage\": \"\", \"exceptionClass\": \"\", \"trace\": \"\"}}, \"*\")"
      ],
      "text/plain": [
       "<IPython.core.display.Javascript object>"
      ]
     },
     "metadata": {},
     "output_type": "display_data"
    },
    {
     "data": {
      "text/markdown": [
       "<span style=\"color:#33cc33\">Correct:</span> \n",
       "\n",
       " The `Neighborhood` feature looks promising. It has the most categories of any feature, and several categories are rare. Others that could be worth considering are `SaleType`, `MSSubClass`, `Exterior1st`, `Exterior2nd`. In fact, almost any of the nominal features would be worth trying because of the prevalence of rare categories."
      ],
      "text/plain": [
       "Correct: \n",
       "\n",
       " The `Neighborhood` feature looks promising. It has the most categories of any feature, and several categories are rare. Others that could be worth considering are `SaleType`, `MSSubClass`, `Exterior1st`, `Exterior2nd`. In fact, almost any of the nominal features would be worth trying because of the prevalence of rare categories."
      ]
     },
     "metadata": {},
     "output_type": "display_data"
    }
   ],
   "source": [
    "# View the solution (Run this cell to receive credit!)\n",
    "q_1.check()"
   ]
  },
  {
   "cell_type": "markdown",
   "id": "b669528e",
   "metadata": {
    "papermill": {
     "duration": 0.006122,
     "end_time": "2024-05-25T23:35:11.709134",
     "exception": false,
     "start_time": "2024-05-25T23:35:11.703012",
     "status": "completed"
    },
    "tags": []
   },
   "source": [
    "-------------------------------------------------------------------------------\n",
    "\n",
    "Now you'll apply a target encoding to your choice of feature. As we discussed in the tutorial, to avoid overfitting, we need to fit the encoder on data heldout from the training set. Run this cell to create the encoding and training splits:"
   ]
  },
  {
   "cell_type": "code",
   "execution_count": 5,
   "id": "13f7d2f2",
   "metadata": {
    "execution": {
     "iopub.execute_input": "2024-05-25T23:35:11.724173Z",
     "iopub.status.busy": "2024-05-25T23:35:11.723154Z",
     "iopub.status.idle": "2024-05-25T23:35:11.739077Z",
     "shell.execute_reply": "2024-05-25T23:35:11.738168Z"
    },
    "lines_to_next_cell": 2,
    "papermill": {
     "duration": 0.025898,
     "end_time": "2024-05-25T23:35:11.741462",
     "exception": false,
     "start_time": "2024-05-25T23:35:11.715564",
     "status": "completed"
    },
    "tags": []
   },
   "outputs": [],
   "source": [
    "# Encoding split\n",
    "X_encode = df.sample(frac=0.20, random_state=0)\n",
    "y_encode = X_encode.pop(\"SalePrice\")\n",
    "\n",
    "# Training split\n",
    "X_pretrain = df.drop(X_encode.index)\n",
    "y_train = X_pretrain.pop(\"SalePrice\")"
   ]
  },
  {
   "cell_type": "markdown",
   "id": "f2012a81",
   "metadata": {
    "papermill": {
     "duration": 0.00619,
     "end_time": "2024-05-25T23:35:11.754230",
     "exception": false,
     "start_time": "2024-05-25T23:35:11.748040",
     "status": "completed"
    },
    "tags": []
   },
   "source": [
    "# 2) Apply M-Estimate Encoding\n",
    "\n",
    "Apply a target encoding to your choice of categorical features. Also choose a value for the smoothing parameter `m` (any value is okay for a correct answer)."
   ]
  },
  {
   "cell_type": "code",
   "execution_count": 6,
   "id": "05f359c0",
   "metadata": {
    "execution": {
     "iopub.execute_input": "2024-05-25T23:35:11.769551Z",
     "iopub.status.busy": "2024-05-25T23:35:11.768888Z",
     "iopub.status.idle": "2024-05-25T23:35:11.839172Z",
     "shell.execute_reply": "2024-05-25T23:35:11.838119Z"
    },
    "lines_to_next_cell": 0,
    "papermill": {
     "duration": 0.080631,
     "end_time": "2024-05-25T23:35:11.841652",
     "exception": false,
     "start_time": "2024-05-25T23:35:11.761021",
     "status": "completed"
    },
    "tags": []
   },
   "outputs": [
    {
     "data": {
      "application/javascript": [
       "parent.postMessage({\"jupyterEvent\": \"custom.exercise_interaction\", \"data\": {\"outcomeType\": 1, \"valueTowardsCompletion\": 0.3333333333333333, \"interactionType\": 1, \"questionType\": 2, \"questionId\": \"2_Q2\", \"learnToolsVersion\": \"0.3.4\", \"failureMessage\": \"\", \"exceptionClass\": \"\", \"trace\": \"\"}}, \"*\")"
      ],
      "text/plain": [
       "<IPython.core.display.Javascript object>"
      ]
     },
     "metadata": {},
     "output_type": "display_data"
    },
    {
     "data": {
      "text/markdown": [
       "<span style=\"color:#33cc33\">Correct</span>"
      ],
      "text/plain": [
       "Correct"
      ]
     },
     "metadata": {},
     "output_type": "display_data"
    }
   ],
   "source": [
    "# YOUR CODE HERE: Create the MEstimateEncoder\n",
    "# Choose a set of features to encode and a value for m\n",
    "encoder =  MEstimateEncoder(cols=[\"Neighborhood\"], m=0.707)\n",
    "\n",
    "\n",
    "# Fit the encoder on the encoding split\n",
    "encoder.fit(X_encode,y_encode)\n",
    "\n",
    "# Encode the training split\n",
    "X_train = encoder.transform(X_pretrain, y_train)\n",
    "\n",
    "\n",
    "# Check your answer\n",
    "q_2.check()"
   ]
  },
  {
   "cell_type": "code",
   "execution_count": 7,
   "id": "fae21b18",
   "metadata": {
    "execution": {
     "iopub.execute_input": "2024-05-25T23:35:11.856899Z",
     "iopub.status.busy": "2024-05-25T23:35:11.856295Z",
     "iopub.status.idle": "2024-05-25T23:35:11.864095Z",
     "shell.execute_reply": "2024-05-25T23:35:11.863124Z"
    },
    "lines_to_next_cell": 0,
    "papermill": {
     "duration": 0.017851,
     "end_time": "2024-05-25T23:35:11.866179",
     "exception": false,
     "start_time": "2024-05-25T23:35:11.848328",
     "status": "completed"
    },
    "tags": []
   },
   "outputs": [
    {
     "data": {
      "application/javascript": [
       "parent.postMessage({\"jupyterEvent\": \"custom.exercise_interaction\", \"data\": {\"interactionType\": 3, \"questionType\": 2, \"questionId\": \"2_Q2\", \"learnToolsVersion\": \"0.3.4\", \"valueTowardsCompletion\": 0.0, \"failureMessage\": \"\", \"exceptionClass\": \"\", \"trace\": \"\", \"outcomeType\": 4}}, \"*\")"
      ],
      "text/plain": [
       "<IPython.core.display.Javascript object>"
      ]
     },
     "metadata": {},
     "output_type": "display_data"
    },
    {
     "data": {
      "text/markdown": [
       "<span style=\"color:#33cc99\">Solution:</span> \n",
       "```python\n",
       "\n",
       "encoder = MEstimateEncoder(\n",
       "    cols=[\"Neighborhood\"],\n",
       "    m=1.0,\n",
       ")\n",
       "\n",
       "\n",
       "# Fit the encoder on the encoding split\n",
       "encoder.fit(X_encode, y_encode)\n",
       "\n",
       "# Encode the training split\n",
       "X_train = encoder.transform(X_pretrain, y_train)\n",
       "\n",
       "```"
      ],
      "text/plain": [
       "Solution: \n",
       "```python\n",
       "\n",
       "encoder = MEstimateEncoder(\n",
       "    cols=[\"Neighborhood\"],\n",
       "    m=1.0,\n",
       ")\n",
       "\n",
       "\n",
       "# Fit the encoder on the encoding split\n",
       "encoder.fit(X_encode, y_encode)\n",
       "\n",
       "# Encode the training split\n",
       "X_train = encoder.transform(X_pretrain, y_train)\n",
       "\n",
       "```"
      ]
     },
     "metadata": {},
     "output_type": "display_data"
    }
   ],
   "source": [
    "# Lines below will give you a hint or solution code\n",
    "#q_2.hint()\n",
    "q_2.solution()"
   ]
  },
  {
   "cell_type": "markdown",
   "id": "1a421f59",
   "metadata": {
    "papermill": {
     "duration": 0.006885,
     "end_time": "2024-05-25T23:35:11.880074",
     "exception": false,
     "start_time": "2024-05-25T23:35:11.873189",
     "status": "completed"
    },
    "tags": []
   },
   "source": [
    "If you'd like to see how the encoded feature compares to the target, you can run this cell:"
   ]
  },
  {
   "cell_type": "code",
   "execution_count": 8,
   "id": "828724c5",
   "metadata": {
    "execution": {
     "iopub.execute_input": "2024-05-25T23:35:11.896693Z",
     "iopub.status.busy": "2024-05-25T23:35:11.896235Z",
     "iopub.status.idle": "2024-05-25T23:35:12.368984Z",
     "shell.execute_reply": "2024-05-25T23:35:12.368063Z"
    },
    "papermill": {
     "duration": 0.483596,
     "end_time": "2024-05-25T23:35:12.371105",
     "exception": false,
     "start_time": "2024-05-25T23:35:11.887509",
     "status": "completed"
    },
    "tags": []
   },
   "outputs": [
    {
     "data": {
      "image/png": "[encoded data removed]",
      "text/plain": [
       "<Figure size 576x432 with 1 Axes>"
      ]
     },
     "metadata": {},
     "output_type": "display_data"
    }
   ],
   "source": [
    "feature = encoder.cols\n",
    "\n",
    "plt.figure(dpi=90)\n",
    "ax = sns.distplot(y_train, kde=True, hist=False)\n",
    "ax = sns.distplot(X_train[feature], color='r', ax=ax, hist=True, kde=False, norm_hist=True)\n",
    "ax.set_xlabel(\"SalePrice\");"
   ]
  },
  {
   "cell_type": "markdown",
   "id": "e21d42e2",
   "metadata": {
    "papermill": {
     "duration": 0.007088,
     "end_time": "2024-05-25T23:35:12.385554",
     "exception": false,
     "start_time": "2024-05-25T23:35:12.378466",
     "status": "completed"
    },
    "tags": []
   },
   "source": [
    "From the distribution plots, does it seem like the encoding is informative?\n",
    "\n",
    "And this cell will show you the score of the encoded set compared to the original set:"
   ]
  },
  {
   "cell_type": "code",
   "execution_count": 9,
   "id": "422f55df",
   "metadata": {
    "execution": {
     "iopub.execute_input": "2024-05-25T23:35:12.403457Z",
     "iopub.status.busy": "2024-05-25T23:35:12.402639Z",
     "iopub.status.idle": "2024-05-25T23:35:16.480985Z",
     "shell.execute_reply": "2024-05-25T23:35:16.479736Z"
    },
    "papermill": {
     "duration": 4.089136,
     "end_time": "2024-05-25T23:35:16.483250",
     "exception": false,
     "start_time": "2024-05-25T23:35:12.394114",
     "status": "completed"
    },
    "tags": []
   },
   "outputs": [
    {
     "name": "stdout",
     "output_type": "stream",
     "text": [
      "Baseline Score: 0.1434 RMSLE\n",
      "Score with Encoding: 0.1446 RMSLE\n"
     ]
    }
   ],
   "source": [
    "X = df.copy()\n",
    "y = X.pop(\"SalePrice\")\n",
    "score_base = score_dataset(X, y)\n",
    "score_new = score_dataset(X_train, y_train)\n",
    "\n",
    "print(f\"Baseline Score: {score_base:.4f} RMSLE\")\n",
    "print(f\"Score with Encoding: {score_new:.4f} RMSLE\")"
   ]
  },
  {
   "cell_type": "markdown",
   "id": "5faae4cb",
   "metadata": {
    "papermill": {
     "duration": 0.007449,
     "end_time": "2024-05-25T23:35:16.498262",
     "exception": false,
     "start_time": "2024-05-25T23:35:16.490813",
     "status": "completed"
    },
    "tags": []
   },
   "source": [
    "Do you think that target encoding was worthwhile in this case? Depending on which feature or features you chose, you may have ended up with a score significantly worse than the baseline. In that case, it's likely the extra information gained by the encoding couldn't make up for the loss of data used for the encoding."
   ]
  },
  {
   "cell_type": "markdown",
   "id": "e0d3a211",
   "metadata": {
    "papermill": {
     "duration": 0.007539,
     "end_time": "2024-05-25T23:35:16.513142",
     "exception": false,
     "start_time": "2024-05-25T23:35:16.505603",
     "status": "completed"
    },
    "tags": []
   },
   "source": [
    "-------------------------------------------------------------------------------\n",
    "\n",
    "In this question, you'll explore the problem of overfitting with target encodings. This will illustrate this importance of training fitting target encoders on data held-out from the training set.\n",
    "\n",
    "So let's see what happens when we fit the encoder and the model on the *same* dataset. To emphasize how dramatic the overfitting can be, we'll mean-encode a feature that should have no relationship with `SalePrice`, a count: `0, 1, 2, 3, 4, 5, ...`."
   ]
  },
  {
   "cell_type": "code",
   "execution_count": 10,
   "id": "7cefbc0d",
   "metadata": {
    "execution": {
     "iopub.execute_input": "2024-05-25T23:35:16.529571Z",
     "iopub.status.busy": "2024-05-25T23:35:16.529174Z",
     "iopub.status.idle": "2024-05-25T23:35:18.457321Z",
     "shell.execute_reply": "2024-05-25T23:35:18.455920Z"
    },
    "papermill": {
     "duration": 1.939318,
     "end_time": "2024-05-25T23:35:18.459719",
     "exception": false,
     "start_time": "2024-05-25T23:35:16.520401",
     "status": "completed"
    },
    "tags": []
   },
   "outputs": [
    {
     "name": "stdout",
     "output_type": "stream",
     "text": [
      "Score: 0.0362 RMSLE\n"
     ]
    }
   ],
   "source": [
    "# Try experimenting with the smoothing parameter m\n",
    "# Try 0, 1, 5, 50\n",
    "m = 50\n",
    "\n",
    "X = df.copy()\n",
    "y = X.pop('SalePrice')\n",
    "\n",
    "# Create an uninformative feature\n",
    "X[\"Count\"] = range(len(X))\n",
    "X[\"Count\"][1] = 0  # actually need one duplicate value to circumvent error-checking in MEstimateEncoder\n",
    "\n",
    "# fit and transform on the same dataset\n",
    "encoder = MEstimateEncoder(cols=\"Count\", m=m)\n",
    "X = encoder.fit_transform(X, y)\n",
    "\n",
    "# Results\n",
    "score =  score_dataset(X, y)\n",
    "print(f\"Score: {score:.4f} RMSLE\")"
   ]
  },
  {
   "cell_type": "markdown",
   "id": "87557baf",
   "metadata": {
    "papermill": {
     "duration": 0.007301,
     "end_time": "2024-05-25T23:35:18.474784",
     "exception": false,
     "start_time": "2024-05-25T23:35:18.467483",
     "status": "completed"
    },
    "tags": []
   },
   "source": [
    "Almost a perfect score!"
   ]
  },
  {
   "cell_type": "code",
   "execution_count": 11,
   "id": "35fbe0d8",
   "metadata": {
    "execution": {
     "iopub.execute_input": "2024-05-25T23:35:18.492018Z",
     "iopub.status.busy": "2024-05-25T23:35:18.491618Z",
     "iopub.status.idle": "2024-05-25T23:35:18.981089Z",
     "shell.execute_reply": "2024-05-25T23:35:18.979990Z"
    },
    "papermill": {
     "duration": 0.500523,
     "end_time": "2024-05-25T23:35:18.983363",
     "exception": false,
     "start_time": "2024-05-25T23:35:18.482840",
     "status": "completed"
    },
    "tags": []
   },
   "outputs": [
    {
     "data": {
      "image/png": "[encoded data removed]",
      "text/plain": [
       "<Figure size 576x432 with 1 Axes>"
      ]
     },
     "metadata": {},
     "output_type": "display_data"
    }
   ],
   "source": [
    "plt.figure(dpi=90)\n",
    "ax = sns.distplot(y, kde=True, hist=False)\n",
    "ax = sns.distplot(X[\"Count\"], color='r', ax=ax, hist=True, kde=False, norm_hist=True)\n",
    "ax.set_xlabel(\"SalePrice\");"
   ]
  },
  {
   "cell_type": "markdown",
   "id": "8dffd4f7",
   "metadata": {
    "papermill": {
     "duration": 0.007615,
     "end_time": "2024-05-25T23:35:18.999204",
     "exception": false,
     "start_time": "2024-05-25T23:35:18.991589",
     "status": "completed"
    },
    "tags": []
   },
   "source": [
    "And the distributions are almost exactly the same, too.\n",
    "\n",
    "# 3) Overfitting with Target Encoders\n",
    "\n",
    "Based on your understanding of how mean-encoding works, can you explain how XGBoost was able to get an almost a perfect fit after mean-encoding the count feature?"
   ]
  },
  {
   "cell_type": "code",
   "execution_count": 12,
   "id": "cb0b7a16",
   "metadata": {
    "execution": {
     "iopub.execute_input": "2024-05-25T23:35:19.016315Z",
     "iopub.status.busy": "2024-05-25T23:35:19.015897Z",
     "iopub.status.idle": "2024-05-25T23:35:19.024972Z",
     "shell.execute_reply": "2024-05-25T23:35:19.023673Z"
    },
    "lines_to_next_cell": 0,
    "papermill": {
     "duration": 0.0205,
     "end_time": "2024-05-25T23:35:19.027354",
     "exception": false,
     "start_time": "2024-05-25T23:35:19.006854",
     "status": "completed"
    },
    "tags": []
   },
   "outputs": [
    {
     "data": {
      "application/javascript": [
       "parent.postMessage({\"jupyterEvent\": \"custom.exercise_interaction\", \"data\": {\"outcomeType\": 1, \"valueTowardsCompletion\": 0.3333333333333333, \"interactionType\": 1, \"questionType\": 4, \"questionId\": \"3_Q3\", \"learnToolsVersion\": \"0.3.4\", \"failureMessage\": \"\", \"exceptionClass\": \"\", \"trace\": \"\"}}, \"*\")"
      ],
      "text/plain": [
       "<IPython.core.display.Javascript object>"
      ]
     },
     "metadata": {},
     "output_type": "display_data"
    },
    {
     "data": {
      "text/markdown": [
       "<span style=\"color:#33cc33\">Correct:</span> \n",
       "\n",
       "\n",
       "Since `Count` never has any duplicate values, the mean-encoded `Count` is essentially an exact copy of the target. In other words, mean-encoding turned a completely meaningless feature into a perfect feature.\n",
       "\n",
       "Now, the only reason this worked is because we trained XGBoost on the same set we used to train the encoder. If we had used a hold-out set instead, none of this \"fake\" encoding would have transferred to the training data.\n",
       "\n",
       "The lesson is that when using a target encoder it's very important to use separate data sets for training the encoder and training the model. Otherwise the results can be very disappointing!\n"
      ],
      "text/plain": [
       "Correct: \n",
       "\n",
       "\n",
       "Since `Count` never has any duplicate values, the mean-encoded `Count` is essentially an exact copy of the target. In other words, mean-encoding turned a completely meaningless feature into a perfect feature.\n",
       "\n",
       "Now, the only reason this worked is because we trained XGBoost on the same set we used to train the encoder. If we had used a hold-out set instead, none of this \"fake\" encoding would have transferred to the training data.\n",
       "\n",
       "The lesson is that when using a target encoder it's very important to use separate data sets for training the encoder and training the model. Otherwise the results can be very disappointing!"
      ]
     },
     "metadata": {},
     "output_type": "display_data"
    }
   ],
   "source": [
    "# View the solution (Run this cell to receive credit!)\n",
    "q_3.check()"
   ]
  },
  {
   "cell_type": "code",
   "execution_count": 13,
   "id": "8df0c86a",
   "metadata": {
    "execution": {
     "iopub.execute_input": "2024-05-25T23:35:19.045414Z",
     "iopub.status.busy": "2024-05-25T23:35:19.045015Z",
     "iopub.status.idle": "2024-05-25T23:35:19.054989Z",
     "shell.execute_reply": "2024-05-25T23:35:19.053886Z"
    },
    "papermill": {
     "duration": 0.02161,
     "end_time": "2024-05-25T23:35:19.057201",
     "exception": false,
     "start_time": "2024-05-25T23:35:19.035591",
     "status": "completed"
    },
    "tags": []
   },
   "outputs": [
    {
     "data": {
      "application/javascript": [
       "parent.postMessage({\"jupyterEvent\": \"custom.exercise_interaction\", \"data\": {\"interactionType\": 2, \"questionType\": 4, \"questionId\": \"3_Q3\", \"learnToolsVersion\": \"0.3.4\", \"valueTowardsCompletion\": 0.0, \"failureMessage\": \"\", \"exceptionClass\": \"\", \"trace\": \"\", \"outcomeType\": 4}}, \"*\")"
      ],
      "text/plain": [
       "<IPython.core.display.Javascript object>"
      ]
     },
     "metadata": {},
     "output_type": "display_data"
    },
    {
     "data": {
      "text/markdown": [
       "<span style=\"color:#3366cc\">Hint:</span> \n",
       "Suppose you had a dataset like:\n",
       "\n",
       "| Count | Target |\n",
       "|-------|--------|\n",
       "| 0     | 10     |\n",
       "| 1     | 5      |\n",
       "| 2     | 30     |\n",
       "| 3     | 22     |\n",
       "\n",
       "What is the mean value of Target when Count is equal to 0? It's 10, since 0 only occurs in the first row. So what would be the result of mean-encoding Count, knowing that Count never has any duplicate values?\n"
      ],
      "text/plain": [
       "Hint: \n",
       "Suppose you had a dataset like:\n",
       "\n",
       "| Count | Target |\n",
       "|-------|--------|\n",
       "| 0     | 10     |\n",
       "| 1     | 5      |\n",
       "| 2     | 30     |\n",
       "| 3     | 22     |\n",
       "\n",
       "What is the mean value of Target when Count is equal to 0? It's 10, since 0 only occurs in the first row. So what would be the result of mean-encoding Count, knowing that Count never has any duplicate values?"
      ]
     },
     "metadata": {},
     "output_type": "display_data"
    }
   ],
   "source": [
    "# Uncomment this if you'd like a hint before seeing the answer\n",
    "q_3.hint()"
   ]
  },
  {
   "cell_type": "markdown",
   "id": "3b8429d2",
   "metadata": {
    "papermill": {
     "duration": 0.008274,
     "end_time": "2024-05-25T23:35:19.074413",
     "exception": false,
     "start_time": "2024-05-25T23:35:19.066139",
     "status": "completed"
    },
    "tags": []
   },
   "source": [
    "# The End #\n",
    "\n",
    "That's it for *Feature Engineering*! We hope you enjoyed your time with us.\n",
    "\n",
    "Now, are you ready to try out your new skills? Now would be a great time to join our [Housing Prices](https://www.kaggle.com/c/house-prices-advanced-regression-techniques) Getting Started competition. We've even prepared a [Bonus Lesson](https://www.kaggle.com/ryanholbrook/feature-engineering-for-house-prices) that collects all the work we've done together into a starter notebook.\n",
    "\n",
    "# References #\n",
    "Here are some great resources you might like to consult for more information. They all played a part in shaping this course:\n",
    "- *The Art of Feature Engineering*, a book by Pablo Duboue.\n",
    "- *An Empirical Analysis of Feature Engineering for Predictive Modeling*, an article by Jeff Heaton.\n",
    "- *Feature Engineering for Machine Learning*, a book by Alice Zheng and Amanda Casari. The tutorial on clustering was inspired by this excellent book.\n",
    "- *Feature Engineering and Selection*, a book by Max Kuhn and Kjell Johnson."
   ]
  },
  {
   "cell_type": "markdown",
   "id": "d44ef75d",
   "metadata": {
    "papermill": {
     "duration": 0.007983,
     "end_time": "2024-05-25T23:35:19.090771",
     "exception": false,
     "start_time": "2024-05-25T23:35:19.082788",
     "status": "completed"
    },
    "tags": []
   },
   "source": [
    "---\n",
    "\n",
    "\n",
    "\n",
    "\n",
    "*Have questions or comments? Visit the [course discussion forum](https://www.kaggle.com/learn/feature-engineering/discussion) to chat with other learners.*"
   ]
  }
 ],
 "metadata": {
  "jupytext": {
   "cell_metadata_filter": "-all",
   "formats": "ipynb"
  },
  "kaggle": {
   "accelerator": "none",
   "dataSources": [
    {
     "datasetId": 933090,
     "sourceId": 1828856,
     "sourceType": "datasetVersion"
    }
   ],
   "isGpuEnabled": false,
   "isInternetEnabled": false,
   "language": "python",
   "sourceType": "notebook"
  },
  "kernelspec": {
   "display_name": "Python 3",
   "language": "python",
   "name": "python3"
  },
  "language_info": {
   "codemirror_mode": {
    "name": "ipython",
    "version": 3
   },
   "file_extension": ".py",
   "mimetype": "text/x-python",
   "name": "python",
   "nbconvert_exporter": "python",
   "pygments_lexer": "ipython3",
   "version": "3.10.13"
  },
  "papermill": {
   "default_parameters": {},
   "duration": 14.026794,
   "end_time": "2024-05-25T23:35:19.720025",
   "environment_variables": {},
   "exception": null,
   "input_path": "__notebook__.ipynb",
   "output_path": "__notebook__.ipynb",
   "parameters": {},
   "start_time": "2024-05-25T23:35:05.693231",
   "version": "2.5.0"
  }
 },
 "nbformat": 4,
 "nbformat_minor": 5
}
